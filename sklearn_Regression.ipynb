{
  "nbformat": 4,
  "nbformat_minor": 0,
  "metadata": {
    "colab": {
      "name": "sklearn_Regression.ipynb",
      "provenance": [],
      "authorship_tag": "ABX9TyNY8G+GLjJXQidMhlYOWISG",
      "include_colab_link": true
    },
    "kernelspec": {
      "name": "python3",
      "display_name": "Python 3"
    }
  },
  "cells": [
    {
      "cell_type": "markdown",
      "metadata": {
        "id": "view-in-github",
        "colab_type": "text"
      },
      "source": [
        "<a href=\"https://colab.research.google.com/github/jungmin0710/K-digital-PythonMachineLearning/blob/main/sklearn_Regression.ipynb\" target=\"_parent\"><img src=\"https://colab.research.google.com/assets/colab-badge.svg\" alt=\"Open In Colab\"/></a>"
      ]
    },
    {
      "cell_type": "markdown",
      "metadata": {
        "id": "jiLhrTW8f9Rr"
      },
      "source": [
        "# sklearn Regression - 수치예측"
      ]
    },
    {
      "cell_type": "code",
      "metadata": {
        "id": "ZrEMN8aKfoFC"
      },
      "source": [
        "import warnings\r\n",
        "warnings.filterwarnings('ignore')"
      ],
      "execution_count": 3,
      "outputs": []
    },
    {
      "cell_type": "markdown",
      "metadata": {
        "id": "IMAhkpRTgIna"
      },
      "source": [
        "## 실습용 데이터 설정\r\n",
        "* pandas DataFrame\r\n",
        "  * Insurance.csv"
      ]
    },
    {
      "cell_type": "code",
      "metadata": {
        "colab": {
          "base_uri": "https://localhost:8080/"
        },
        "id": "9VwhdM50gHag",
        "outputId": "297649e1-121a-4faf-92ba-236c4069e69e"
      },
      "source": [
        "import pandas as pd\r\n",
        "\r\n",
        "DF = pd.read_csv('https://raw.githubusercontent.com/rusita-ai/pyData/master/Insurance.csv')\r\n",
        "\r\n",
        "DF.info()"
      ],
      "execution_count": 4,
      "outputs": [
        {
          "output_type": "stream",
          "text": [
            "<class 'pandas.core.frame.DataFrame'>\n",
            "RangeIndex: 1338 entries, 0 to 1337\n",
            "Data columns (total 7 columns):\n",
            " #   Column    Non-Null Count  Dtype  \n",
            "---  ------    --------------  -----  \n",
            " 0   age       1338 non-null   int64  \n",
            " 1   sex       1338 non-null   object \n",
            " 2   bmi       1338 non-null   float64\n",
            " 3   children  1338 non-null   int64  \n",
            " 4   smoker    1338 non-null   object \n",
            " 5   region    1338 non-null   object \n",
            " 6   expenses  1338 non-null   float64\n",
            "dtypes: float64(2), int64(2), object(3)\n",
            "memory usage: 73.3+ KB\n"
          ],
          "name": "stdout"
        }
      ]
    },
    {
      "cell_type": "code",
      "metadata": {
        "colab": {
          "base_uri": "https://localhost:8080/",
          "height": 142
        },
        "id": "2k3VBWDdgpN4",
        "outputId": "598eabdd-1706-4433-91cf-6d5d375ce3ca"
      },
      "source": [
        "DF.head(3)"
      ],
      "execution_count": 5,
      "outputs": [
        {
          "output_type": "execute_result",
          "data": {
            "text/html": [
              "<div>\n",
              "<style scoped>\n",
              "    .dataframe tbody tr th:only-of-type {\n",
              "        vertical-align: middle;\n",
              "    }\n",
              "\n",
              "    .dataframe tbody tr th {\n",
              "        vertical-align: top;\n",
              "    }\n",
              "\n",
              "    .dataframe thead th {\n",
              "        text-align: right;\n",
              "    }\n",
              "</style>\n",
              "<table border=\"1\" class=\"dataframe\">\n",
              "  <thead>\n",
              "    <tr style=\"text-align: right;\">\n",
              "      <th></th>\n",
              "      <th>age</th>\n",
              "      <th>sex</th>\n",
              "      <th>bmi</th>\n",
              "      <th>children</th>\n",
              "      <th>smoker</th>\n",
              "      <th>region</th>\n",
              "      <th>expenses</th>\n",
              "    </tr>\n",
              "  </thead>\n",
              "  <tbody>\n",
              "    <tr>\n",
              "      <th>0</th>\n",
              "      <td>19</td>\n",
              "      <td>female</td>\n",
              "      <td>27.90</td>\n",
              "      <td>0</td>\n",
              "      <td>yes</td>\n",
              "      <td>southwest</td>\n",
              "      <td>16884.9240</td>\n",
              "    </tr>\n",
              "    <tr>\n",
              "      <th>1</th>\n",
              "      <td>18</td>\n",
              "      <td>male</td>\n",
              "      <td>33.77</td>\n",
              "      <td>1</td>\n",
              "      <td>no</td>\n",
              "      <td>southeast</td>\n",
              "      <td>1725.5523</td>\n",
              "    </tr>\n",
              "    <tr>\n",
              "      <th>2</th>\n",
              "      <td>28</td>\n",
              "      <td>male</td>\n",
              "      <td>33.00</td>\n",
              "      <td>3</td>\n",
              "      <td>no</td>\n",
              "      <td>southeast</td>\n",
              "      <td>4449.4620</td>\n",
              "    </tr>\n",
              "  </tbody>\n",
              "</table>\n",
              "</div>"
            ],
            "text/plain": [
              "   age     sex    bmi  children smoker     region    expenses\n",
              "0   19  female  27.90         0    yes  southwest  16884.9240\n",
              "1   18    male  33.77         1     no  southeast   1725.5523\n",
              "2   28    male  33.00         3     no  southeast   4449.4620"
            ]
          },
          "metadata": {
            "tags": []
          },
          "execution_count": 5
        }
      ]
    },
    {
      "cell_type": "markdown",
      "metadata": {
        "id": "2gSLBR4rgr7n"
      },
      "source": [
        "> 1) 분석 변수 선택\r\n",
        "* X : 'age','bmi','chileren'\r\n",
        "* y : 'expenses'"
      ]
    },
    {
      "cell_type": "code",
      "metadata": {
        "colab": {
          "base_uri": "https://localhost:8080/",
          "height": 142
        },
        "id": "6TPyD1y3gq9L",
        "outputId": "18a7c4a2-1f92-4f9f-cba8-ba6cffa37548"
      },
      "source": [
        "DF1 = DF[['expenses','age','bmi','children']]\r\n",
        "\r\n",
        "DF1.head(3)"
      ],
      "execution_count": 6,
      "outputs": [
        {
          "output_type": "execute_result",
          "data": {
            "text/html": [
              "<div>\n",
              "<style scoped>\n",
              "    .dataframe tbody tr th:only-of-type {\n",
              "        vertical-align: middle;\n",
              "    }\n",
              "\n",
              "    .dataframe tbody tr th {\n",
              "        vertical-align: top;\n",
              "    }\n",
              "\n",
              "    .dataframe thead th {\n",
              "        text-align: right;\n",
              "    }\n",
              "</style>\n",
              "<table border=\"1\" class=\"dataframe\">\n",
              "  <thead>\n",
              "    <tr style=\"text-align: right;\">\n",
              "      <th></th>\n",
              "      <th>expenses</th>\n",
              "      <th>age</th>\n",
              "      <th>bmi</th>\n",
              "      <th>children</th>\n",
              "    </tr>\n",
              "  </thead>\n",
              "  <tbody>\n",
              "    <tr>\n",
              "      <th>0</th>\n",
              "      <td>16884.9240</td>\n",
              "      <td>19</td>\n",
              "      <td>27.90</td>\n",
              "      <td>0</td>\n",
              "    </tr>\n",
              "    <tr>\n",
              "      <th>1</th>\n",
              "      <td>1725.5523</td>\n",
              "      <td>18</td>\n",
              "      <td>33.77</td>\n",
              "      <td>1</td>\n",
              "    </tr>\n",
              "    <tr>\n",
              "      <th>2</th>\n",
              "      <td>4449.4620</td>\n",
              "      <td>28</td>\n",
              "      <td>33.00</td>\n",
              "      <td>3</td>\n",
              "    </tr>\n",
              "  </tbody>\n",
              "</table>\n",
              "</div>"
            ],
            "text/plain": [
              "     expenses  age    bmi  children\n",
              "0  16884.9240   19  27.90         0\n",
              "1   1725.5523   18  33.77         1\n",
              "2   4449.4620   28  33.00         3"
            ]
          },
          "metadata": {
            "tags": []
          },
          "execution_count": 6
        }
      ]
    },
    {
      "cell_type": "markdown",
      "metadata": {
        "id": "08jeSjPFg5p2"
      },
      "source": [
        "> 2) Train & Test Split\r\n",
        "* 7:3"
      ]
    },
    {
      "cell_type": "code",
      "metadata": {
        "colab": {
          "base_uri": "https://localhost:8080/"
        },
        "id": "Dp1IfQo8g4ah",
        "outputId": "4f79c124-3ada-4750-df66-373553dc14db"
      },
      "source": [
        "from sklearn.model_selection import train_test_split\r\n",
        "\r\n",
        "X = DF1[['age','bmi','children']]\r\n",
        "y = DF1['expenses']\r\n",
        "\r\n",
        "X_train, X_test, y_train, y_test = train_test_split(X, y,\r\n",
        "                                                    test_size = 0.3,\r\n",
        "                                                    random_state = 2045)\r\n",
        "\r\n",
        "print('Train Data : ', X_train.shape, y_train.shape)\r\n",
        "print('Test Data : ' , X_test.shape, y_test.shape)"
      ],
      "execution_count": 8,
      "outputs": [
        {
          "output_type": "stream",
          "text": [
            "Train Data :  (936, 3) (936,)\n",
            "Test Data :  (402, 3) (402,)\n"
          ],
          "name": "stdout"
        }
      ]
    },
    {
      "cell_type": "markdown",
      "metadata": {
        "id": "ocjr8oouiakp"
      },
      "source": [
        "## 1. Multivariate Regression\r\n",
        "> 1) 모델 생성"
      ]
    },
    {
      "cell_type": "code",
      "metadata": {
        "colab": {
          "base_uri": "https://localhost:8080/"
        },
        "id": "Lhr-iPCPhb4Y",
        "outputId": "c7029afe-1812-4a18-a9a4-e6d79b30ef78"
      },
      "source": [
        "%%time\r\n",
        "\r\n",
        "from sklearn.linear_model import LinearRegression\r\n",
        "\r\n",
        "MR = LinearRegression(normalize = True,\r\n",
        "                      n_jobs = -1)\r\n",
        "\r\n",
        "MR.fit(X_train, y_train)"
      ],
      "execution_count": 9,
      "outputs": [
        {
          "output_type": "stream",
          "text": [
            "CPU times: user 4.67 ms, sys: 868 µs, total: 5.53 ms\n",
            "Wall time: 33.3 ms\n"
          ],
          "name": "stdout"
        }
      ]
    },
    {
      "cell_type": "markdown",
      "metadata": {
        "id": "7Te4qLNlitmR"
      },
      "source": [
        "> 2) 모델 평가"
      ]
    },
    {
      "cell_type": "code",
      "metadata": {
        "colab": {
          "base_uri": "https://localhost:8080/"
        },
        "id": "95w-gH0niqrv",
        "outputId": "80e68aac-5798-459c-9be7-c651dd8799ba"
      },
      "source": [
        "from sklearn.metrics import mean_squared_error\r\n",
        "\r\n",
        "mean_squared_error(y_test, MR.predict(X_test))"
      ],
      "execution_count": 10,
      "outputs": [
        {
          "output_type": "execute_result",
          "data": {
            "text/plain": [
              "114300134.03204554"
            ]
          },
          "metadata": {
            "tags": []
          },
          "execution_count": 10
        }
      ]
    },
    {
      "cell_type": "markdown",
      "metadata": {
        "id": "rE-abxcSi2E8"
      },
      "source": [
        "## 2. Ridge Regression\r\n",
        "> 1) 모델 생성\r\n",
        "* alpha : Regularization strength\r\n",
        "  * default : 1.0\r\n",
        "  * 값이 커지면 weight값을 0에 가깝게 학습\r\n",
        "  * 값이 작아지면 weight값을 제한하지 않음\r\n",
        "* solver : Optimization Method\r\n",
        "  * 'cholesy' : Matrix Decomposition(숄레스키 행렬분해)\r\n",
        "  * 'sag' : Stochastic Average Gradient Descent\r\n",
        "    * solver = 'sag'\r\n",
        "    * random_state = 2045\r\n",
        "    * max_iter = 1000"
      ]
    },
    {
      "cell_type": "code",
      "metadata": {
        "colab": {
          "base_uri": "https://localhost:8080/"
        },
        "id": "SpWEC6oyi1Eg",
        "outputId": "9a73dacf-7453-4cc2-feb1-3efa32e3d241"
      },
      "source": [
        "%%time\r\n",
        "\r\n",
        "from sklearn.linear_model import Ridge\r\n",
        "\r\n",
        "RG = Ridge(normalize = True,\r\n",
        "           alpha = 0.3,\r\n",
        "           solver = 'cholesky')\r\n",
        "\r\n",
        "RG.fit(X_train, y_train)"
      ],
      "execution_count": 12,
      "outputs": [
        {
          "output_type": "stream",
          "text": [
            "CPU times: user 4.98 ms, sys: 0 ns, total: 4.98 ms\n",
            "Wall time: 9.78 ms\n"
          ],
          "name": "stdout"
        }
      ]
    },
    {
      "cell_type": "markdown",
      "metadata": {
        "id": "MPbF8SNGjkqt"
      },
      "source": [
        "> 2) 모델 평가"
      ]
    },
    {
      "cell_type": "code",
      "metadata": {
        "colab": {
          "base_uri": "https://localhost:8080/"
        },
        "id": "G0tIyjq9jfe1",
        "outputId": "7fa6a41a-e203-4142-cb2b-812dce0ad741"
      },
      "source": [
        "mean_squared_error(y_test, RG.predict(X_test))"
      ],
      "execution_count": 13,
      "outputs": [
        {
          "output_type": "execute_result",
          "data": {
            "text/plain": [
              "113578068.78448391"
            ]
          },
          "metadata": {
            "tags": []
          },
          "execution_count": 13
        }
      ]
    },
    {
      "cell_type": "markdown",
      "metadata": {
        "id": "PaanZOrnjrxK"
      },
      "source": [
        "## 3. Lasso Regression\r\n",
        "> 1) 모델 생성\r\n",
        "* alpha : Regularization strength\r\n",
        "  * default : 1.0\r\n",
        "  * 값이 커지면 weight값을 0에 가깝게 학습\r\n",
        "  * 값이 작아지면 weight값을 제한하지 않음"
      ]
    },
    {
      "cell_type": "code",
      "metadata": {
        "colab": {
          "base_uri": "https://localhost:8080/"
        },
        "id": "a5-kt8OJjqV0",
        "outputId": "bd51dbe7-9465-4efa-d600-be0b4bf6c910"
      },
      "source": [
        "%%time\r\n",
        "\r\n",
        "from sklearn.linear_model import Lasso\r\n",
        "\r\n",
        "LS = Lasso(normalize = True,\r\n",
        "           alpha = 0.2)\r\n",
        "\r\n",
        "LS.fit(X_train, y_train)"
      ],
      "execution_count": 14,
      "outputs": [
        {
          "output_type": "stream",
          "text": [
            "CPU times: user 4.42 ms, sys: 0 ns, total: 4.42 ms\n",
            "Wall time: 4.13 ms\n"
          ],
          "name": "stdout"
        }
      ]
    },
    {
      "cell_type": "markdown",
      "metadata": {
        "id": "UuOC0MnbkHD_"
      },
      "source": [
        "> 2) 모델 평가"
      ]
    },
    {
      "cell_type": "code",
      "metadata": {
        "colab": {
          "base_uri": "https://localhost:8080/"
        },
        "id": "i9xKvAi_kF4A",
        "outputId": "ecdcd94c-e8cb-4b59-cf7e-fa10f65a4259"
      },
      "source": [
        "mean_squared_error(y_test, LS.predict(X_test))"
      ],
      "execution_count": 15,
      "outputs": [
        {
          "output_type": "execute_result",
          "data": {
            "text/plain": [
              "114279766.62560357"
            ]
          },
          "metadata": {
            "tags": []
          },
          "execution_count": 15
        }
      ]
    },
    {
      "cell_type": "markdown",
      "metadata": {
        "id": "Sf1Yr8uQkNJI"
      },
      "source": [
        "## 4. ElasticNet Regression\r\n",
        "> 1) 모델 생성\r\n",
        "* l1_ratio : default = 0.5"
      ]
    },
    {
      "cell_type": "code",
      "metadata": {
        "colab": {
          "base_uri": "https://localhost:8080/"
        },
        "id": "X--qa_tlkLdV",
        "outputId": "d3b80b83-59bf-4de9-bb4d-393cc7a60d68"
      },
      "source": [
        "%%time\r\n",
        "\r\n",
        "from sklearn.linear_model import ElasticNet\r\n",
        "\r\n",
        "EN = ElasticNet(normalize = True,\r\n",
        "                alpha = 0.001,\r\n",
        "                l1_ratio = 0.7)\r\n",
        "\r\n",
        "EN.fit(X_train, y_train)"
      ],
      "execution_count": 18,
      "outputs": [
        {
          "output_type": "stream",
          "text": [
            "CPU times: user 3.79 ms, sys: 90 µs, total: 3.88 ms\n",
            "Wall time: 7.33 ms\n"
          ],
          "name": "stdout"
        }
      ]
    },
    {
      "cell_type": "markdown",
      "metadata": {
        "id": "5bwEMkIhkt5M"
      },
      "source": [
        "> 2) 모델 평가"
      ]
    },
    {
      "cell_type": "code",
      "metadata": {
        "colab": {
          "base_uri": "https://localhost:8080/"
        },
        "id": "Ygm7Fioikh8a",
        "outputId": "d8fed811-7448-4dd7-d518-69fa5e5a14cc"
      },
      "source": [
        "mean_squared_error(y_test, EN.predict(X_test))"
      ],
      "execution_count": 20,
      "outputs": [
        {
          "output_type": "execute_result",
          "data": {
            "text/plain": [
              "113571195.19021483"
            ]
          },
          "metadata": {
            "tags": []
          },
          "execution_count": 20
        }
      ]
    },
    {
      "cell_type": "markdown",
      "metadata": {
        "id": "f8-SpBSPk1sq"
      },
      "source": [
        "## 5. Decision Tree Regressor\r\n",
        "> 1) 모델 생성"
      ]
    },
    {
      "cell_type": "code",
      "metadata": {
        "colab": {
          "base_uri": "https://localhost:8080/"
        },
        "id": "EhtQNxRokx8d",
        "outputId": "67d607cd-16a6-4e15-e47a-0da0cc1d91ad"
      },
      "source": [
        "%%time\r\n",
        "\r\n",
        "from sklearn.tree import DecisionTreeRegressor\r\n",
        "\r\n",
        "DTR = DecisionTreeRegressor(max_depth = 5,\r\n",
        "                            criterion = 'mse')\r\n",
        "\r\n",
        "DTR.fit(X_train, y_train)"
      ],
      "execution_count": 21,
      "outputs": [
        {
          "output_type": "stream",
          "text": [
            "CPU times: user 3.79 ms, sys: 53 µs, total: 3.84 ms\n",
            "Wall time: 3.35 ms\n"
          ],
          "name": "stdout"
        }
      ]
    },
    {
      "cell_type": "markdown",
      "metadata": {
        "id": "pegIoc4VlGzF"
      },
      "source": [
        "> 2)  모델 평가\r\n",
        "\r\n"
      ]
    },
    {
      "cell_type": "code",
      "metadata": {
        "colab": {
          "base_uri": "https://localhost:8080/"
        },
        "id": "lN0fqLsrlFiK",
        "outputId": "131c08d2-a5e2-48ef-c854-6df4abee866d"
      },
      "source": [
        "mean_squared_error(y_test, DTR.predict(X_test))"
      ],
      "execution_count": 22,
      "outputs": [
        {
          "output_type": "execute_result",
          "data": {
            "text/plain": [
              "140104079.12184906"
            ]
          },
          "metadata": {
            "tags": []
          },
          "execution_count": 22
        }
      ]
    },
    {
      "cell_type": "markdown",
      "metadata": {
        "id": "auUwREvRlOP-"
      },
      "source": [
        "> 3) Feature Importance"
      ]
    },
    {
      "cell_type": "code",
      "metadata": {
        "colab": {
          "base_uri": "https://localhost:8080/"
        },
        "id": "mVEHktmnlNEG",
        "outputId": "fd474144-c31e-4ec0-aa6b-330d3ae2d082"
      },
      "source": [
        "DTR.feature_importances_"
      ],
      "execution_count": 23,
      "outputs": [
        {
          "output_type": "execute_result",
          "data": {
            "text/plain": [
              "array([0.45047558, 0.48298996, 0.06653445])"
            ]
          },
          "metadata": {
            "tags": []
          },
          "execution_count": 23
        }
      ]
    },
    {
      "cell_type": "code",
      "metadata": {
        "colab": {
          "base_uri": "https://localhost:8080/",
          "height": 374
        },
        "id": "1YIRez8xlSE8",
        "outputId": "87e4f716-009c-4255-9350-977d36c8456a"
      },
      "source": [
        "import matplotlib.pyplot as plt\r\n",
        "import seaborn as sns\r\n",
        "\r\n",
        "plt.figure(figsize = (9,6))\r\n",
        "sns.barplot(DTR.feature_importances_,\r\n",
        "            ['age','bmi','children'])\r\n",
        "plt.show()"
      ],
      "execution_count": 24,
      "outputs": [
        {
          "output_type": "display_data",
          "data": {
            "image/png": "[encoded data removed]",
            "text/plain": [
              "<Figure size 648x432 with 1 Axes>"
            ]
          },
          "metadata": {
            "tags": [],
            "needs_background": "light"
          }
        }
      ]
    },
    {
      "cell_type": "markdown",
      "metadata": {
        "id": "nthZpGJ4li7J"
      },
      "source": [
        "## 6. Random Forest Regressor\r\n",
        "> 1) 모델 생성\r\n",
        "* criterion : default = 'mse'\r\n",
        "  * The function to measure the quality of a split."
      ]
    },
    {
      "cell_type": "code",
      "metadata": {
        "colab": {
          "base_uri": "https://localhost:8080/"
        },
        "id": "1jDeHA0alh2R",
        "outputId": "bb2a02ca-4c1f-4cb4-c8dc-cbffb426b7cc"
      },
      "source": [
        "%%time\r\n",
        "\r\n",
        "from sklearn.ensemble import RandomForestRegressor\r\n",
        "\r\n",
        "RFR = RandomForestRegressor(n_estimators = 2000,\r\n",
        "                            max_features = 3,\r\n",
        "                            max_depth = 1,\r\n",
        "                            criterion = 'mse',\r\n",
        "                            n_jobs = -1,\r\n",
        "                            random_state = 2045)\r\n",
        "\r\n",
        "RFR.fit(X_train, y_train)"
      ],
      "execution_count": 27,
      "outputs": [
        {
          "output_type": "stream",
          "text": [
            "CPU times: user 3.47 s, sys: 775 ms, total: 4.25 s\n",
            "Wall time: 3.65 s\n"
          ],
          "name": "stdout"
        }
      ]
    },
    {
      "cell_type": "markdown",
      "metadata": {
        "id": "So-qe9vBmA9t"
      },
      "source": [
        "> 2) 모델 평가"
      ]
    },
    {
      "cell_type": "code",
      "metadata": {
        "colab": {
          "base_uri": "https://localhost:8080/"
        },
        "id": "DcWGY3t2l-N8",
        "outputId": "af776d88-2e7d-4d22-c546-2a1c2cee47a6"
      },
      "source": [
        "mean_squared_error(y_test, RFR.predict(X_test))"
      ],
      "execution_count": 28,
      "outputs": [
        {
          "output_type": "execute_result",
          "data": {
            "text/plain": [
              "114282870.90114409"
            ]
          },
          "metadata": {
            "tags": []
          },
          "execution_count": 28
        }
      ]
    },
    {
      "cell_type": "markdown",
      "metadata": {
        "id": "lqKRO3-bmVL0"
      },
      "source": [
        "> 3) Feature Importance"
      ]
    },
    {
      "cell_type": "code",
      "metadata": {
        "colab": {
          "base_uri": "https://localhost:8080/"
        },
        "id": "UhS2o00_mIYn",
        "outputId": "180f837f-3f54-47ef-a24f-35e5a9601cb8"
      },
      "source": [
        "RFR.feature_importances_"
      ],
      "execution_count": 29,
      "outputs": [
        {
          "output_type": "execute_result",
          "data": {
            "text/plain": [
              "array([0.794, 0.206, 0.   ])"
            ]
          },
          "metadata": {
            "tags": []
          },
          "execution_count": 29
        }
      ]
    },
    {
      "cell_type": "code",
      "metadata": {
        "colab": {
          "base_uri": "https://localhost:8080/",
          "height": 374
        },
        "id": "7XWHWYoxmYxg",
        "outputId": "9ec28d06-7349-44bb-a204-352f48982203"
      },
      "source": [
        "plt.figure(figsize = (9,6))\r\n",
        "sns.barplot(RFR.feature_importances_,\r\n",
        "            ['age','bmi','children'])\r\n",
        "\r\n",
        "plt.show()"
      ],
      "execution_count": 31,
      "outputs": [
        {
          "output_type": "display_data",
          "data": {
            "image/png": "[encoded data removed]",
            "text/plain": [
              "<Figure size 648x432 with 1 Axes>"
            ]
          },
          "metadata": {
            "tags": [],
            "needs_background": "light"
          }
        }
      ]
    },
    {
      "cell_type": "markdown",
      "metadata": {
        "id": "ZrPTfD0YmjqR"
      },
      "source": [
        "## 7. Gradient Boosting Machine(GBM) Classifier\r\n",
        "* 이전 트리의 오차를 보완하는 방식으로 순차적으로 트리를 생성\r\n",
        "> 1) 모델 생성\r\n",
        "* loss : Optimization Method\r\n",
        "  * 'ls' : Least Squares Regression\r\n",
        "* n_estimators : 생성되는 트리의 수\r\n",
        "  * 값이 크면 모델의 복잡도가 증가\r\n",
        "  * 오차를 보정할 기회가 증가\r\n",
        "* learning_rate : 이전 트리의 오차를 얼마나 강하게 보정할 것인지 제어\r\n",
        "  * 값이 크면 강한 보정에 이해 복잡한 트리 생성"
      ]
    },
    {
      "cell_type": "code",
      "metadata": {
        "colab": {
          "base_uri": "https://localhost:8080/"
        },
        "id": "UiHU8an2mgS5",
        "outputId": "a437281b-153c-4759-c1af-bfb103d1ef82"
      },
      "source": [
        "%%time\r\n",
        "from sklearn.ensemble import GradientBoostingRegressor\r\n",
        "\r\n",
        "GBR = GradientBoostingRegressor(loss = 'ls',\r\n",
        "                                n_estimators = 9000,\r\n",
        "                                learning_rate = 0.0001,\r\n",
        "                                criterion = 'mse',\r\n",
        "                                max_features = 3,\r\n",
        "                                max_depth = 1)\r\n",
        "\r\n",
        "GBR.fit(X_train,y_train)"
      ],
      "execution_count": 33,
      "outputs": [
        {
          "output_type": "stream",
          "text": [
            "CPU times: user 3.9 s, sys: 0 ns, total: 3.9 s\n",
            "Wall time: 3.91 s\n"
          ],
          "name": "stdout"
        }
      ]
    },
    {
      "cell_type": "markdown",
      "metadata": {
        "id": "ZTQfNU2WndIK"
      },
      "source": [
        "> 2) 모델 평가"
      ]
    },
    {
      "cell_type": "code",
      "metadata": {
        "colab": {
          "base_uri": "https://localhost:8080/"
        },
        "id": "z9jKVVj5nZhV",
        "outputId": "984e18f5-7e09-4511-b286-d8106f1cfb60"
      },
      "source": [
        "mean_squared_error(y_test, GBR.predict(X_test))"
      ],
      "execution_count": 34,
      "outputs": [
        {
          "output_type": "execute_result",
          "data": {
            "text/plain": [
              "118523943.40353534"
            ]
          },
          "metadata": {
            "tags": []
          },
          "execution_count": 34
        }
      ]
    },
    {
      "cell_type": "markdown",
      "metadata": {
        "id": "1IX3A_VcniMs"
      },
      "source": [
        "> 3) Feature Importance"
      ]
    },
    {
      "cell_type": "code",
      "metadata": {
        "colab": {
          "base_uri": "https://localhost:8080/"
        },
        "id": "4b_aRGV6nhkG",
        "outputId": "37d247cb-f177-4d5e-cc59-d963ad301385"
      },
      "source": [
        "GBR.feature_importances_ "
      ],
      "execution_count": 35,
      "outputs": [
        {
          "output_type": "execute_result",
          "data": {
            "text/plain": [
              "array([0.68958147, 0.31041853, 0.        ])"
            ]
          },
          "metadata": {
            "tags": []
          },
          "execution_count": 35
        }
      ]
    },
    {
      "cell_type": "code",
      "metadata": {
        "colab": {
          "base_uri": "https://localhost:8080/",
          "height": 374
        },
        "id": "EOIHYFsgnlN7",
        "outputId": "7f5e89a7-2b80-4ef3-a600-65764f3cc95d"
      },
      "source": [
        "plt.figure(figsize = (9,6))\r\n",
        "sns.barplot(GBR.feature_importances_,\r\n",
        "            ['age','bmi','children'])\r\n",
        "\r\n",
        "plt.show()"
      ],
      "execution_count": 37,
      "outputs": [
        {
          "output_type": "display_data",
          "data": {
            "image/png": "[encoded data removed]",
            "text/plain": [
              "<Figure size 648x432 with 1 Axes>"
            ]
          },
          "metadata": {
            "tags": [],
            "needs_background": "light"
          }
        }
      ]
    },
    {
      "cell_type": "markdown",
      "metadata": {
        "id": "sfiVKldcnxNH"
      },
      "source": [
        "## 8. Adaptive Boosting Regressor\r\n",
        "* 이전 트리가 잘못 예측한 샘플에 가중치를 높여서 다음 트리를 훈련\r\n",
        "* 훈련된 모델은 성능에 따라 가중치가 부여\r\n",
        "> 1) 모델 생성\r\n",
        "* loss : The loss function to use when updating the weights after each boosting iteration\r\n",
        "* base_estimator = None\r\n",
        "  * DecisionTreeRegressor\r\n",
        "  * max_depth = 3\r\n",
        "  * random_state = 2045"
      ]
    },
    {
      "cell_type": "code",
      "metadata": {
        "colab": {
          "base_uri": "https://localhost:8080/"
        },
        "id": "1IK7H5inns4R",
        "outputId": "679ad0e8-384c-4e88-d061-4f4c31cb3ea1"
      },
      "source": [
        "%%time\r\n",
        "\r\n",
        "from sklearn.ensemble import AdaBoostRegressor\r\n",
        "\r\n",
        "ABR = AdaBoostRegressor(loss = 'square',\r\n",
        "                        n_estimators = 500,\r\n",
        "                        learning_rate = 0.0001,\r\n",
        "                        random_state = 2045)\r\n",
        "\r\n",
        "ABR.fit(X_train, y_train)"
      ],
      "execution_count": 39,
      "outputs": [
        {
          "output_type": "stream",
          "text": [
            "CPU times: user 923 ms, sys: 0 ns, total: 923 ms\n",
            "Wall time: 925 ms\n"
          ],
          "name": "stdout"
        }
      ]
    },
    {
      "cell_type": "markdown",
      "metadata": {
        "id": "uw8f0P6CoY6V"
      },
      "source": [
        "> 2) 모델 평가"
      ]
    },
    {
      "cell_type": "code",
      "metadata": {
        "colab": {
          "base_uri": "https://localhost:8080/"
        },
        "id": "NchX_aB1oTzT",
        "outputId": "07811a20-4edf-477c-c7cb-31b188a58d09"
      },
      "source": [
        "mean_squared_error(y_test, ABR.predict(X_test))"
      ],
      "execution_count": 40,
      "outputs": [
        {
          "output_type": "execute_result",
          "data": {
            "text/plain": [
              "118481893.52922821"
            ]
          },
          "metadata": {
            "tags": []
          },
          "execution_count": 40
        }
      ]
    },
    {
      "cell_type": "markdown",
      "metadata": {
        "id": "WGhRhYIiofea"
      },
      "source": [
        "> 3) Feature Importance"
      ]
    },
    {
      "cell_type": "code",
      "metadata": {
        "colab": {
          "base_uri": "https://localhost:8080/"
        },
        "id": "H8mDKbcjodwb",
        "outputId": "145ea6cb-9126-455b-aee0-9421c4a18876"
      },
      "source": [
        "ABR.feature_importances_"
      ],
      "execution_count": 41,
      "outputs": [
        {
          "output_type": "execute_result",
          "data": {
            "text/plain": [
              "array([0.57474029, 0.3843226 , 0.04093711])"
            ]
          },
          "metadata": {
            "tags": []
          },
          "execution_count": 41
        }
      ]
    },
    {
      "cell_type": "code",
      "metadata": {
        "colab": {
          "base_uri": "https://localhost:8080/",
          "height": 374
        },
        "id": "IhDneFuvoiig",
        "outputId": "654c5ca5-5167-45b5-ff43-547d51dca07f"
      },
      "source": [
        "plt.figure(figsize = (9,6))\r\n",
        "sns.barplot(ABR.feature_importances_,\r\n",
        "            ['age','bmi','children'])\r\n",
        "\r\n",
        "plt.show()"
      ],
      "execution_count": 42,
      "outputs": [
        {
          "output_type": "display_data",
          "data": {
            "image/png": "[encoded data removed]",
            "text/plain": [
              "<Figure size 648x432 with 1 Axes>"
            ]
          },
          "metadata": {
            "tags": [],
            "needs_background": "light"
          }
        }
      ]
    },
    {
      "cell_type": "markdown",
      "metadata": {
        "id": "3TFH8_xeorFy"
      },
      "source": [
        "## 9. eXtra Gradient Boost(XGBoost) Classifier\r\n",
        "> 1) 모델 생성"
      ]
    },
    {
      "cell_type": "code",
      "metadata": {
        "colab": {
          "base_uri": "https://localhost:8080/"
        },
        "id": "-elnPB7Zop38",
        "outputId": "2592055f-618d-4fa3-efda-1ef56b3f7c69"
      },
      "source": [
        "%%time\r\n",
        "\r\n",
        "from xgboost import XGBRegressor\r\n",
        "\r\n",
        "XGB = XGBRegressor(booster = 'gblinear',\r\n",
        "                   n_estimators = 100,\r\n",
        "                   learning_rate = 0.4,\r\n",
        "                   reg_lambda = 2.0,\r\n",
        "                   n_jobs = -1)\r\n",
        "\r\n",
        "XGB.fit(X_train, y_train)"
      ],
      "execution_count": 43,
      "outputs": [
        {
          "output_type": "stream",
          "text": [
            "[02:21:58] WARNING: /workspace/src/objective/regression_obj.cu:152: reg:linear is now deprecated in favor of reg:squarederror.\n",
            "CPU times: user 43.9 ms, sys: 15.4 ms, total: 59.3 ms\n",
            "Wall time: 126 ms\n"
          ],
          "name": "stdout"
        }
      ]
    },
    {
      "cell_type": "markdown",
      "metadata": {
        "id": "Lzb6gM7vpE9v"
      },
      "source": [
        "> 2) 모델 평가"
      ]
    },
    {
      "cell_type": "code",
      "metadata": {
        "colab": {
          "base_uri": "https://localhost:8080/"
        },
        "id": "TNPyDL05pCJW",
        "outputId": "9edab511-7fc5-4102-ef0c-fef4aab67aba"
      },
      "source": [
        "mean_squared_error(y_test, XGB.predict(X_test))"
      ],
      "execution_count": 45,
      "outputs": [
        {
          "output_type": "execute_result",
          "data": {
            "text/plain": [
              "112756473.80482233"
            ]
          },
          "metadata": {
            "tags": []
          },
          "execution_count": 45
        }
      ]
    },
    {
      "cell_type": "markdown",
      "metadata": {
        "id": "UO6dkP2FpMki"
      },
      "source": [
        "## 10. LightGBM REgressor\r\n",
        "> 1) 모델 생성"
      ]
    },
    {
      "cell_type": "code",
      "metadata": {
        "colab": {
          "base_uri": "https://localhost:8080/"
        },
        "id": "e6gM_28lpI7U",
        "outputId": "18c5c52b-6a8c-468a-ea8c-fe7fdf104044"
      },
      "source": [
        "%%time\r\n",
        "\r\n",
        "from lightgbm import  LGBMRegressor\r\n",
        "\r\n",
        "LGB = LGBMRegressor(linear_tree = True,\r\n",
        "                    boosting_type = 'gbdt',\r\n",
        "                    objective = 'regression',\r\n",
        "                    n_estimators = 500,\r\n",
        "                    learning_rate = 0.001,\r\n",
        "                    max_depth = 2,\r\n",
        "                    n_jobs = -1)\r\n",
        "\r\n",
        "LGB.fit(X_train, y_train)"
      ],
      "execution_count": 46,
      "outputs": [
        {
          "output_type": "stream",
          "text": [
            "CPU times: user 129 ms, sys: 5.57 ms, total: 135 ms\n",
            "Wall time: 90.4 ms\n"
          ],
          "name": "stdout"
        }
      ]
    },
    {
      "cell_type": "markdown",
      "metadata": {
        "id": "v1fhFyv9prK-"
      },
      "source": [
        "> 2) 모델 평가"
      ]
    },
    {
      "cell_type": "code",
      "metadata": {
        "colab": {
          "base_uri": "https://localhost:8080/"
        },
        "id": "3EFSig_npp8q",
        "outputId": "6abc1a4b-6b1b-4a2f-f775-58f2bc21d8f3"
      },
      "source": [
        "mean_squared_error(y_test, LGB.predict(X_test))"
      ],
      "execution_count": 47,
      "outputs": [
        {
          "output_type": "execute_result",
          "data": {
            "text/plain": [
              "119555446.90396042"
            ]
          },
          "metadata": {
            "tags": []
          },
          "execution_count": 47
        }
      ]
    },
    {
      "cell_type": "markdown",
      "metadata": {
        "id": "KWxCZrLHpxOk"
      },
      "source": [
        "> 3) Feature Importance"
      ]
    },
    {
      "cell_type": "code",
      "metadata": {
        "colab": {
          "base_uri": "https://localhost:8080/"
        },
        "id": "4ajYZDFUpwS1",
        "outputId": "3f49d58b-2d1c-4abc-a05e-02a5759eff94"
      },
      "source": [
        "LGB.feature_importances_"
      ],
      "execution_count": 48,
      "outputs": [
        {
          "output_type": "execute_result",
          "data": {
            "text/plain": [
              "array([909, 591,   0])"
            ]
          },
          "metadata": {
            "tags": []
          },
          "execution_count": 48
        }
      ]
    },
    {
      "cell_type": "code",
      "metadata": {
        "colab": {
          "base_uri": "https://localhost:8080/",
          "height": 374
        },
        "id": "h-mMIaYhp0aw",
        "outputId": "9b2da2d8-6bc6-41e8-d2c5-de4fc7a6027e"
      },
      "source": [
        "plt.figure(figsize = (9,6))\r\n",
        "sns.barplot(LGB.feature_importances_,\r\n",
        "            ['age','bmi','children'])\r\n",
        "\r\n",
        "plt.show()"
      ],
      "execution_count": 49,
      "outputs": [
        {
          "output_type": "display_data",
          "data": {
            "image/png": "[encoded data removed]",
            "text/plain": [
              "<Figure size 648x432 with 1 Axes>"
            ]
          },
          "metadata": {
            "tags": [],
            "needs_background": "light"
          }
        }
      ]
    },
    {
      "cell_type": "markdown",
      "metadata": {
        "id": "1lvvAPUwqD6I"
      },
      "source": [
        "본 내용은 2021/03/08(월)에 학습한 내용입니다."
      ]
    }
  ]
}