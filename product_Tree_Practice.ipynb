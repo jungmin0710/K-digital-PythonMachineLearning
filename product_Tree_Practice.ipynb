{
  "nbformat": 4,
  "nbformat_minor": 0,
  "metadata": {
    "colab": {
      "name": "product_Tree_Practice.ipynb",
      "provenance": [],
      "collapsed_sections": [],
      "authorship_tag": "ABX9TyO+H4KK8zGRerMV9XEIAD5R",
      "include_colab_link": true
    },
    "kernelspec": {
      "name": "python3",
      "display_name": "Python 3"
    }
  },
  "cells": [
    {
      "cell_type": "markdown",
      "metadata": {
        "id": "view-in-github",
        "colab_type": "text"
      },
      "source": [
        "<a href=\"https://colab.research.google.com/github/jungmin0710/K-digital-PythonMachineLearning/blob/main/product_Tree_Practice.ipynb\" target=\"_parent\"><img src=\"https://colab.research.google.com/assets/colab-badge.svg\" alt=\"Open In Colab\"/></a>"
      ]
    },
    {
      "cell_type": "markdown",
      "metadata": {
        "id": "DbxwBTqCA7jX"
      },
      "source": [
        "# Decision Tree 실습\r\n",
        "\r\n",
        "1. product_tree_작성자이름.ipynb\r\n",
        "2. 탐색적 데이터 분석 및 시각화\r\n",
        "3. train_Test_split - 7:3, 2045 적용\r\n",
        "4. DecisionTreeClassifier수행\r\n",
        "5. y -> customerType ('Online','Offline')\r\n",
        "6. Mertic -> Accuracy, F1 - Score\r\n",
        "7. LogisticRegression 결과와 비교\r\n",
        "\r\n"
      ]
    },
    {
      "cell_type": "markdown",
      "metadata": {
        "id": "dvk7PGSpBkzF"
      },
      "source": [
        "### 1. 데이터 살펴보기"
      ]
    },
    {
      "cell_type": "code",
      "metadata": {
        "id": "FurjO1apA1js"
      },
      "source": [
        "import warnings\r\n",
        "warnings.filterwarnings('ignore')"
      ],
      "execution_count": 1,
      "outputs": []
    },
    {
      "cell_type": "code",
      "metadata": {
        "id": "PdTu2E0VBmHf"
      },
      "source": [
        "import pandas as pd\r\n",
        "import matplotlib.pyplot as plt\r\n",
        "import seaborn as sns"
      ],
      "execution_count": 2,
      "outputs": []
    },
    {
      "cell_type": "code",
      "metadata": {
        "colab": {
          "base_uri": "https://localhost:8080/"
        },
        "id": "BH3O8FTnBnNv",
        "outputId": "4dd8abfd-d2fa-48ed-bde8-d3b7de886bbe"
      },
      "source": [
        "DF = pd.read_csv('https://raw.githubusercontent.com/rusita-ai/pyData/master/product.csv')\r\n",
        "\r\n",
        "DF.info()"
      ],
      "execution_count": 3,
      "outputs": [
        {
          "output_type": "stream",
          "text": [
            "<class 'pandas.core.frame.DataFrame'>\n",
            "RangeIndex: 15009 entries, 0 to 15008\n",
            "Data columns (total 12 columns):\n",
            " #   Column         Non-Null Count  Dtype  \n",
            "---  ------         --------------  -----  \n",
            " 0   Date           15009 non-null  object \n",
            " 1   meanPriceEach  15009 non-null  float64\n",
            " 2   totalOrder     15009 non-null  float64\n",
            " 3   orderType_1    15009 non-null  float64\n",
            " 4   orderType_2    15009 non-null  float64\n",
            " 5   orderType_3    15009 non-null  float64\n",
            " 6   totalBundle    15009 non-null  float64\n",
            " 7   bundleType_1   15009 non-null  float64\n",
            " 8   bundleType_2   15009 non-null  float64\n",
            " 9   customerType   15009 non-null  object \n",
            " 10  FY             15009 non-null  int64  \n",
            " 11  Country        15009 non-null  int64  \n",
            "dtypes: float64(8), int64(2), object(2)\n",
            "memory usage: 1.4+ MB\n"
          ],
          "name": "stdout"
        }
      ]
    },
    {
      "cell_type": "code",
      "metadata": {
        "colab": {
          "base_uri": "https://localhost:8080/",
          "height": 309
        },
        "id": "P4KR8D6BBo1r",
        "outputId": "a4a6f4c4-409d-460b-cc31-52e0f3d86c84"
      },
      "source": [
        "DF.head()"
      ],
      "execution_count": 4,
      "outputs": [
        {
          "output_type": "execute_result",
          "data": {
            "text/html": [
              "<div>\n",
              "<style scoped>\n",
              "    .dataframe tbody tr th:only-of-type {\n",
              "        vertical-align: middle;\n",
              "    }\n",
              "\n",
              "    .dataframe tbody tr th {\n",
              "        vertical-align: top;\n",
              "    }\n",
              "\n",
              "    .dataframe thead th {\n",
              "        text-align: right;\n",
              "    }\n",
              "</style>\n",
              "<table border=\"1\" class=\"dataframe\">\n",
              "  <thead>\n",
              "    <tr style=\"text-align: right;\">\n",
              "      <th></th>\n",
              "      <th>Date</th>\n",
              "      <th>meanPriceEach</th>\n",
              "      <th>totalOrder</th>\n",
              "      <th>orderType_1</th>\n",
              "      <th>orderType_2</th>\n",
              "      <th>orderType_3</th>\n",
              "      <th>totalBundle</th>\n",
              "      <th>bundleType_1</th>\n",
              "      <th>bundleType_2</th>\n",
              "      <th>customerType</th>\n",
              "      <th>FY</th>\n",
              "      <th>Country</th>\n",
              "    </tr>\n",
              "  </thead>\n",
              "  <tbody>\n",
              "    <tr>\n",
              "      <th>0</th>\n",
              "      <td>2015-01-04</td>\n",
              "      <td>1.56</td>\n",
              "      <td>58065.35</td>\n",
              "      <td>10049.66</td>\n",
              "      <td>25228.37</td>\n",
              "      <td>3672.89</td>\n",
              "      <td>19114.43</td>\n",
              "      <td>17280.89</td>\n",
              "      <td>1833.54</td>\n",
              "      <td>Online</td>\n",
              "      <td>2015</td>\n",
              "      <td>25</td>\n",
              "    </tr>\n",
              "    <tr>\n",
              "      <th>1</th>\n",
              "      <td>2015-01-04</td>\n",
              "      <td>1.10</td>\n",
              "      <td>2578275.12</td>\n",
              "      <td>575245.44</td>\n",
              "      <td>1311502.53</td>\n",
              "      <td>181058.65</td>\n",
              "      <td>510468.50</td>\n",
              "      <td>429166.89</td>\n",
              "      <td>80986.81</td>\n",
              "      <td>Offline</td>\n",
              "      <td>2015</td>\n",
              "      <td>25</td>\n",
              "    </tr>\n",
              "    <tr>\n",
              "      <th>2</th>\n",
              "      <td>2015-01-11</td>\n",
              "      <td>1.17</td>\n",
              "      <td>2335986.11</td>\n",
              "      <td>560119.16</td>\n",
              "      <td>1032606.49</td>\n",
              "      <td>191515.19</td>\n",
              "      <td>551745.27</td>\n",
              "      <td>465764.93</td>\n",
              "      <td>85966.27</td>\n",
              "      <td>Offline</td>\n",
              "      <td>2015</td>\n",
              "      <td>25</td>\n",
              "    </tr>\n",
              "    <tr>\n",
              "      <th>3</th>\n",
              "      <td>2015-01-11</td>\n",
              "      <td>1.52</td>\n",
              "      <td>65483.08</td>\n",
              "      <td>14570.74</td>\n",
              "      <td>30445.75</td>\n",
              "      <td>3170.11</td>\n",
              "      <td>17296.48</td>\n",
              "      <td>16715.45</td>\n",
              "      <td>581.03</td>\n",
              "      <td>Online</td>\n",
              "      <td>2015</td>\n",
              "      <td>25</td>\n",
              "    </tr>\n",
              "    <tr>\n",
              "      <th>4</th>\n",
              "      <td>2015-01-18</td>\n",
              "      <td>1.65</td>\n",
              "      <td>52559.10</td>\n",
              "      <td>11415.28</td>\n",
              "      <td>25306.56</td>\n",
              "      <td>3345.08</td>\n",
              "      <td>12492.18</td>\n",
              "      <td>10971.43</td>\n",
              "      <td>1520.75</td>\n",
              "      <td>Online</td>\n",
              "      <td>2015</td>\n",
              "      <td>25</td>\n",
              "    </tr>\n",
              "  </tbody>\n",
              "</table>\n",
              "</div>"
            ],
            "text/plain": [
              "         Date  meanPriceEach  totalOrder  ...  customerType    FY  Country\n",
              "0  2015-01-04           1.56    58065.35  ...        Online  2015       25\n",
              "1  2015-01-04           1.10  2578275.12  ...       Offline  2015       25\n",
              "2  2015-01-11           1.17  2335986.11  ...       Offline  2015       25\n",
              "3  2015-01-11           1.52    65483.08  ...        Online  2015       25\n",
              "4  2015-01-18           1.65    52559.10  ...        Online  2015       25\n",
              "\n",
              "[5 rows x 12 columns]"
            ]
          },
          "metadata": {
            "tags": []
          },
          "execution_count": 4
        }
      ]
    },
    {
      "cell_type": "code",
      "metadata": {
        "colab": {
          "base_uri": "https://localhost:8080/",
          "height": 550
        },
        "id": "Yhlm72R0Btrw",
        "outputId": "f2eaf36c-ee2c-4d76-f423-cf02e014c961"
      },
      "source": [
        "sns.pairplot(DF, hue = 'customerType', vars = ['totalOrder','meanPriceEach','totalBundle'])\r\n",
        "plt.show()"
      ],
      "execution_count": 5,
      "outputs": [
        {
          "output_type": "display_data",
          "data": {
            "image/png": "[encoded data removed]",
            "text/plain": [
              "<Figure size 617.625x540 with 12 Axes>"
            ]
          },
          "metadata": {
            "tags": [],
            "needs_background": "light"
          }
        }
      ]
    },
    {
      "cell_type": "markdown",
      "metadata": {
        "id": "XrY5PAB7I_VU"
      },
      "source": [
        "시각화 결과로 보았을 땐 meanPriceEach가 가장 적절해보임\r\n",
        "\r\n",
        "Logistic Regression과 Decision Tree 모두 위 세가지 변수를 사용해보기.(변수를 같게해서 비교)"
      ]
    },
    {
      "cell_type": "markdown",
      "metadata": {
        "id": "rB2RR9k8ED7o"
      },
      "source": [
        "### 2. Data split\r\n",
        " \r\n",
        "훈련 데이터와 테스트 데이터의 비율은 7:3\r\n",
        "\r\n",
        "random_state는 결과비교를 위해 2045로 지정"
      ]
    },
    {
      "cell_type": "code",
      "metadata": {
        "id": "v0LWnlCEB0vG"
      },
      "source": [
        "X = DF[['meanPriceEach','totalOrder','totalBundle']]\r\n",
        "y = DF['customerType']"
      ],
      "execution_count": 6,
      "outputs": []
    },
    {
      "cell_type": "code",
      "metadata": {
        "colab": {
          "base_uri": "https://localhost:8080/"
        },
        "id": "IEPC9awCEZD7",
        "outputId": "28017ae9-0be4-4f1f-e800-734dd9d67db3"
      },
      "source": [
        "from sklearn.model_selection import train_test_split\r\n",
        "\r\n",
        "X_train, X_test, y_train, y_test = train_test_split(X, y,\r\n",
        "                                                    test_size = 0.3,\r\n",
        "                                                    random_state = 2045)\r\n",
        "\r\n",
        "print('Train Data : ', X_train.shape, y_train.shape)\r\n",
        "print('Test Data : ', X_test.shape, y_test.shape)"
      ],
      "execution_count": 7,
      "outputs": [
        {
          "output_type": "stream",
          "text": [
            "Train Data :  (10506, 3) (10506,)\n",
            "Test Data :  (4503, 3) (4503,)\n"
          ],
          "name": "stdout"
        }
      ]
    },
    {
      "cell_type": "markdown",
      "metadata": {
        "id": "uiQ78DffEg5d"
      },
      "source": [
        "### 3. Modeling"
      ]
    },
    {
      "cell_type": "markdown",
      "metadata": {
        "id": "BIt_qyynElf8"
      },
      "source": [
        "> * Logistic Regression "
      ]
    },
    {
      "cell_type": "code",
      "metadata": {
        "colab": {
          "base_uri": "https://localhost:8080/"
        },
        "id": "h9RH7OIqEdWH",
        "outputId": "3b7ef013-226a-4721-9644-26e56552f24f"
      },
      "source": [
        "from sklearn.linear_model import LogisticRegression\r\n",
        "\r\n",
        "Model_lr = LogisticRegression()\r\n",
        "Model_lr.fit(X_train, y_train)"
      ],
      "execution_count": 8,
      "outputs": [
        {
          "output_type": "execute_result",
          "data": {
            "text/plain": [
              "LogisticRegression(C=1.0, class_weight=None, dual=False, fit_intercept=True,\n",
              "                   intercept_scaling=1, l1_ratio=None, max_iter=100,\n",
              "                   multi_class='auto', n_jobs=None, penalty='l2',\n",
              "                   random_state=None, solver='lbfgs', tol=0.0001, verbose=0,\n",
              "                   warm_start=False)"
            ]
          },
          "metadata": {
            "tags": []
          },
          "execution_count": 8
        }
      ]
    },
    {
      "cell_type": "code",
      "metadata": {
        "colab": {
          "base_uri": "https://localhost:8080/"
        },
        "id": "YuUmFOUoEwFM",
        "outputId": "e81c05dc-f25a-4bc7-967f-147e14c86f76"
      },
      "source": [
        "y_hat_lr = Model_lr.predict(X_test)\r\n",
        "\r\n",
        "y_hat_lr"
      ],
      "execution_count": 9,
      "outputs": [
        {
          "output_type": "execute_result",
          "data": {
            "text/plain": [
              "array(['Offline', 'Offline', 'Offline', ..., 'Offline', 'Online',\n",
              "       'Online'], dtype=object)"
            ]
          },
          "metadata": {
            "tags": []
          },
          "execution_count": 9
        }
      ]
    },
    {
      "cell_type": "markdown",
      "metadata": {
        "id": "pkL3DSwHE0ZU"
      },
      "source": [
        "> * Decision Tree"
      ]
    },
    {
      "cell_type": "code",
      "metadata": {
        "colab": {
          "base_uri": "https://localhost:8080/"
        },
        "id": "GyFyX2ACEyBy",
        "outputId": "b1590f2b-7fa9-4552-f417-8e09c854b056"
      },
      "source": [
        "from sklearn.tree import DecisionTreeClassifier\r\n",
        "\r\n",
        "#max_depth가 2일때 91%의 Accuracy고, 3부터 93%이상이 나온다.\r\n",
        "Model_dt = DecisionTreeClassifier(max_depth = 3,\r\n",
        "                                  random_state = 2045)\r\n",
        "Model_dt.fit(X_train,y_train)"
      ],
      "execution_count": 10,
      "outputs": [
        {
          "output_type": "execute_result",
          "data": {
            "text/plain": [
              "DecisionTreeClassifier(ccp_alpha=0.0, class_weight=None, criterion='gini',\n",
              "                       max_depth=3, max_features=None, max_leaf_nodes=None,\n",
              "                       min_impurity_decrease=0.0, min_impurity_split=None,\n",
              "                       min_samples_leaf=1, min_samples_split=2,\n",
              "                       min_weight_fraction_leaf=0.0, presort='deprecated',\n",
              "                       random_state=2045, splitter='best')"
            ]
          },
          "metadata": {
            "tags": []
          },
          "execution_count": 10
        }
      ]
    },
    {
      "cell_type": "code",
      "metadata": {
        "colab": {
          "base_uri": "https://localhost:8080/",
          "height": 617
        },
        "id": "i3s0aN6VE7YF",
        "outputId": "444215e6-0646-45e2-8672-007ffd7c56d4"
      },
      "source": [
        "#시각화\r\n",
        "from sklearn.tree import export_graphviz\r\n",
        "import graphviz\r\n",
        "\r\n",
        "graphviz.Source(export_graphviz(Model_dt,\r\n",
        "                                class_names = (['Online','Offline']),\r\n",
        "                                feature_names = (['meanPriceEach','totalOrder','totalBundle']),\r\n",
        "                                filled = True))"
      ],
      "execution_count": 11,
      "outputs": [
        {
          "output_type": "execute_result",
          "data": {
            "text/plain": [
              "<graphviz.files.Source at 0x7f3f0c57bd50>"
            ],
            "image/svg+xml": "<?xml version=\"1.0\" encoding=\"UTF-8\" standalone=\"no\"?>\n<!DOCTYPE svg PUBLIC \"-//W3C//DTD SVG 1.1//EN\"\n \"http://www.w3.org/Graphics/SVG/1.1/DTD/svg11.dtd\">\n<!-- Generated by graphviz version 2.40.1 (20161225.0304)\n -->\n<!-- Title: Tree Pages: 1 -->\n<svg width=\"1094pt\" height=\"433pt\"\n viewBox=\"0.00 0.00 1094.00 433.00\" xmlns=\"http://www.w3.org/2000/svg\" xmlns:xlink=\"http://www.w3.org/1999/xlink\">\n<g id=\"graph0\" class=\"graph\" transform=\"scale(1 1) rotate(0) translate(4 429)\">\n<title>Tree</title>\n<polygon fill=\"#ffffff\" stroke=\"transparent\" points=\"-4,4 -4,-429 1090,-429 1090,4 -4,4\"/>\n<!-- 0 -->\n<g id=\"node1\" class=\"node\">\n<title>0</title>\n<polygon fill=\"#fffefd\" stroke=\"#000000\" points=\"599.5,-425 437.5,-425 437.5,-342 599.5,-342 599.5,-425\"/>\n<text text-anchor=\"middle\" x=\"518.5\" y=\"-409.8\" font-family=\"Times,serif\" font-size=\"14.00\" fill=\"#000000\">totalOrder &lt;= 67688.746</text>\n<text text-anchor=\"middle\" x=\"518.5\" y=\"-394.8\" font-family=\"Times,serif\" font-size=\"14.00\" fill=\"#000000\">gini = 0.5</text>\n<text text-anchor=\"middle\" x=\"518.5\" y=\"-379.8\" font-family=\"Times,serif\" font-size=\"14.00\" fill=\"#000000\">samples = 10506</text>\n<text text-anchor=\"middle\" x=\"518.5\" y=\"-364.8\" font-family=\"Times,serif\" font-size=\"14.00\" fill=\"#000000\">value = [5279, 5227]</text>\n<text text-anchor=\"middle\" x=\"518.5\" y=\"-349.8\" font-family=\"Times,serif\" font-size=\"14.00\" fill=\"#000000\">class = Online</text>\n</g>\n<!-- 1 -->\n<g id=\"node2\" class=\"node\">\n<title>1</title>\n<polygon fill=\"#3fa0e6\" stroke=\"#000000\" points=\"502,-306 347,-306 347,-223 502,-223 502,-306\"/>\n<text text-anchor=\"middle\" x=\"424.5\" y=\"-290.8\" font-family=\"Times,serif\" font-size=\"14.00\" fill=\"#000000\">totalOrder &lt;= 47887.07</text>\n<text text-anchor=\"middle\" x=\"424.5\" y=\"-275.8\" font-family=\"Times,serif\" font-size=\"14.00\" fill=\"#000000\">gini = 0.053</text>\n<text text-anchor=\"middle\" x=\"424.5\" y=\"-260.8\" font-family=\"Times,serif\" font-size=\"14.00\" fill=\"#000000\">samples = 4657</text>\n<text text-anchor=\"middle\" x=\"424.5\" y=\"-245.8\" font-family=\"Times,serif\" font-size=\"14.00\" fill=\"#000000\">value = [128, 4529]</text>\n<text text-anchor=\"middle\" x=\"424.5\" y=\"-230.8\" font-family=\"Times,serif\" font-size=\"14.00\" fill=\"#000000\">class = Offline</text>\n</g>\n<!-- 0&#45;&gt;1 -->\n<g id=\"edge1\" class=\"edge\">\n<title>0&#45;&gt;1</title>\n<path fill=\"none\" stroke=\"#000000\" d=\"M485.6234,-341.8796C478.5803,-332.9633 471.0707,-323.4565 463.8126,-314.268\"/>\n<polygon fill=\"#000000\" stroke=\"#000000\" points=\"466.4621,-311.9757 457.517,-306.2981 460.9691,-316.3147 466.4621,-311.9757\"/>\n<text text-anchor=\"middle\" x=\"454.6027\" y=\"-327.4276\" font-family=\"Times,serif\" font-size=\"14.00\" fill=\"#000000\">True</text>\n</g>\n<!-- 8 -->\n<g id=\"node9\" class=\"node\">\n<title>8</title>\n<polygon fill=\"#e99254\" stroke=\"#000000\" points=\"709.5,-306 547.5,-306 547.5,-223 709.5,-223 709.5,-306\"/>\n<text text-anchor=\"middle\" x=\"628.5\" y=\"-290.8\" font-family=\"Times,serif\" font-size=\"14.00\" fill=\"#000000\">meanPriceEach &lt;= 1.385</text>\n<text text-anchor=\"middle\" x=\"628.5\" y=\"-275.8\" font-family=\"Times,serif\" font-size=\"14.00\" fill=\"#000000\">gini = 0.21</text>\n<text text-anchor=\"middle\" x=\"628.5\" y=\"-260.8\" font-family=\"Times,serif\" font-size=\"14.00\" fill=\"#000000\">samples = 5849</text>\n<text text-anchor=\"middle\" x=\"628.5\" y=\"-245.8\" font-family=\"Times,serif\" font-size=\"14.00\" fill=\"#000000\">value = [5151, 698]</text>\n<text text-anchor=\"middle\" x=\"628.5\" y=\"-230.8\" font-family=\"Times,serif\" font-size=\"14.00\" fill=\"#000000\">class = Online</text>\n</g>\n<!-- 0&#45;&gt;8 -->\n<g id=\"edge8\" class=\"edge\">\n<title>0&#45;&gt;8</title>\n<path fill=\"none\" stroke=\"#000000\" d=\"M556.9727,-341.8796C565.3811,-332.7832 574.3576,-323.0722 583.0103,-313.7116\"/>\n<polygon fill=\"#000000\" stroke=\"#000000\" points=\"585.6453,-316.0172 589.8631,-306.2981 580.505,-311.2656 585.6453,-316.0172\"/>\n<text text-anchor=\"middle\" x=\"590.8449\" y=\"-327.5788\" font-family=\"Times,serif\" font-size=\"14.00\" fill=\"#000000\">False</text>\n</g>\n<!-- 2 -->\n<g id=\"node3\" class=\"node\">\n<title>2</title>\n<polygon fill=\"#3a9ee5\" stroke=\"#000000\" points=\"271,-187 116,-187 116,-104 271,-104 271,-187\"/>\n<text text-anchor=\"middle\" x=\"193.5\" y=\"-171.8\" font-family=\"Times,serif\" font-size=\"14.00\" fill=\"#000000\">totalOrder &lt;= 38570.74</text>\n<text text-anchor=\"middle\" x=\"193.5\" y=\"-156.8\" font-family=\"Times,serif\" font-size=\"14.00\" fill=\"#000000\">gini = 0.011</text>\n<text text-anchor=\"middle\" x=\"193.5\" y=\"-141.8\" font-family=\"Times,serif\" font-size=\"14.00\" fill=\"#000000\">samples = 4325</text>\n<text text-anchor=\"middle\" x=\"193.5\" y=\"-126.8\" font-family=\"Times,serif\" font-size=\"14.00\" fill=\"#000000\">value = [25, 4300]</text>\n<text text-anchor=\"middle\" x=\"193.5\" y=\"-111.8\" font-family=\"Times,serif\" font-size=\"14.00\" fill=\"#000000\">class = Offline</text>\n</g>\n<!-- 1&#45;&gt;2 -->\n<g id=\"edge2\" class=\"edge\">\n<title>1&#45;&gt;2</title>\n<path fill=\"none\" stroke=\"#000000\" d=\"M346.9377,-224.5437C325.5108,-213.5056 302.1243,-201.458 280.214,-190.1708\"/>\n<polygon fill=\"#000000\" stroke=\"#000000\" points=\"281.7434,-187.0216 271.2508,-185.5534 278.5376,-193.2445 281.7434,-187.0216\"/>\n</g>\n<!-- 5 -->\n<g id=\"node6\" class=\"node\">\n<title>5</title>\n<polygon fill=\"#92c9f1\" stroke=\"#000000\" points=\"510,-187 339,-187 339,-104 510,-104 510,-187\"/>\n<text text-anchor=\"middle\" x=\"424.5\" y=\"-171.8\" font-family=\"Times,serif\" font-size=\"14.00\" fill=\"#000000\">totalBundle &lt;= 27271.285</text>\n<text text-anchor=\"middle\" x=\"424.5\" y=\"-156.8\" font-family=\"Times,serif\" font-size=\"14.00\" fill=\"#000000\">gini = 0.428</text>\n<text text-anchor=\"middle\" x=\"424.5\" y=\"-141.8\" font-family=\"Times,serif\" font-size=\"14.00\" fill=\"#000000\">samples = 332</text>\n<text text-anchor=\"middle\" x=\"424.5\" y=\"-126.8\" font-family=\"Times,serif\" font-size=\"14.00\" fill=\"#000000\">value = [103, 229]</text>\n<text text-anchor=\"middle\" x=\"424.5\" y=\"-111.8\" font-family=\"Times,serif\" font-size=\"14.00\" fill=\"#000000\">class = Offline</text>\n</g>\n<!-- 1&#45;&gt;5 -->\n<g id=\"edge5\" class=\"edge\">\n<title>1&#45;&gt;5</title>\n<path fill=\"none\" stroke=\"#000000\" d=\"M424.5,-222.8796C424.5,-214.6838 424.5,-205.9891 424.5,-197.5013\"/>\n<polygon fill=\"#000000\" stroke=\"#000000\" points=\"428.0001,-197.298 424.5,-187.2981 421.0001,-197.2981 428.0001,-197.298\"/>\n</g>\n<!-- 3 -->\n<g id=\"node4\" class=\"node\">\n<title>3</title>\n<polygon fill=\"#399de5\" stroke=\"#000000\" points=\"117,-68 0,-68 0,0 117,0 117,-68\"/>\n<text text-anchor=\"middle\" x=\"58.5\" y=\"-52.8\" font-family=\"Times,serif\" font-size=\"14.00\" fill=\"#000000\">gini = 0.001</text>\n<text text-anchor=\"middle\" x=\"58.5\" y=\"-37.8\" font-family=\"Times,serif\" font-size=\"14.00\" fill=\"#000000\">samples = 4157</text>\n<text text-anchor=\"middle\" x=\"58.5\" y=\"-22.8\" font-family=\"Times,serif\" font-size=\"14.00\" fill=\"#000000\">value = [2, 4155]</text>\n<text text-anchor=\"middle\" x=\"58.5\" y=\"-7.8\" font-family=\"Times,serif\" font-size=\"14.00\" fill=\"#000000\">class = Offline</text>\n</g>\n<!-- 2&#45;&gt;3 -->\n<g id=\"edge3\" class=\"edge\">\n<title>2&#45;&gt;3</title>\n<path fill=\"none\" stroke=\"#000000\" d=\"M143.231,-103.9815C131.6582,-94.4232 119.3611,-84.2668 107.8287,-74.7419\"/>\n<polygon fill=\"#000000\" stroke=\"#000000\" points=\"109.9243,-71.9332 99.9852,-68.2637 105.4666,-77.3304 109.9243,-71.9332\"/>\n</g>\n<!-- 4 -->\n<g id=\"node5\" class=\"node\">\n<title>4</title>\n<polygon fill=\"#58ade9\" stroke=\"#000000\" points=\"252,-68 135,-68 135,0 252,0 252,-68\"/>\n<text text-anchor=\"middle\" x=\"193.5\" y=\"-52.8\" font-family=\"Times,serif\" font-size=\"14.00\" fill=\"#000000\">gini = 0.236</text>\n<text text-anchor=\"middle\" x=\"193.5\" y=\"-37.8\" font-family=\"Times,serif\" font-size=\"14.00\" fill=\"#000000\">samples = 168</text>\n<text text-anchor=\"middle\" x=\"193.5\" y=\"-22.8\" font-family=\"Times,serif\" font-size=\"14.00\" fill=\"#000000\">value = [23, 145]</text>\n<text text-anchor=\"middle\" x=\"193.5\" y=\"-7.8\" font-family=\"Times,serif\" font-size=\"14.00\" fill=\"#000000\">class = Offline</text>\n</g>\n<!-- 2&#45;&gt;4 -->\n<g id=\"edge4\" class=\"edge\">\n<title>2&#45;&gt;4</title>\n<path fill=\"none\" stroke=\"#000000\" d=\"M193.5,-103.9815C193.5,-95.618 193.5,-86.7965 193.5,-78.3409\"/>\n<polygon fill=\"#000000\" stroke=\"#000000\" points=\"197.0001,-78.2636 193.5,-68.2637 190.0001,-78.2637 197.0001,-78.2636\"/>\n</g>\n<!-- 6 -->\n<g id=\"node7\" class=\"node\">\n<title>6</title>\n<polygon fill=\"#e4f2fb\" stroke=\"#000000\" points=\"386.5,-68 270.5,-68 270.5,0 386.5,0 386.5,-68\"/>\n<text text-anchor=\"middle\" x=\"328.5\" y=\"-52.8\" font-family=\"Times,serif\" font-size=\"14.00\" fill=\"#000000\">gini = 0.497</text>\n<text text-anchor=\"middle\" x=\"328.5\" y=\"-37.8\" font-family=\"Times,serif\" font-size=\"14.00\" fill=\"#000000\">samples = 205</text>\n<text text-anchor=\"middle\" x=\"328.5\" y=\"-22.8\" font-family=\"Times,serif\" font-size=\"14.00\" fill=\"#000000\">value = [95, 110]</text>\n<text text-anchor=\"middle\" x=\"328.5\" y=\"-7.8\" font-family=\"Times,serif\" font-size=\"14.00\" fill=\"#000000\">class = Offline</text>\n</g>\n<!-- 5&#45;&gt;6 -->\n<g id=\"edge6\" class=\"edge\">\n<title>5&#45;&gt;6</title>\n<path fill=\"none\" stroke=\"#000000\" d=\"M388.7531,-103.9815C380.8401,-94.7908 372.4509,-85.0472 364.5268,-75.8436\"/>\n<polygon fill=\"#000000\" stroke=\"#000000\" points=\"367.1776,-73.5582 358.0006,-68.2637 361.8729,-78.1255 367.1776,-73.5582\"/>\n</g>\n<!-- 7 -->\n<g id=\"node8\" class=\"node\">\n<title>7</title>\n<polygon fill=\"#46a4e7\" stroke=\"#000000\" points=\"514,-68 405,-68 405,0 514,0 514,-68\"/>\n<text text-anchor=\"middle\" x=\"459.5\" y=\"-52.8\" font-family=\"Times,serif\" font-size=\"14.00\" fill=\"#000000\">gini = 0.118</text>\n<text text-anchor=\"middle\" x=\"459.5\" y=\"-37.8\" font-family=\"Times,serif\" font-size=\"14.00\" fill=\"#000000\">samples = 127</text>\n<text text-anchor=\"middle\" x=\"459.5\" y=\"-22.8\" font-family=\"Times,serif\" font-size=\"14.00\" fill=\"#000000\">value = [8, 119]</text>\n<text text-anchor=\"middle\" x=\"459.5\" y=\"-7.8\" font-family=\"Times,serif\" font-size=\"14.00\" fill=\"#000000\">class = Offline</text>\n</g>\n<!-- 5&#45;&gt;7 -->\n<g id=\"edge7\" class=\"edge\">\n<title>5&#45;&gt;7</title>\n<path fill=\"none\" stroke=\"#000000\" d=\"M437.5327,-103.9815C440.1869,-95.5261 442.988,-86.6026 445.6688,-78.0623\"/>\n<polygon fill=\"#000000\" stroke=\"#000000\" points=\"449.0889,-78.8529 448.7446,-68.2637 442.4102,-76.7564 449.0889,-78.8529\"/>\n</g>\n<!-- 9 -->\n<g id=\"node10\" class=\"node\">\n<title>9</title>\n<polygon fill=\"#e68743\" stroke=\"#000000\" points=\"713.5,-187 543.5,-187 543.5,-104 713.5,-104 713.5,-187\"/>\n<text text-anchor=\"middle\" x=\"628.5\" y=\"-171.8\" font-family=\"Times,serif\" font-size=\"14.00\" fill=\"#000000\">totalOrder &lt;= 175374.312</text>\n<text text-anchor=\"middle\" x=\"628.5\" y=\"-156.8\" font-family=\"Times,serif\" font-size=\"14.00\" fill=\"#000000\">gini = 0.092</text>\n<text text-anchor=\"middle\" x=\"628.5\" y=\"-141.8\" font-family=\"Times,serif\" font-size=\"14.00\" fill=\"#000000\">samples = 4616</text>\n<text text-anchor=\"middle\" x=\"628.5\" y=\"-126.8\" font-family=\"Times,serif\" font-size=\"14.00\" fill=\"#000000\">value = [4393, 223]</text>\n<text text-anchor=\"middle\" x=\"628.5\" y=\"-111.8\" font-family=\"Times,serif\" font-size=\"14.00\" fill=\"#000000\">class = Online</text>\n</g>\n<!-- 8&#45;&gt;9 -->\n<g id=\"edge9\" class=\"edge\">\n<title>8&#45;&gt;9</title>\n<path fill=\"none\" stroke=\"#000000\" d=\"M628.5,-222.8796C628.5,-214.6838 628.5,-205.9891 628.5,-197.5013\"/>\n<polygon fill=\"#000000\" stroke=\"#000000\" points=\"632.0001,-197.298 628.5,-187.2981 625.0001,-197.2981 632.0001,-197.298\"/>\n</g>\n<!-- 12 -->\n<g id=\"node13\" class=\"node\">\n<title>12</title>\n<polygon fill=\"#f5d0b5\" stroke=\"#000000\" points=\"965.5,-187 795.5,-187 795.5,-104 965.5,-104 965.5,-187\"/>\n<text text-anchor=\"middle\" x=\"880.5\" y=\"-171.8\" font-family=\"Times,serif\" font-size=\"14.00\" fill=\"#000000\">totalOrder &lt;= 220841.195</text>\n<text text-anchor=\"middle\" x=\"880.5\" y=\"-156.8\" font-family=\"Times,serif\" font-size=\"14.00\" fill=\"#000000\">gini = 0.474</text>\n<text text-anchor=\"middle\" x=\"880.5\" y=\"-141.8\" font-family=\"Times,serif\" font-size=\"14.00\" fill=\"#000000\">samples = 1233</text>\n<text text-anchor=\"middle\" x=\"880.5\" y=\"-126.8\" font-family=\"Times,serif\" font-size=\"14.00\" fill=\"#000000\">value = [758, 475]</text>\n<text text-anchor=\"middle\" x=\"880.5\" y=\"-111.8\" font-family=\"Times,serif\" font-size=\"14.00\" fill=\"#000000\">class = Online</text>\n</g>\n<!-- 8&#45;&gt;12 -->\n<g id=\"edge12\" class=\"edge\">\n<title>8&#45;&gt;12</title>\n<path fill=\"none\" stroke=\"#000000\" d=\"M709.6215,-226.1926C733.969,-214.6952 760.8883,-201.9833 786.0198,-190.1157\"/>\n<polygon fill=\"#000000\" stroke=\"#000000\" points=\"787.6418,-193.2204 795.1898,-185.7854 784.6527,-186.8906 787.6418,-193.2204\"/>\n</g>\n<!-- 10 -->\n<g id=\"node11\" class=\"node\">\n<title>10</title>\n<polygon fill=\"#ea985d\" stroke=\"#000000\" points=\"657,-68 532,-68 532,0 657,0 657,-68\"/>\n<text text-anchor=\"middle\" x=\"594.5\" y=\"-52.8\" font-family=\"Times,serif\" font-size=\"14.00\" fill=\"#000000\">gini = 0.262</text>\n<text text-anchor=\"middle\" x=\"594.5\" y=\"-37.8\" font-family=\"Times,serif\" font-size=\"14.00\" fill=\"#000000\">samples = 998</text>\n<text text-anchor=\"middle\" x=\"594.5\" y=\"-22.8\" font-family=\"Times,serif\" font-size=\"14.00\" fill=\"#000000\">value = [843, 155]</text>\n<text text-anchor=\"middle\" x=\"594.5\" y=\"-7.8\" font-family=\"Times,serif\" font-size=\"14.00\" fill=\"#000000\">class = Online</text>\n</g>\n<!-- 9&#45;&gt;10 -->\n<g id=\"edge10\" class=\"edge\">\n<title>9&#45;&gt;10</title>\n<path fill=\"none\" stroke=\"#000000\" d=\"M615.8397,-103.9815C613.2613,-95.5261 610.5403,-86.6026 607.936,-78.0623\"/>\n<polygon fill=\"#000000\" stroke=\"#000000\" points=\"611.2127,-76.808 604.9481,-68.2637 604.5171,-78.8497 611.2127,-76.808\"/>\n</g>\n<!-- 11 -->\n<g id=\"node12\" class=\"node\">\n<title>11</title>\n<polygon fill=\"#e5833d\" stroke=\"#000000\" points=\"800,-68 675,-68 675,0 800,0 800,-68\"/>\n<text text-anchor=\"middle\" x=\"737.5\" y=\"-52.8\" font-family=\"Times,serif\" font-size=\"14.00\" fill=\"#000000\">gini = 0.037</text>\n<text text-anchor=\"middle\" x=\"737.5\" y=\"-37.8\" font-family=\"Times,serif\" font-size=\"14.00\" fill=\"#000000\">samples = 3618</text>\n<text text-anchor=\"middle\" x=\"737.5\" y=\"-22.8\" font-family=\"Times,serif\" font-size=\"14.00\" fill=\"#000000\">value = [3550, 68]</text>\n<text text-anchor=\"middle\" x=\"737.5\" y=\"-7.8\" font-family=\"Times,serif\" font-size=\"14.00\" fill=\"#000000\">class = Online</text>\n</g>\n<!-- 9&#45;&gt;11 -->\n<g id=\"edge11\" class=\"edge\">\n<title>9&#45;&gt;11</title>\n<path fill=\"none\" stroke=\"#000000\" d=\"M669.0876,-103.9815C678.162,-94.6989 687.7879,-84.8522 696.8643,-75.5677\"/>\n<polygon fill=\"#000000\" stroke=\"#000000\" points=\"699.5169,-77.8611 704.0046,-68.2637 694.5113,-72.9678 699.5169,-77.8611\"/>\n</g>\n<!-- 13 -->\n<g id=\"node14\" class=\"node\">\n<title>13</title>\n<polygon fill=\"#b1d8f5\" stroke=\"#000000\" points=\"943,-68 818,-68 818,0 943,0 943,-68\"/>\n<text text-anchor=\"middle\" x=\"880.5\" y=\"-52.8\" font-family=\"Times,serif\" font-size=\"14.00\" fill=\"#000000\">gini = 0.47</text>\n<text text-anchor=\"middle\" x=\"880.5\" y=\"-37.8\" font-family=\"Times,serif\" font-size=\"14.00\" fill=\"#000000\">samples = 596</text>\n<text text-anchor=\"middle\" x=\"880.5\" y=\"-22.8\" font-family=\"Times,serif\" font-size=\"14.00\" fill=\"#000000\">value = [225, 371]</text>\n<text text-anchor=\"middle\" x=\"880.5\" y=\"-7.8\" font-family=\"Times,serif\" font-size=\"14.00\" fill=\"#000000\">class = Offline</text>\n</g>\n<!-- 12&#45;&gt;13 -->\n<g id=\"edge13\" class=\"edge\">\n<title>12&#45;&gt;13</title>\n<path fill=\"none\" stroke=\"#000000\" d=\"M880.5,-103.9815C880.5,-95.618 880.5,-86.7965 880.5,-78.3409\"/>\n<polygon fill=\"#000000\" stroke=\"#000000\" points=\"884.0001,-78.2636 880.5,-68.2637 877.0001,-78.2637 884.0001,-78.2636\"/>\n</g>\n<!-- 14 -->\n<g id=\"node15\" class=\"node\">\n<title>14</title>\n<polygon fill=\"#ea9a60\" stroke=\"#000000\" points=\"1086,-68 961,-68 961,0 1086,0 1086,-68\"/>\n<text text-anchor=\"middle\" x=\"1023.5\" y=\"-52.8\" font-family=\"Times,serif\" font-size=\"14.00\" fill=\"#000000\">gini = 0.273</text>\n<text text-anchor=\"middle\" x=\"1023.5\" y=\"-37.8\" font-family=\"Times,serif\" font-size=\"14.00\" fill=\"#000000\">samples = 637</text>\n<text text-anchor=\"middle\" x=\"1023.5\" y=\"-22.8\" font-family=\"Times,serif\" font-size=\"14.00\" fill=\"#000000\">value = [533, 104]</text>\n<text text-anchor=\"middle\" x=\"1023.5\" y=\"-7.8\" font-family=\"Times,serif\" font-size=\"14.00\" fill=\"#000000\">class = Online</text>\n</g>\n<!-- 12&#45;&gt;14 -->\n<g id=\"edge14\" class=\"edge\">\n<title>12&#45;&gt;14</title>\n<path fill=\"none\" stroke=\"#000000\" d=\"M933.7479,-103.9815C946.1244,-94.3313 959.2828,-84.0714 971.6003,-74.4673\"/>\n<polygon fill=\"#000000\" stroke=\"#000000\" points=\"973.8225,-77.1728 979.5565,-68.2637 969.5182,-71.6525 973.8225,-77.1728\"/>\n</g>\n</g>\n</svg>\n"
          },
          "metadata": {
            "tags": []
          },
          "execution_count": 11
        }
      ]
    },
    {
      "cell_type": "code",
      "metadata": {
        "colab": {
          "base_uri": "https://localhost:8080/"
        },
        "id": "sqPe0PSZFQWr",
        "outputId": "005c2bd2-ed7d-42e9-9e4a-6b7382952dc1"
      },
      "source": [
        "y_hat_dt = Model_dt.predict(X_test)\r\n",
        "\r\n",
        "y_hat_dt"
      ],
      "execution_count": 12,
      "outputs": [
        {
          "output_type": "execute_result",
          "data": {
            "text/plain": [
              "array(['Online', 'Offline', 'Offline', ..., 'Offline', 'Online',\n",
              "       'Offline'], dtype=object)"
            ]
          },
          "metadata": {
            "tags": []
          },
          "execution_count": 12
        }
      ]
    },
    {
      "cell_type": "markdown",
      "metadata": {
        "id": "Dg3Uk52cFlBJ"
      },
      "source": [
        "### 4. Model Validation"
      ]
    },
    {
      "cell_type": "code",
      "metadata": {
        "id": "yaE6gohNF-7K"
      },
      "source": [
        "from sklearn.metrics import confusion_matrix, accuracy_score\r\n",
        "from sklearn.metrics import f1_score"
      ],
      "execution_count": 13,
      "outputs": []
    },
    {
      "cell_type": "markdown",
      "metadata": {
        "id": "MJhEEslaFxoO"
      },
      "source": [
        "> * Logistic Regression의 Accuracy"
      ]
    },
    {
      "cell_type": "code",
      "metadata": {
        "colab": {
          "base_uri": "https://localhost:8080/"
        },
        "id": "0ZAEvLerFhfh",
        "outputId": "6d56abea-5a2b-40af-802b-8be0812588b6"
      },
      "source": [
        "confusion_matrix(y_test, y_hat_lr, labels = ['Online','Offline'])"
      ],
      "execution_count": 14,
      "outputs": [
        {
          "output_type": "execute_result",
          "data": {
            "text/plain": [
              "array([[ 749, 1527],\n",
              "       [  30, 2197]])"
            ]
          },
          "metadata": {
            "tags": []
          },
          "execution_count": 14
        }
      ]
    },
    {
      "cell_type": "code",
      "metadata": {
        "colab": {
          "base_uri": "https://localhost:8080/"
        },
        "id": "N3Pr2cEYGMPj",
        "outputId": "516b5aa6-37d5-4899-9411-a9c63bd78351"
      },
      "source": [
        "print(accuracy_score(y_test,y_hat_lr))"
      ],
      "execution_count": 15,
      "outputs": [
        {
          "output_type": "stream",
          "text": [
            "0.654230512991339\n"
          ],
          "name": "stdout"
        }
      ]
    },
    {
      "cell_type": "markdown",
      "metadata": {
        "id": "OXaRW48pGy4X"
      },
      "source": [
        "> * Logistic Regression의 F1_Score"
      ]
    },
    {
      "cell_type": "code",
      "metadata": {
        "colab": {
          "base_uri": "https://localhost:8080/"
        },
        "id": "_1spXJkrGyUq",
        "outputId": "a24e7795-3860-4823-df2c-6a14655ee745"
      },
      "source": [
        "f1_score(y_test, y_hat_lr, pos_label = 'Online')"
      ],
      "execution_count": 16,
      "outputs": [
        {
          "output_type": "execute_result",
          "data": {
            "text/plain": [
              "0.4903436988543371"
            ]
          },
          "metadata": {
            "tags": []
          },
          "execution_count": 16
        }
      ]
    },
    {
      "cell_type": "code",
      "metadata": {
        "colab": {
          "base_uri": "https://localhost:8080/"
        },
        "id": "Wc43EJCPHIGB",
        "outputId": "f6cf0206-8a3b-4da0-902e-fca544ba0c63"
      },
      "source": [
        "f1_score(y_test, y_hat_lr, pos_label = 'Offline')"
      ],
      "execution_count": 17,
      "outputs": [
        {
          "output_type": "execute_result",
          "data": {
            "text/plain": [
              "0.7383633002856662"
            ]
          },
          "metadata": {
            "tags": []
          },
          "execution_count": 17
        }
      ]
    },
    {
      "cell_type": "markdown",
      "metadata": {
        "id": "m96cLf9CGbCe"
      },
      "source": [
        "> * Decision Tree의 Accuracy"
      ]
    },
    {
      "cell_type": "code",
      "metadata": {
        "colab": {
          "base_uri": "https://localhost:8080/"
        },
        "id": "qZodQWHqGQo1",
        "outputId": "9d28d6d2-641d-4404-a596-9ba69012e759"
      },
      "source": [
        "confusion_matrix(y_test, y_hat_dt)"
      ],
      "execution_count": 18,
      "outputs": [
        {
          "output_type": "execute_result",
          "data": {
            "text/plain": [
              "array([[2055,  172],\n",
              "       [ 137, 2139]])"
            ]
          },
          "metadata": {
            "tags": []
          },
          "execution_count": 18
        }
      ]
    },
    {
      "cell_type": "code",
      "metadata": {
        "colab": {
          "base_uri": "https://localhost:8080/"
        },
        "id": "RCnQi_8hGjCj",
        "outputId": "1388e28c-e38e-4140-c7e6-71d9fef323e0"
      },
      "source": [
        "print(accuracy_score(y_test,y_hat_dt))"
      ],
      "execution_count": 19,
      "outputs": [
        {
          "output_type": "stream",
          "text": [
            "0.9313790806129247\n"
          ],
          "name": "stdout"
        }
      ]
    },
    {
      "cell_type": "markdown",
      "metadata": {
        "id": "Yt-sYz6pHNxw"
      },
      "source": [
        "> * Decision Tree의 F1_Score"
      ]
    },
    {
      "cell_type": "code",
      "metadata": {
        "colab": {
          "base_uri": "https://localhost:8080/"
        },
        "id": "ePpWrXmjGoXV",
        "outputId": "5c1afa88-e9bf-4c63-cb25-a3018de8cfe5"
      },
      "source": [
        "f1_score(y_test, y_hat_dt, average = None)"
      ],
      "execution_count": 20,
      "outputs": [
        {
          "output_type": "execute_result",
          "data": {
            "text/plain": [
              "array([0.93007468, 0.93263571])"
            ]
          },
          "metadata": {
            "tags": []
          },
          "execution_count": 20
        }
      ]
    },
    {
      "cell_type": "markdown",
      "metadata": {
        "id": "veFxaJcLJ2ZN"
      },
      "source": [
        "### 4. Logistic Regression VS Decision Tree\r\n",
        "> * accuracy 비교"
      ]
    },
    {
      "cell_type": "code",
      "metadata": {
        "colab": {
          "base_uri": "https://localhost:8080/"
        },
        "id": "SXuvpKW1HSJM",
        "outputId": "4ecfa5e5-e53f-443f-8fc8-9ab2e42b39c3"
      },
      "source": [
        "print('lr모델 Accuracy : ', accuracy_score(y_test,y_hat_lr))\r\n",
        "print('dt모델 Accuracy : ', accuracy_score(y_test,y_hat_dt))"
      ],
      "execution_count": 21,
      "outputs": [
        {
          "output_type": "stream",
          "text": [
            "lr모델 Accuracy :  0.654230512991339\n",
            "dt모델 Accuracy :  0.9313790806129247\n"
          ],
          "name": "stdout"
        }
      ]
    },
    {
      "cell_type": "markdown",
      "metadata": {
        "id": "dCBsBOrILUu_"
      },
      "source": [
        "위 비교를 바탕으로, \r\n",
        "\r\n",
        "product.csv에서 X를 'meanPriceEach','totalOrder','totalBundle'로 설정하여 y인 'customerType'을 분류할 때, \r\n",
        "\r\n",
        "Logistic Regression보다 Decision Tree가 더 유리하다고 생각한다."
      ]
    }
  ]
}