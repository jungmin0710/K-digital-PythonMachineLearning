{
  "nbformat": 4,
  "nbformat_minor": 0,
  "metadata": {
    "colab": {
      "name": "Silhouette_Analysis.ipynb",
      "provenance": [],
      "authorship_tag": "ABX9TyM1WM+TVSjPMC4aE9ac/mHH",
      "include_colab_link": true
    },
    "kernelspec": {
      "name": "python3",
      "display_name": "Python 3"
    }
  },
  "cells": [
    {
      "cell_type": "markdown",
      "metadata": {
        "id": "view-in-github",
        "colab_type": "text"
      },
      "source": [
        "<a href=\"https://colab.research.google.com/github/jungmin0710/K-digital-PythonMachineLearning/blob/main/Silhouette_Analysis.ipynb\" target=\"_parent\"><img src=\"https://colab.research.google.com/assets/colab-badge.svg\" alt=\"Open In Colab\"/></a>"
      ]
    },
    {
      "cell_type": "markdown",
      "metadata": {
        "id": "qgDO1CjZ4Aka"
      },
      "source": [
        "# 군집 분석 성능 평가 - Silhouette 계수 이용"
      ]
    },
    {
      "cell_type": "code",
      "metadata": {
        "id": "bnrz6EX53-Ra"
      },
      "source": [
        "import warnings\r\n",
        "warnings.filterwarnings('ignore')"
      ],
      "execution_count": 1,
      "outputs": []
    },
    {
      "cell_type": "markdown",
      "metadata": {
        "id": "ZHPq5UYP4IrF"
      },
      "source": [
        "## 1. Import Packages and Lead Dataset\r\n",
        "### 1. Import Packages"
      ]
    },
    {
      "cell_type": "code",
      "metadata": {
        "id": "Rdk6sqSP4IJi"
      },
      "source": [
        "import matplotlib.pyplot as plt\r\n",
        "import numpy as np\r\n",
        "import pandas as pd"
      ],
      "execution_count": 2,
      "outputs": []
    },
    {
      "cell_type": "markdown",
      "metadata": {
        "id": "3ImpU7yh4R6f"
      },
      "source": [
        "### 2. Load Dataset\r\n",
        "* Load iris Dataset"
      ]
    },
    {
      "cell_type": "code",
      "metadata": {
        "id": "qmrlcUnN4RXt"
      },
      "source": [
        "from sklearn.datasets import load_iris\r\n",
        "\r\n",
        "iris = load_iris()"
      ],
      "execution_count": 3,
      "outputs": []
    },
    {
      "cell_type": "markdown",
      "metadata": {
        "id": "bHRnzh1F4ZsD"
      },
      "source": [
        "* pandas DataFrame"
      ]
    },
    {
      "cell_type": "code",
      "metadata": {
        "colab": {
          "base_uri": "https://localhost:8080/",
          "height": 135
        },
        "id": "CV-ZNsih4ZJF",
        "outputId": "358b2907-15ed-400d-d180-f0168a5ceb71"
      },
      "source": [
        "DF = pd.DataFrame(data = iris.data,\r\n",
        "                  columns = ['sepal_length',\r\n",
        "                             'sepal_width',\r\n",
        "                             'petal_length',\r\n",
        "                             'petal_width'])\r\n",
        "\r\n",
        "DF.head(3)"
      ],
      "execution_count": 5,
      "outputs": [
        {
          "output_type": "execute_result",
          "data": {
            "text/html": [
              "<div>\n",
              "<style scoped>\n",
              "    .dataframe tbody tr th:only-of-type {\n",
              "        vertical-align: middle;\n",
              "    }\n",
              "\n",
              "    .dataframe tbody tr th {\n",
              "        vertical-align: top;\n",
              "    }\n",
              "\n",
              "    .dataframe thead th {\n",
              "        text-align: right;\n",
              "    }\n",
              "</style>\n",
              "<table border=\"1\" class=\"dataframe\">\n",
              "  <thead>\n",
              "    <tr style=\"text-align: right;\">\n",
              "      <th></th>\n",
              "      <th>sepal_length</th>\n",
              "      <th>sepal_width</th>\n",
              "      <th>petal_length</th>\n",
              "      <th>petal_width</th>\n",
              "    </tr>\n",
              "  </thead>\n",
              "  <tbody>\n",
              "    <tr>\n",
              "      <th>0</th>\n",
              "      <td>5.1</td>\n",
              "      <td>3.5</td>\n",
              "      <td>1.4</td>\n",
              "      <td>0.2</td>\n",
              "    </tr>\n",
              "    <tr>\n",
              "      <th>1</th>\n",
              "      <td>4.9</td>\n",
              "      <td>3.0</td>\n",
              "      <td>1.4</td>\n",
              "      <td>0.2</td>\n",
              "    </tr>\n",
              "    <tr>\n",
              "      <th>2</th>\n",
              "      <td>4.7</td>\n",
              "      <td>3.2</td>\n",
              "      <td>1.3</td>\n",
              "      <td>0.2</td>\n",
              "    </tr>\n",
              "  </tbody>\n",
              "</table>\n",
              "</div>"
            ],
            "text/plain": [
              "   sepal_length  sepal_width  petal_length  petal_width\n",
              "0           5.1          3.5           1.4          0.2\n",
              "1           4.9          3.0           1.4          0.2\n",
              "2           4.7          3.2           1.3          0.2"
            ]
          },
          "metadata": {
            "tags": []
          },
          "execution_count": 5
        }
      ]
    },
    {
      "cell_type": "markdown",
      "metadata": {
        "id": "gnP5gO094mrD"
      },
      "source": [
        "## 2. K-means Modeling\r\n",
        "### 1. Modeling\r\n",
        "* n_clusters : 군집 개수 지정\r\n",
        "* init : 초기 중심 설정 방식(기본값)\r\n",
        "* max_iter : 최대 반복 횟수"
      ]
    },
    {
      "cell_type": "code",
      "metadata": {
        "colab": {
          "base_uri": "https://localhost:8080/"
        },
        "id": "r1Tbvkkj4joD",
        "outputId": "4dabed90-655c-442a-8622-bbc9c603116e"
      },
      "source": [
        "from sklearn.cluster import KMeans\r\n",
        "\r\n",
        "kmeans_3 = KMeans(n_clusters = 3,\r\n",
        "                  init = 'k-means++',\r\n",
        "                  max_iter = 15,\r\n",
        "                  random_state = 2045)\r\n",
        "\r\n",
        "kmeans_3.fit(DF)"
      ],
      "execution_count": 7,
      "outputs": [
        {
          "output_type": "execute_result",
          "data": {
            "text/plain": [
              "KMeans(algorithm='auto', copy_x=True, init='k-means++', max_iter=15,\n",
              "       n_clusters=3, n_init=10, n_jobs=None, precompute_distances='auto',\n",
              "       random_state=2045, tol=0.0001, verbose=0)"
            ]
          },
          "metadata": {
            "tags": []
          },
          "execution_count": 7
        }
      ]
    },
    {
      "cell_type": "markdown",
      "metadata": {
        "id": "67Q9NYz05ArP"
      },
      "source": [
        "## 3. Sihouette Analysis\r\n",
        "* 실수엣 계수(sihouette coefficient) 측정지표\r\n",
        "  * 개별 데이터포인트가 가지는 군집화 지표\r\n",
        "  * 데이터포인트가 같은 군집 내의 다른 데이터포인트와 얼마나 가깝게 군집되어 있는지, 다른 군집에 있는 데이터포인트와 얼마나 멀게 분리되어 있는지 나타내는 지표\r\n",
        "* 각 군집간의 거리가 얼마나 효율적으로 분리되었는지 평가\r\n",
        "  * 다른 군집과의 거리는 멀고, 군집 내 데이터포인트 간의 거리는 가깝게 형성"
      ]
    },
    {
      "cell_type": "markdown",
      "metadata": {
        "id": "qOAxglah5Xyz"
      },
      "source": [
        "### 1. DF에 'Clustering' 추가\r\n",
        "* 3개로 군집분석한 결과 사용"
      ]
    },
    {
      "cell_type": "code",
      "metadata": {
        "colab": {
          "base_uri": "https://localhost:8080/",
          "height": 135
        },
        "id": "FQbJ2ybB49ss",
        "outputId": "a188fd7c-d4d5-4770-e9e1-e298f4931225"
      },
      "source": [
        "DF['Clustering'] = kmeans_3.labels_\r\n",
        "\r\n",
        "DF.head(3)"
      ],
      "execution_count": 8,
      "outputs": [
        {
          "output_type": "execute_result",
          "data": {
            "text/html": [
              "<div>\n",
              "<style scoped>\n",
              "    .dataframe tbody tr th:only-of-type {\n",
              "        vertical-align: middle;\n",
              "    }\n",
              "\n",
              "    .dataframe tbody tr th {\n",
              "        vertical-align: top;\n",
              "    }\n",
              "\n",
              "    .dataframe thead th {\n",
              "        text-align: right;\n",
              "    }\n",
              "</style>\n",
              "<table border=\"1\" class=\"dataframe\">\n",
              "  <thead>\n",
              "    <tr style=\"text-align: right;\">\n",
              "      <th></th>\n",
              "      <th>sepal_length</th>\n",
              "      <th>sepal_width</th>\n",
              "      <th>petal_length</th>\n",
              "      <th>petal_width</th>\n",
              "      <th>Clustering</th>\n",
              "    </tr>\n",
              "  </thead>\n",
              "  <tbody>\n",
              "    <tr>\n",
              "      <th>0</th>\n",
              "      <td>5.1</td>\n",
              "      <td>3.5</td>\n",
              "      <td>1.4</td>\n",
              "      <td>0.2</td>\n",
              "      <td>1</td>\n",
              "    </tr>\n",
              "    <tr>\n",
              "      <th>1</th>\n",
              "      <td>4.9</td>\n",
              "      <td>3.0</td>\n",
              "      <td>1.4</td>\n",
              "      <td>0.2</td>\n",
              "      <td>1</td>\n",
              "    </tr>\n",
              "    <tr>\n",
              "      <th>2</th>\n",
              "      <td>4.7</td>\n",
              "      <td>3.2</td>\n",
              "      <td>1.3</td>\n",
              "      <td>0.2</td>\n",
              "      <td>1</td>\n",
              "    </tr>\n",
              "  </tbody>\n",
              "</table>\n",
              "</div>"
            ],
            "text/plain": [
              "   sepal_length  sepal_width  petal_length  petal_width  Clustering\n",
              "0           5.1          3.5           1.4          0.2           1\n",
              "1           4.9          3.0           1.4          0.2           1\n",
              "2           4.7          3.2           1.3          0.2           1"
            ]
          },
          "metadata": {
            "tags": []
          },
          "execution_count": 8
        }
      ]
    },
    {
      "cell_type": "markdown",
      "metadata": {
        "id": "Yd9qYGiC5hGf"
      },
      "source": [
        "### 2. 실수엣 계수값\r\n",
        "* 개별 데이터포인터들의 실수엣 계수값 계산\r\n",
        "  * 'Clustering' 정보 사용\r\n",
        "* 실수엣 계수는 -1~1 사이의 값을 가짐\r\n",
        "  * 1에 가까울수록 근접한 다른 군집과 거리가 멀리 떨어져 있음을 의미\r\n",
        "  * 0에 가까울수록 근접한 다른 군집과 거리가 가까운 것을 의미\r\n",
        "  * -1값은 전혀 다른 군집에 데이터 포인트가 할당되었음을 의미\r\n",
        "* sihouette_samples()"
      ]
    },
    {
      "cell_type": "code",
      "metadata": {
        "colab": {
          "base_uri": "https://localhost:8080/"
        },
        "id": "8oqkwaVs5fF7",
        "outputId": "ede36999-abd2-45f5-8206-da40d2c42cff"
      },
      "source": [
        "from sklearn.metrics import silhouette_samples\r\n",
        "\r\n",
        "silhouette_samples(iris.data, DF['Clustering'])"
      ],
      "execution_count": 9,
      "outputs": [
        {
          "output_type": "execute_result",
          "data": {
            "text/plain": [
              "array([0.85295506, 0.81549476, 0.8293151 , 0.80501395, 0.8493016 ,\n",
              "       0.74828037, 0.82165093, 0.85390505, 0.75215011, 0.825294  ,\n",
              "       0.80310303, 0.83591262, 0.81056389, 0.74615046, 0.70259371,\n",
              "       0.64377156, 0.77568391, 0.85101831, 0.70685782, 0.82030124,\n",
              "       0.78418399, 0.82590584, 0.79297218, 0.7941134 , 0.77503635,\n",
              "       0.79865509, 0.83346695, 0.84201773, 0.84364429, 0.81784646,\n",
              "       0.81518962, 0.79899235, 0.76272528, 0.72224615, 0.82877171,\n",
              "       0.83224831, 0.79415322, 0.84188954, 0.76856774, 0.85033231,\n",
              "       0.84941579, 0.63900017, 0.78657771, 0.80023815, 0.74698726,\n",
              "       0.80977534, 0.81340268, 0.81902059, 0.8182324 , 0.85209835,\n",
              "       0.02672203, 0.38118643, 0.05340075, 0.59294381, 0.36885321,\n",
              "       0.59221025, 0.28232583, 0.26525405, 0.34419223, 0.57829491,\n",
              "       0.37478707, 0.58710354, 0.55107857, 0.48216686, 0.56310057,\n",
              "       0.32459291, 0.55751057, 0.61072967, 0.46149897, 0.6115753 ,\n",
              "       0.32909528, 0.58968904, 0.31046301, 0.49424779, 0.5000461 ,\n",
              "       0.38548959, 0.12629433, 0.11798213, 0.55293611, 0.5069822 ,\n",
              "       0.59466094, 0.5607585 , 0.61972579, 0.26087292, 0.54077013,\n",
              "       0.41598629, 0.16655431, 0.48935747, 0.60716023, 0.61436443,\n",
              "       0.59560929, 0.50352722, 0.62444848, 0.29362234, 0.62754454,\n",
              "       0.60657448, 0.62205599, 0.55780204, 0.14131742, 0.63064081,\n",
              "       0.49927538, 0.23225278, 0.61193633, 0.36075942, 0.5577792 ,\n",
              "       0.54384277, 0.46682151, 0.55917348, 0.44076207, 0.56152256,\n",
              "       0.26062588, 0.22965423, 0.55509948, 0.28503067, 0.02635881,\n",
              "       0.39825264, 0.42110831, 0.49486598, 0.48341063, 0.32868889,\n",
              "       0.6070348 , 0.33355947, 0.51237366, 0.20297372, 0.580154  ,\n",
              "       0.57818326, 0.30904249, 0.25226992, 0.45434264, 0.51608826,\n",
              "       0.56017398, 0.48442397, 0.46255248, 0.13900039, 0.05328614,\n",
              "       0.55186784, 0.45549975, 0.3887791 , 0.35124673, 0.53444618,\n",
              "       0.5702338 , 0.41025549, 0.23225278, 0.61324746, 0.5670778 ,\n",
              "       0.42513648, 0.10417086, 0.31493016, 0.35245379, 0.18544229])"
            ]
          },
          "metadata": {
            "tags": []
          },
          "execution_count": 9
        }
      ]
    },
    {
      "cell_type": "markdown",
      "metadata": {
        "id": "avdw7mAL6A-E"
      },
      "source": [
        "* 데이터 포인트 별 실수엣 계수값 추가"
      ]
    },
    {
      "cell_type": "code",
      "metadata": {
        "colab": {
          "base_uri": "https://localhost:8080/",
          "height": 135
        },
        "id": "ToSSknQX5_M5",
        "outputId": "de9d7f58-9f56-4e80-d0c0-413a48a34724"
      },
      "source": [
        "DF['Silh_Coef'] = silhouette_samples(iris.data, DF['Clustering'])\r\n",
        "\r\n",
        "DF.head(3)"
      ],
      "execution_count": 10,
      "outputs": [
        {
          "output_type": "execute_result",
          "data": {
            "text/html": [
              "<div>\n",
              "<style scoped>\n",
              "    .dataframe tbody tr th:only-of-type {\n",
              "        vertical-align: middle;\n",
              "    }\n",
              "\n",
              "    .dataframe tbody tr th {\n",
              "        vertical-align: top;\n",
              "    }\n",
              "\n",
              "    .dataframe thead th {\n",
              "        text-align: right;\n",
              "    }\n",
              "</style>\n",
              "<table border=\"1\" class=\"dataframe\">\n",
              "  <thead>\n",
              "    <tr style=\"text-align: right;\">\n",
              "      <th></th>\n",
              "      <th>sepal_length</th>\n",
              "      <th>sepal_width</th>\n",
              "      <th>petal_length</th>\n",
              "      <th>petal_width</th>\n",
              "      <th>Clustering</th>\n",
              "      <th>Silh_Coef</th>\n",
              "    </tr>\n",
              "  </thead>\n",
              "  <tbody>\n",
              "    <tr>\n",
              "      <th>0</th>\n",
              "      <td>5.1</td>\n",
              "      <td>3.5</td>\n",
              "      <td>1.4</td>\n",
              "      <td>0.2</td>\n",
              "      <td>1</td>\n",
              "      <td>0.852955</td>\n",
              "    </tr>\n",
              "    <tr>\n",
              "      <th>1</th>\n",
              "      <td>4.9</td>\n",
              "      <td>3.0</td>\n",
              "      <td>1.4</td>\n",
              "      <td>0.2</td>\n",
              "      <td>1</td>\n",
              "      <td>0.815495</td>\n",
              "    </tr>\n",
              "    <tr>\n",
              "      <th>2</th>\n",
              "      <td>4.7</td>\n",
              "      <td>3.2</td>\n",
              "      <td>1.3</td>\n",
              "      <td>0.2</td>\n",
              "      <td>1</td>\n",
              "      <td>0.829315</td>\n",
              "    </tr>\n",
              "  </tbody>\n",
              "</table>\n",
              "</div>"
            ],
            "text/plain": [
              "   sepal_length  sepal_width  petal_length  petal_width  Clustering  Silh_Coef\n",
              "0           5.1          3.5           1.4          0.2           1   0.852955\n",
              "1           4.9          3.0           1.4          0.2           1   0.815495\n",
              "2           4.7          3.2           1.3          0.2           1   0.829315"
            ]
          },
          "metadata": {
            "tags": []
          },
          "execution_count": 10
        }
      ]
    },
    {
      "cell_type": "markdown",
      "metadata": {
        "id": "jhzF45eN6LAe"
      },
      "source": [
        "### 3. 실수엣 점수(Silhouette Score)\r\n",
        "* 데이터 포인터들의 실수엣 계수값의 평균\r\n",
        "* 권장 실수엣 점수값\r\n",
        "  * 전체 실수엣 계수 평균이 0~1 사이의 값을 가지며, 1에 가까운 경우\r\n",
        "  * 개별 군집의 실수엣 계수 평균들이 전체 실수엣 계수 평균과 크게 차이나지 않는 경우\r\n",
        "* silhouette_score()"
      ]
    },
    {
      "cell_type": "code",
      "metadata": {
        "colab": {
          "base_uri": "https://localhost:8080/"
        },
        "id": "791VP8iT6JIL",
        "outputId": "85921664-5f75-4cf5-af53-2ba6f0877962"
      },
      "source": [
        "from sklearn.metrics import silhouette_score\r\n",
        "\r\n",
        "silhouette_score(iris.data, DF['Clustering'])"
      ],
      "execution_count": 11,
      "outputs": [
        {
          "output_type": "execute_result",
          "data": {
            "text/plain": [
              "0.5528190123564091"
            ]
          },
          "metadata": {
            "tags": []
          },
          "execution_count": 11
        }
      ]
    },
    {
      "cell_type": "markdown",
      "metadata": {
        "id": "94m5KWPS6ilh"
      },
      "source": [
        "* 3개 군집의 실수엣 점수와 전체 실수엣 점수 비교"
      ]
    },
    {
      "cell_type": "code",
      "metadata": {
        "colab": {
          "base_uri": "https://localhost:8080/"
        },
        "id": "sgfqcj166hta",
        "outputId": "599cec13-f1bb-4963-c7af-f312841380fd"
      },
      "source": [
        "DF.groupby('Clustering')['Silh_Coef'].mean()"
      ],
      "execution_count": 12,
      "outputs": [
        {
          "output_type": "execute_result",
          "data": {
            "text/plain": [
              "Clustering\n",
              "0    0.417320\n",
              "1    0.798140\n",
              "2    0.451105\n",
              "Name: Silh_Coef, dtype: float64"
            ]
          },
          "metadata": {
            "tags": []
          },
          "execution_count": 12
        }
      ]
    },
    {
      "cell_type": "markdown",
      "metadata": {
        "id": "7bzx1SLf6sRt"
      },
      "source": [
        "본 내용은 2021/03/10(수)에 학습한 내용입니다."
      ]
    }
  ]
}