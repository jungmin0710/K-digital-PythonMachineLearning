{
  "nbformat": 4,
  "nbformat_minor": 0,
  "metadata": {
    "colab": {
      "name": "sklearn_Classification.ipynb",
      "provenance": [],
      "authorship_tag": "ABX9TyN/wIqosKLZEHNHz4vCiufi",
      "include_colab_link": true
    },
    "kernelspec": {
      "name": "python3",
      "display_name": "Python 3"
    }
  },
  "cells": [
    {
      "cell_type": "markdown",
      "metadata": {
        "id": "view-in-github",
        "colab_type": "text"
      },
      "source": [
        "<a href=\"https://colab.research.google.com/github/jungmin0710/K-digital-PythonMachineLearning/blob/main/sklearn_Classification.ipynb\" target=\"_parent\"><img src=\"https://colab.research.google.com/assets/colab-badge.svg\" alt=\"Open In Colab\"/></a>"
      ]
    },
    {
      "cell_type": "markdown",
      "metadata": {
        "id": "t5D1WGd-rlst"
      },
      "source": [
        "# sklearn Classification - 분류"
      ]
    },
    {
      "cell_type": "code",
      "metadata": {
        "id": "dWoYNe0lra-b"
      },
      "source": [
        "import warnings\r\n",
        "warnings.filterwarnings('ignore')"
      ],
      "execution_count": 1,
      "outputs": []
    },
    {
      "cell_type": "markdown",
      "metadata": {
        "id": "rdZq_OmWrwxa"
      },
      "source": [
        "## 실습용 데이터 설정\r\n",
        "* pandas DataFrame\r\n",
        "  * iris.csv"
      ]
    },
    {
      "cell_type": "code",
      "metadata": {
        "colab": {
          "base_uri": "https://localhost:8080/"
        },
        "id": "iKU42EJ8rvuZ",
        "outputId": "75a4cacc-062e-4dc8-ac4c-f01494534968"
      },
      "source": [
        "import seaborn as sns\r\n",
        "\r\n",
        "DF = sns.load_dataset('iris')\r\n",
        "\r\n",
        "DF.info()"
      ],
      "execution_count": 2,
      "outputs": [
        {
          "output_type": "stream",
          "text": [
            "<class 'pandas.core.frame.DataFrame'>\n",
            "RangeIndex: 150 entries, 0 to 149\n",
            "Data columns (total 5 columns):\n",
            " #   Column        Non-Null Count  Dtype  \n",
            "---  ------        --------------  -----  \n",
            " 0   sepal_length  150 non-null    float64\n",
            " 1   sepal_width   150 non-null    float64\n",
            " 2   petal_length  150 non-null    float64\n",
            " 3   petal_width   150 non-null    float64\n",
            " 4   species       150 non-null    object \n",
            "dtypes: float64(4), object(1)\n",
            "memory usage: 6.0+ KB\n"
          ],
          "name": "stdout"
        }
      ]
    },
    {
      "cell_type": "code",
      "metadata": {
        "colab": {
          "base_uri": "https://localhost:8080/",
          "height": 135
        },
        "id": "_6ieUtver6d9",
        "outputId": "60d98302-ac6a-4fd6-f5b3-10618872db8b"
      },
      "source": [
        "DF.head(3)"
      ],
      "execution_count": 3,
      "outputs": [
        {
          "output_type": "execute_result",
          "data": {
            "text/html": [
              "<div>\n",
              "<style scoped>\n",
              "    .dataframe tbody tr th:only-of-type {\n",
              "        vertical-align: middle;\n",
              "    }\n",
              "\n",
              "    .dataframe tbody tr th {\n",
              "        vertical-align: top;\n",
              "    }\n",
              "\n",
              "    .dataframe thead th {\n",
              "        text-align: right;\n",
              "    }\n",
              "</style>\n",
              "<table border=\"1\" class=\"dataframe\">\n",
              "  <thead>\n",
              "    <tr style=\"text-align: right;\">\n",
              "      <th></th>\n",
              "      <th>sepal_length</th>\n",
              "      <th>sepal_width</th>\n",
              "      <th>petal_length</th>\n",
              "      <th>petal_width</th>\n",
              "      <th>species</th>\n",
              "    </tr>\n",
              "  </thead>\n",
              "  <tbody>\n",
              "    <tr>\n",
              "      <th>0</th>\n",
              "      <td>5.1</td>\n",
              "      <td>3.5</td>\n",
              "      <td>1.4</td>\n",
              "      <td>0.2</td>\n",
              "      <td>setosa</td>\n",
              "    </tr>\n",
              "    <tr>\n",
              "      <th>1</th>\n",
              "      <td>4.9</td>\n",
              "      <td>3.0</td>\n",
              "      <td>1.4</td>\n",
              "      <td>0.2</td>\n",
              "      <td>setosa</td>\n",
              "    </tr>\n",
              "    <tr>\n",
              "      <th>2</th>\n",
              "      <td>4.7</td>\n",
              "      <td>3.2</td>\n",
              "      <td>1.3</td>\n",
              "      <td>0.2</td>\n",
              "      <td>setosa</td>\n",
              "    </tr>\n",
              "  </tbody>\n",
              "</table>\n",
              "</div>"
            ],
            "text/plain": [
              "   sepal_length  sepal_width  petal_length  petal_width species\n",
              "0           5.1          3.5           1.4          0.2  setosa\n",
              "1           4.9          3.0           1.4          0.2  setosa\n",
              "2           4.7          3.2           1.3          0.2  setosa"
            ]
          },
          "metadata": {
            "tags": []
          },
          "execution_count": 3
        }
      ]
    },
    {
      "cell_type": "markdown",
      "metadata": {
        "id": "xAem3gyOr840"
      },
      "source": [
        "> 1) 분석 변수 선택\r\n",
        "* X : 'sepal_length', 'sepal_width', 'petal_length', 'petal_width'\r\n",
        "* y : 'species'"
      ]
    },
    {
      "cell_type": "code",
      "metadata": {
        "id": "hhPzEv8fr8CT"
      },
      "source": [
        "X = DF[['sepal_length', 'sepal_width', 'petal_length', 'petal_width']]\r\n",
        "y = DF['species']"
      ],
      "execution_count": 4,
      "outputs": []
    },
    {
      "cell_type": "markdown",
      "metadata": {
        "id": "ruzgRZAfsRx2"
      },
      "source": [
        "> 2) Train & Test Split(with stratify)\r\n",
        "* 7:3"
      ]
    },
    {
      "cell_type": "code",
      "metadata": {
        "colab": {
          "base_uri": "https://localhost:8080/"
        },
        "id": "tJusUqDzsQ-C",
        "outputId": "5dc21ff4-7727-4bbb-de06-5eda5d538b9f"
      },
      "source": [
        "from sklearn.model_selection import train_test_split\r\n",
        "\r\n",
        "X_train, X_test, y_train, y_test = train_test_split(X, y,\r\n",
        "                                                    test_size = 0.3,\r\n",
        "                                                    stratify = y,\r\n",
        "                                                    random_state = 2045)\r\n",
        "\r\n",
        "print('Train Data : ', X_train.shape, y_train.shape)\r\n",
        "print('Test Data : ', X_test.shape, y_test.shape)"
      ],
      "execution_count": 5,
      "outputs": [
        {
          "output_type": "stream",
          "text": [
            "Train Data :  (105, 4) (105,)\n",
            "Test Data :  (45, 4) (45,)\n"
          ],
          "name": "stdout"
        }
      ]
    },
    {
      "cell_type": "code",
      "metadata": {
        "colab": {
          "base_uri": "https://localhost:8080/"
        },
        "id": "f7cnfymDsqI5",
        "outputId": "6371c4f0-a13c-4100-b710-f45a4ace62b4"
      },
      "source": [
        "DF['species'].value_counts()"
      ],
      "execution_count": 6,
      "outputs": [
        {
          "output_type": "execute_result",
          "data": {
            "text/plain": [
              "versicolor    50\n",
              "setosa        50\n",
              "virginica     50\n",
              "Name: species, dtype: int64"
            ]
          },
          "metadata": {
            "tags": []
          },
          "execution_count": 6
        }
      ]
    },
    {
      "cell_type": "code",
      "metadata": {
        "colab": {
          "base_uri": "https://localhost:8080/"
        },
        "id": "qmurNnS1sssP",
        "outputId": "31066a3c-acbb-4d40-ad23-5c77d927986d"
      },
      "source": [
        "print(y_train.value_counts(), '\\n\\n', y_test.value_counts())"
      ],
      "execution_count": 12,
      "outputs": [
        {
          "output_type": "stream",
          "text": [
            "versicolor    35\n",
            "setosa        35\n",
            "virginica     35\n",
            "Name: species, dtype: int64 \n",
            "\n",
            " versicolor    15\n",
            "virginica     15\n",
            "setosa        15\n",
            "Name: species, dtype: int64\n"
          ],
          "name": "stdout"
        }
      ]
    },
    {
      "cell_type": "markdown",
      "metadata": {
        "id": "7w0gPNL4tO-6"
      },
      "source": [
        "## 1.Logistic Regression\r\n",
        "> 1) 모델 생성\r\n",
        "* C : Regularization strength\r\n",
        "  * default : 1.0\r\n",
        "  * 값이 작아지면 weight값을 0에 가깝게 학습\r\n",
        "    * 다수의 데이터포인트에 맞추려는 경향\r\n",
        "  * 값이 커지면 weight값을 제한하지 않음\r\n",
        "    * 각각의 데이터포인트에 맞추려는 경향"
      ]
    },
    {
      "cell_type": "code",
      "metadata": {
        "colab": {
          "base_uri": "https://localhost:8080/"
        },
        "id": "Xq4r1M62tK0o",
        "outputId": "79863de8-7bba-46f3-ae83-627118d1e03f"
      },
      "source": [
        "%%time\r\n",
        "\r\n",
        "from sklearn.linear_model import LogisticRegression\r\n",
        "\r\n",
        "LR = LogisticRegression(C = 0.3,\r\n",
        "                        penalty = 'l2',\r\n",
        "                        multi_class = 'multinomial',\r\n",
        "                        n_jobs = -1)\r\n",
        "\r\n",
        "LR.fit(X_train, y_train)"
      ],
      "execution_count": 14,
      "outputs": [
        {
          "output_type": "stream",
          "text": [
            "CPU times: user 25.4 ms, sys: 24.8 ms, total: 50.2 ms\n",
            "Wall time: 825 ms\n"
          ],
          "name": "stdout"
        }
      ]
    },
    {
      "cell_type": "markdown",
      "metadata": {
        "id": "nqC0EkYmuDZq"
      },
      "source": [
        "> 2) 모델 평가"
      ]
    },
    {
      "cell_type": "code",
      "metadata": {
        "colab": {
          "base_uri": "https://localhost:8080/"
        },
        "id": "0jMsmqfCt9hM",
        "outputId": "4b2952c6-61b3-4f41-d840-0d2155c428a5"
      },
      "source": [
        "from sklearn.metrics import accuracy_score, confusion_matrix\r\n",
        "\r\n",
        "print(accuracy_score(y_test, LR.predict(X_test)), '\\n')\r\n",
        "print(confusion_matrix(y_test, LR.predict(X_test)))"
      ],
      "execution_count": 15,
      "outputs": [
        {
          "output_type": "stream",
          "text": [
            "0.9333333333333333 \n",
            "\n",
            "[[15  0  0]\n",
            " [ 0 14  1]\n",
            " [ 0  2 13]]\n"
          ],
          "name": "stdout"
        }
      ]
    },
    {
      "cell_type": "markdown",
      "metadata": {
        "id": "BPifyqlPuSoj"
      },
      "source": [
        "## 2.Decision Tree Classifier\r\n",
        "> 1) 모델 생성"
      ]
    },
    {
      "cell_type": "code",
      "metadata": {
        "colab": {
          "base_uri": "https://localhost:8080/"
        },
        "id": "vyD3eQFMuQ5i",
        "outputId": "a14eb15e-7da0-410d-942b-f7ec799ce011"
      },
      "source": [
        "%%time\r\n",
        "\r\n",
        "from sklearn.tree import DecisionTreeClassifier\r\n",
        "\r\n",
        "DT = DecisionTreeClassifier(criterion = 'entropy',\r\n",
        "                            max_depth = 3,\r\n",
        "                            random_state = 2045)\r\n",
        "\r\n",
        "DT.fit(X_train, y_train)"
      ],
      "execution_count": 17,
      "outputs": [
        {
          "output_type": "stream",
          "text": [
            "CPU times: user 4.82 ms, sys: 25 µs, total: 4.84 ms\n",
            "Wall time: 4.41 ms\n"
          ],
          "name": "stdout"
        }
      ]
    },
    {
      "cell_type": "markdown",
      "metadata": {
        "id": "vNVwIuNMumw1"
      },
      "source": [
        "> 2) 모델 평가"
      ]
    },
    {
      "cell_type": "code",
      "metadata": {
        "colab": {
          "base_uri": "https://localhost:8080/"
        },
        "id": "b87Vi5k9ujsW",
        "outputId": "6d1c1348-768e-4241-e49a-bbfa54afe844"
      },
      "source": [
        "print(accuracy_score(y_test, DT.predict(X_test)), '\\n')\r\n",
        "print(confusion_matrix(y_test, DT.predict(X_test)))"
      ],
      "execution_count": 18,
      "outputs": [
        {
          "output_type": "stream",
          "text": [
            "0.8888888888888888 \n",
            "\n",
            "[[15  0  0]\n",
            " [ 0 13  2]\n",
            " [ 0  3 12]]\n"
          ],
          "name": "stdout"
        }
      ]
    },
    {
      "cell_type": "markdown",
      "metadata": {
        "id": "WU9h7he6uwDt"
      },
      "source": [
        "> 3) Feature Importance"
      ]
    },
    {
      "cell_type": "code",
      "metadata": {
        "colab": {
          "base_uri": "https://localhost:8080/"
        },
        "id": "7oCON3deuuwv",
        "outputId": "3856eaf9-77ff-494c-d6be-27e61d158fda"
      },
      "source": [
        "DT.feature_importances_"
      ],
      "execution_count": 19,
      "outputs": [
        {
          "output_type": "execute_result",
          "data": {
            "text/plain": [
              "array([0.        , 0.        , 0.64899406, 0.35100594])"
            ]
          },
          "metadata": {
            "tags": []
          },
          "execution_count": 19
        }
      ]
    },
    {
      "cell_type": "code",
      "metadata": {
        "colab": {
          "base_uri": "https://localhost:8080/",
          "height": 374
        },
        "id": "lUN2kse0uyY8",
        "outputId": "be5e50ca-a332-4bc1-cd91-8c3c94c54433"
      },
      "source": [
        "import matplotlib.pyplot as plt\r\n",
        "\r\n",
        "\r\n",
        "plt.figure(figsize = (9,6))\r\n",
        "sns.barplot(DT.feature_importances_,\r\n",
        "            ['sepal_length', 'sepal_width','petal_length', 'petal_width'])\r\n",
        "plt.show()"
      ],
      "execution_count": 20,
      "outputs": [
        {
          "output_type": "display_data",
          "data": {
            "image/png": "[encoded data removed]",
            "text/plain": [
              "<Figure size 648x432 with 1 Axes>"
            ]
          },
          "metadata": {
            "tags": [],
            "needs_background": "light"
          }
        }
      ]
    },
    {
      "cell_type": "markdown",
      "metadata": {
        "id": "26Pb23QovCor"
      },
      "source": [
        "## 3.Random Forest Classifier\r\n",
        "> 1) 모델 생성"
      ]
    },
    {
      "cell_type": "code",
      "metadata": {
        "colab": {
          "base_uri": "https://localhost:8080/"
        },
        "id": "Cm0ebPCqvAyx",
        "outputId": "f2cdea84-d11e-4660-ca30-e63550dcbfcc"
      },
      "source": [
        "%%time\r\n",
        "from sklearn.ensemble import RandomForestClassifier\r\n",
        "\r\n",
        "RF = RandomForestClassifier(criterion = 'entropy',\r\n",
        "                            n_estimators = 100,\r\n",
        "                            max_features = 3,\r\n",
        "                            max_depth = 2,\r\n",
        "                            random_state = 2045,\r\n",
        "                            n_jobs = -1)\r\n",
        "\r\n",
        "RF.fit(X_train, y_train)"
      ],
      "execution_count": 21,
      "outputs": [
        {
          "output_type": "stream",
          "text": [
            "CPU times: user 189 ms, sys: 29 ms, total: 218 ms\n",
            "Wall time: 248 ms\n"
          ],
          "name": "stdout"
        }
      ]
    },
    {
      "cell_type": "markdown",
      "metadata": {
        "id": "0YizFG7GvVQE"
      },
      "source": [
        "> 2) 모델 평가"
      ]
    },
    {
      "cell_type": "code",
      "metadata": {
        "colab": {
          "base_uri": "https://localhost:8080/"
        },
        "id": "y5MWt3UrvUW5",
        "outputId": "1b8f3084-1fe4-49f6-dd37-2876eb3341b5"
      },
      "source": [
        "print(accuracy_score(y_test, RF.predict(X_test)), '\\n')\r\n",
        "print(confusion_matrix(y_test, RF.predict(X_test)))"
      ],
      "execution_count": 22,
      "outputs": [
        {
          "output_type": "stream",
          "text": [
            "0.9333333333333333 \n",
            "\n",
            "[[15  0  0]\n",
            " [ 0 15  0]\n",
            " [ 0  3 12]]\n"
          ],
          "name": "stdout"
        }
      ]
    },
    {
      "cell_type": "markdown",
      "metadata": {
        "id": "Y-PXbirBvZUG"
      },
      "source": [
        "> 3) Feature Importance"
      ]
    },
    {
      "cell_type": "code",
      "metadata": {
        "colab": {
          "base_uri": "https://localhost:8080/"
        },
        "id": "ZED-EvJivYYd",
        "outputId": "4b178be3-86e6-4a0e-a4ff-51ed61a4a64c"
      },
      "source": [
        "RF.feature_importances_"
      ],
      "execution_count": 23,
      "outputs": [
        {
          "output_type": "execute_result",
          "data": {
            "text/plain": [
              "array([2.17808494e-04, 0.00000000e+00, 3.95922779e-01, 6.03859413e-01])"
            ]
          },
          "metadata": {
            "tags": []
          },
          "execution_count": 23
        }
      ]
    },
    {
      "cell_type": "code",
      "metadata": {
        "colab": {
          "base_uri": "https://localhost:8080/",
          "height": 374
        },
        "id": "tzujkkbYvcu1",
        "outputId": "c3619fd9-8a68-4e77-83bf-e9f28d4547c5"
      },
      "source": [
        "plt.figure(figsize = (9,6))\r\n",
        "sns.barplot(RF.feature_importances_,\r\n",
        "            ['sepal_length', 'sepal_width','petal_length', 'petal_width'])\r\n",
        "plt.show()"
      ],
      "execution_count": 24,
      "outputs": [
        {
          "output_type": "display_data",
          "data": {
            "image/png": "[encoded data removed]",
            "text/plain": [
              "<Figure size 648x432 with 1 Axes>"
            ]
          },
          "metadata": {
            "tags": [],
            "needs_background": "light"
          }
        }
      ]
    },
    {
      "cell_type": "markdown",
      "metadata": {
        "id": "tH9DizlYvjcW"
      },
      "source": [
        "## 4.Gradient Boosting Machine(GBM) Classifier\r\n",
        "> 1) 모델 생성\r\n",
        "* loss : 경사하강법에 사용될 오차함수\r\n",
        "* learning_rate : 반복 학습에 적용될 학습률\r\n",
        "  * 너무 작으면 학습시간이 오래 걸릴 수 있음\r\n",
        "  * 너무 크면 학습 속도는 빠르지만 최적화 되지 못할 수 잇음\r\n",
        "  * n_estimators : weak learner 개수\r\n",
        "    * 약한 학습기들이 순차적으로 오차를 보정\r\n",
        "    * 많을 수록 학습시간이 길어짐"
      ]
    },
    {
      "cell_type": "code",
      "metadata": {
        "colab": {
          "base_uri": "https://localhost:8080/"
        },
        "id": "Zj9CydlMvic8",
        "outputId": "cad14085-0d40-408b-b02e-3aecf1592e89"
      },
      "source": [
        "%%time\r\n",
        "\r\n",
        "from sklearn.ensemble import GradientBoostingClassifier\r\n",
        "\r\n",
        "GBC = GradientBoostingClassifier(loss = 'deviance',\r\n",
        "                                 n_estimators = 500,\r\n",
        "                                 learning_rate = 0.01,\r\n",
        "                                 max_features = 3,\r\n",
        "                                 max_depth = 3)\r\n",
        "\r\n",
        "GBC.fit(X_train, y_train)"
      ],
      "execution_count": 25,
      "outputs": [
        {
          "output_type": "stream",
          "text": [
            "CPU times: user 999 ms, sys: 3.04 ms, total: 1 s\n",
            "Wall time: 1.01 s\n"
          ],
          "name": "stdout"
        }
      ]
    },
    {
      "cell_type": "markdown",
      "metadata": {
        "id": "Ma4BrdZWwT-D"
      },
      "source": [
        "\r\n",
        "> 2) 모델 평가"
      ]
    },
    {
      "cell_type": "code",
      "metadata": {
        "colab": {
          "base_uri": "https://localhost:8080/"
        },
        "id": "BP4Uw7VCwSQI",
        "outputId": "a9ac1bb3-04d2-463e-a763-35c0c0d55af8"
      },
      "source": [
        "print(accuracy_score(y_test, GBC.predict(X_test)), '\\n')\r\n",
        "print(confusion_matrix(y_test, GBC.predict(X_test)))"
      ],
      "execution_count": 26,
      "outputs": [
        {
          "output_type": "stream",
          "text": [
            "0.9333333333333333 \n",
            "\n",
            "[[15  0  0]\n",
            " [ 0 15  0]\n",
            " [ 0  3 12]]\n"
          ],
          "name": "stdout"
        }
      ]
    },
    {
      "cell_type": "markdown",
      "metadata": {
        "id": "G55xkWuwwgAy"
      },
      "source": [
        "> 3) Feature Importance"
      ]
    },
    {
      "cell_type": "code",
      "metadata": {
        "colab": {
          "base_uri": "https://localhost:8080/"
        },
        "id": "u3lxD8UJwe4K",
        "outputId": "6939ca3c-c4c9-49fe-9366-4b8d30488e49"
      },
      "source": [
        "GBC.feature_importances_"
      ],
      "execution_count": 27,
      "outputs": [
        {
          "output_type": "execute_result",
          "data": {
            "text/plain": [
              "array([0.02604083, 0.08195436, 0.32285251, 0.5691523 ])"
            ]
          },
          "metadata": {
            "tags": []
          },
          "execution_count": 27
        }
      ]
    },
    {
      "cell_type": "code",
      "metadata": {
        "colab": {
          "base_uri": "https://localhost:8080/",
          "height": 374
        },
        "id": "JMSJ2Mscwjm0",
        "outputId": "1a5ec969-8505-487d-d4d5-5efc81c418f3"
      },
      "source": [
        "plt.figure(figsize = (9,6))\r\n",
        "sns.barplot(GBC.feature_importances_,\r\n",
        "            ['sepal_length', 'sepal_width','petal_length', 'petal_width'])\r\n",
        "plt.show()"
      ],
      "execution_count": 28,
      "outputs": [
        {
          "output_type": "display_data",
          "data": {
            "image/png": "[encoded data removed]",
            "text/plain": [
              "<Figure size 648x432 with 1 Axes>"
            ]
          },
          "metadata": {
            "tags": [],
            "needs_background": "light"
          }
        }
      ]
    },
    {
      "cell_type": "markdown",
      "metadata": {
        "id": "l_HbKrW2woTY"
      },
      "source": [
        "## 5.Adaptive Boosting Classifier\r\n",
        "> 1) 모델 생성"
      ]
    },
    {
      "cell_type": "code",
      "metadata": {
        "colab": {
          "base_uri": "https://localhost:8080/"
        },
        "id": "vmZYnrjzwmeE",
        "outputId": "3ed7c139-ca1b-41e5-cb31-cdeb16c7b946"
      },
      "source": [
        "%%time\r\n",
        "\r\n",
        "from sklearn.ensemble import AdaBoostClassifier\r\n",
        "\r\n",
        "ABC = AdaBoostClassifier(n_estimators = 1000,\r\n",
        "                         learning_rate = 0.001,\r\n",
        "                         random_state = 2045)\r\n",
        "\r\n",
        "ABC.fit(X_train, y_train)"
      ],
      "execution_count": 29,
      "outputs": [
        {
          "output_type": "stream",
          "text": [
            "CPU times: user 1.42 s, sys: 11.9 ms, total: 1.43 s\n",
            "Wall time: 1.43 s\n"
          ],
          "name": "stdout"
        }
      ]
    },
    {
      "cell_type": "markdown",
      "metadata": {
        "id": "60SH-Nvgw521"
      },
      "source": [
        "> 2) 모델 평가"
      ]
    },
    {
      "cell_type": "code",
      "metadata": {
        "colab": {
          "base_uri": "https://localhost:8080/"
        },
        "id": "8b2nr60Cw45x",
        "outputId": "ed839cfc-0407-499b-d3c7-db4466bfce6e"
      },
      "source": [
        "print(accuracy_score(y_test, ABC.predict(X_test)), '\\n')\r\n",
        "print(confusion_matrix(y_test, ABC.predict(X_test)))"
      ],
      "execution_count": 30,
      "outputs": [
        {
          "output_type": "stream",
          "text": [
            "0.8888888888888888 \n",
            "\n",
            "[[15  0  0]\n",
            " [ 0 13  2]\n",
            " [ 0  3 12]]\n"
          ],
          "name": "stdout"
        }
      ]
    },
    {
      "cell_type": "markdown",
      "metadata": {
        "id": "5RO95HAXw__D"
      },
      "source": [
        "> 3) Feature Importance"
      ]
    },
    {
      "cell_type": "code",
      "metadata": {
        "colab": {
          "base_uri": "https://localhost:8080/"
        },
        "id": "47-tEeq3w-U5",
        "outputId": "7d4e3f04-351c-4a47-aba3-99348a75d705"
      },
      "source": [
        "ABC.feature_importances_"
      ],
      "execution_count": 31,
      "outputs": [
        {
          "output_type": "execute_result",
          "data": {
            "text/plain": [
              "array([0.   , 0.   , 0.137, 0.863])"
            ]
          },
          "metadata": {
            "tags": []
          },
          "execution_count": 31
        }
      ]
    },
    {
      "cell_type": "code",
      "metadata": {
        "colab": {
          "base_uri": "https://localhost:8080/",
          "height": 374
        },
        "id": "E5IDzVEkxCx9",
        "outputId": "7810fc85-3adb-4c33-d69b-8a94b60174f2"
      },
      "source": [
        "plt.figure(figsize = (9,6))\r\n",
        "sns.barplot(ABC.feature_importances_,\r\n",
        "            ['sepal_length', 'sepal_width','petal_length', 'petal_width'])\r\n",
        "plt.show()"
      ],
      "execution_count": 32,
      "outputs": [
        {
          "output_type": "display_data",
          "data": {
            "image/png": "[encoded data removed]",
            "text/plain": [
              "<Figure size 648x432 with 1 Axes>"
            ]
          },
          "metadata": {
            "tags": [],
            "needs_background": "light"
          }
        }
      ]
    },
    {
      "cell_type": "markdown",
      "metadata": {
        "id": "5MLzYLezxG-c"
      },
      "source": [
        "## 6.eXtra Gradient Boost(XGBoost) Classifier\r\n",
        "> 1) 모델 생성\r\n",
        "* booster : 'gbtree' or 'gbinear'\r\n",
        "* reg_lambda : L2 Regularization"
      ]
    },
    {
      "cell_type": "code",
      "metadata": {
        "colab": {
          "base_uri": "https://localhost:8080/"
        },
        "id": "38y7urRIxF8f",
        "outputId": "f264b35b-81d1-4a02-a39f-5bc98f183ac4"
      },
      "source": [
        "%%time\r\n",
        "\r\n",
        "from xgboost import XGBClassifier\r\n",
        "\r\n",
        "XGB = XGBClassifier(boosster = 'gbtree',\r\n",
        "                    n_estimators = 500,\r\n",
        "                    learning_Rate = 0.5,\r\n",
        "                    reg_lambda = 0.05,\r\n",
        "                    n_jobs = -1)\r\n",
        "\r\n",
        "XGB.fit(X_train, y_train)"
      ],
      "execution_count": 33,
      "outputs": [
        {
          "output_type": "stream",
          "text": [
            "CPU times: user 132 ms, sys: 22.3 ms, total: 154 ms\n",
            "Wall time: 174 ms\n"
          ],
          "name": "stdout"
        }
      ]
    },
    {
      "cell_type": "markdown",
      "metadata": {
        "id": "ny-RJFx6xkvN"
      },
      "source": [
        "> 2) 모델 평가"
      ]
    },
    {
      "cell_type": "code",
      "metadata": {
        "colab": {
          "base_uri": "https://localhost:8080/"
        },
        "id": "iQR5OAsOxhco",
        "outputId": "4ddcbfb4-5d49-43f9-c619-104cf3217e81"
      },
      "source": [
        "print(accuracy_score(y_test, XGB.predict(X_test)), '\\n')\r\n",
        "print(confusion_matrix(y_test, XGB.predict(X_test)))"
      ],
      "execution_count": 34,
      "outputs": [
        {
          "output_type": "stream",
          "text": [
            "0.9111111111111111 \n",
            "\n",
            "[[15  0  0]\n",
            " [ 0 15  0]\n",
            " [ 0  4 11]]\n"
          ],
          "name": "stdout"
        }
      ]
    },
    {
      "cell_type": "markdown",
      "metadata": {
        "id": "6yJP6uT9xrBM"
      },
      "source": [
        "> 3) Feature Importance"
      ]
    },
    {
      "cell_type": "code",
      "metadata": {
        "colab": {
          "base_uri": "https://localhost:8080/"
        },
        "id": "pfWbkIZLxpsf",
        "outputId": "32ce3d26-c9ab-4703-ace5-8de62d08bdee"
      },
      "source": [
        "XGB.feature_importances_"
      ],
      "execution_count": 35,
      "outputs": [
        {
          "output_type": "execute_result",
          "data": {
            "text/plain": [
              "array([0.00753374, 0.23527198, 0.2988559 , 0.45833838], dtype=float32)"
            ]
          },
          "metadata": {
            "tags": []
          },
          "execution_count": 35
        }
      ]
    },
    {
      "cell_type": "code",
      "metadata": {
        "colab": {
          "base_uri": "https://localhost:8080/",
          "height": 374
        },
        "id": "L3wQhWqnxuMG",
        "outputId": "40b43964-7036-4240-de3f-85c6ee03f7c6"
      },
      "source": [
        "plt.figure(figsize = (9,6))\r\n",
        "sns.barplot(XGB.feature_importances_,\r\n",
        "            ['sepal_length', 'sepal_width','petal_length', 'petal_width'])\r\n",
        "plt.show()"
      ],
      "execution_count": 36,
      "outputs": [
        {
          "output_type": "display_data",
          "data": {
            "image/png": "[encoded data removed]",
            "text/plain": [
              "<Figure size 648x432 with 1 Axes>"
            ]
          },
          "metadata": {
            "tags": [],
            "needs_background": "light"
          }
        }
      ]
    },
    {
      "cell_type": "markdown",
      "metadata": {
        "id": "m0K1ko83xyhH"
      },
      "source": [
        "## 7.LightGBM Classifier\r\n",
        "> 1) 모델 생성"
      ]
    },
    {
      "cell_type": "code",
      "metadata": {
        "colab": {
          "base_uri": "https://localhost:8080/"
        },
        "id": "y-ki9fZlxwue",
        "outputId": "1e6c6327-ff65-464e-e768-1a7028be8a7b"
      },
      "source": [
        "%%time\r\n",
        "\r\n",
        "from lightgbm import LGBMClassifier\r\n",
        "\r\n",
        "LGB = LGBMClassifier(n_estimators = 500,\r\n",
        "                     max_depth = 3,\r\n",
        "                     learning_rate = 0.5,\r\n",
        "                     reg_lambda = 0.2,\r\n",
        "                     n_jobs = -1)\r\n",
        "\r\n",
        "LGB.fit(X_train, y_train)"
      ],
      "execution_count": 37,
      "outputs": [
        {
          "output_type": "stream",
          "text": [
            "CPU times: user 180 ms, sys: 17.6 ms, total: 197 ms\n",
            "Wall time: 116 ms\n"
          ],
          "name": "stdout"
        }
      ]
    },
    {
      "cell_type": "markdown",
      "metadata": {
        "id": "97rDGIiayExT"
      },
      "source": [
        "> 2) 모델 평가"
      ]
    },
    {
      "cell_type": "code",
      "metadata": {
        "colab": {
          "base_uri": "https://localhost:8080/"
        },
        "id": "SKTs_IqQyDnS",
        "outputId": "3b23f642-54d8-48a5-eb82-80dfd3bcd4b9"
      },
      "source": [
        "print(accuracy_score(y_test, LGB.predict(X_test)), '\\n')\r\n",
        "print(confusion_matrix(y_test, LGB.predict(X_test)))"
      ],
      "execution_count": 38,
      "outputs": [
        {
          "output_type": "stream",
          "text": [
            "0.9555555555555556 \n",
            "\n",
            "[[15  0  0]\n",
            " [ 0 15  0]\n",
            " [ 0  2 13]]\n"
          ],
          "name": "stdout"
        }
      ]
    },
    {
      "cell_type": "markdown",
      "metadata": {
        "id": "AOJxq8jzyLrn"
      },
      "source": [
        "> 3) Feature Importance"
      ]
    },
    {
      "cell_type": "code",
      "metadata": {
        "colab": {
          "base_uri": "https://localhost:8080/"
        },
        "id": "BMEGDmqyyKJn",
        "outputId": "219d976b-735a-4a44-8672-c5e584ac903a"
      },
      "source": [
        "LGB.feature_importances_"
      ],
      "execution_count": 39,
      "outputs": [
        {
          "output_type": "execute_result",
          "data": {
            "text/plain": [
              "array([594, 704, 866, 847])"
            ]
          },
          "metadata": {
            "tags": []
          },
          "execution_count": 39
        }
      ]
    },
    {
      "cell_type": "code",
      "metadata": {
        "colab": {
          "base_uri": "https://localhost:8080/",
          "height": 374
        },
        "id": "ibKQGd22yOWC",
        "outputId": "4a516864-3fde-43f7-86be-c9ac0fbc3040"
      },
      "source": [
        "plt.figure(figsize = (9,6))\r\n",
        "sns.barplot(LGB.feature_importances_,\r\n",
        "            ['sepal_length', 'sepal_width','petal_length', 'petal_width'])\r\n",
        "plt.show()"
      ],
      "execution_count": 41,
      "outputs": [
        {
          "output_type": "display_data",
          "data": {
            "image/png": "[encoded data removed]",
            "text/plain": [
              "<Figure size 648x432 with 1 Axes>"
            ]
          },
          "metadata": {
            "tags": [],
            "needs_background": "light"
          }
        }
      ]
    },
    {
      "cell_type": "markdown",
      "metadata": {
        "id": "g0nfO-vUyUNV"
      },
      "source": [
        "## 8.K-Nearest Neighbors Classifier\r\n",
        "> 1) 모델 생성"
      ]
    },
    {
      "cell_type": "code",
      "metadata": {
        "colab": {
          "base_uri": "https://localhost:8080/"
        },
        "id": "SSk4RaUTyROh",
        "outputId": "ea20d76d-a615-4fe7-cda7-d8afc4714b8a"
      },
      "source": [
        "%%time\r\n",
        "\r\n",
        "from sklearn.neighbors import KNeighborsClassifier\r\n",
        "\r\n",
        "KNN = KNeighborsClassifier(n_neighbors = 5,\r\n",
        "                           n_jobs = -1)\r\n",
        "\r\n",
        "KNN.fit(X_train, y_train)"
      ],
      "execution_count": 42,
      "outputs": [
        {
          "output_type": "stream",
          "text": [
            "CPU times: user 2.25 ms, sys: 57 µs, total: 2.31 ms\n",
            "Wall time: 5.32 ms\n"
          ],
          "name": "stdout"
        }
      ]
    },
    {
      "cell_type": "markdown",
      "metadata": {
        "id": "3fy8x8U3ylg0"
      },
      "source": [
        "> 2) 모델 평가"
      ]
    },
    {
      "cell_type": "code",
      "metadata": {
        "colab": {
          "base_uri": "https://localhost:8080/"
        },
        "id": "q5l0hobOyknw",
        "outputId": "e816d3c7-826b-4907-e9ba-4ea0e0df7632"
      },
      "source": [
        "print(accuracy_score(y_test, KNN.predict(X_test)), '\\n')\r\n",
        "print(confusion_matrix(y_test, KNN.predict(X_test)))"
      ],
      "execution_count": 43,
      "outputs": [
        {
          "output_type": "stream",
          "text": [
            "0.9777777777777777 \n",
            "\n",
            "[[15  0  0]\n",
            " [ 0 15  0]\n",
            " [ 0  1 14]]\n"
          ],
          "name": "stdout"
        }
      ]
    },
    {
      "cell_type": "code",
      "metadata": {
        "id": "5IfWw7aKyqJI"
      },
      "source": [
        ""
      ],
      "execution_count": null,
      "outputs": []
    }
  ]
}