{
  "nbformat": 4,
  "nbformat_minor": 0,
  "metadata": {
    "colab": {
      "name": "Association_Rules.ipynb",
      "provenance": [],
      "authorship_tag": "ABX9TyORh7l+3cZsCfBR0R2yL3JW",
      "include_colab_link": true
    },
    "kernelspec": {
      "name": "python3",
      "display_name": "Python 3"
    }
  },
  "cells": [
    {
      "cell_type": "markdown",
      "metadata": {
        "id": "view-in-github",
        "colab_type": "text"
      },
      "source": [
        "<a href=\"https://colab.research.google.com/github/jungmin0710/K-digital-PythonMachineLearning/blob/main/Association_Rules.ipynb\" target=\"_parent\"><img src=\"https://colab.research.google.com/assets/colab-badge.svg\" alt=\"Open In Colab\"/></a>"
      ]
    },
    {
      "cell_type": "markdown",
      "metadata": {
        "id": "az-e6cWC6ZlM"
      },
      "source": [
        "# Association Rules - 연관규칙\r\n",
        "csv 파일 : 컴마(,)로 구분된 데이터\r\n",
        "tsv 파일 : tab으로 구분된 데이터\r\n",
        "\r\n",
        "## 1. Read Data_Set and Preprocessing\r\n",
        "### 1. Read 'order.tsv'\r\n",
        "* DF.info()"
      ]
    },
    {
      "cell_type": "code",
      "metadata": {
        "colab": {
          "base_uri": "https://localhost:8080/"
        },
        "id": "iMquklwT6R48",
        "outputId": "bd7ce5fd-8f45-415b-f63a-45c209cba0bf"
      },
      "source": [
        "import pandas as pd\r\n",
        "\r\n",
        "url = 'https://raw.githubusercontent.com/rusita-ai/pyData/master/orders.tsv'\r\n",
        "DF = pd.read_table(url)\r\n",
        "\r\n",
        "DF.info()"
      ],
      "execution_count": null,
      "outputs": [
        {
          "output_type": "stream",
          "text": [
            "<class 'pandas.core.frame.DataFrame'>\n",
            "RangeIndex: 4622 entries, 0 to 4621\n",
            "Data columns (total 5 columns):\n",
            " #   Column              Non-Null Count  Dtype \n",
            "---  ------              --------------  ----- \n",
            " 0   order_id            4622 non-null   int64 \n",
            " 1   quantity            4622 non-null   int64 \n",
            " 2   item_name           4622 non-null   object\n",
            " 3   choice_description  3376 non-null   object\n",
            " 4   item_price          4622 non-null   object\n",
            "dtypes: int64(2), object(3)\n",
            "memory usage: 180.7+ KB\n"
          ],
          "name": "stdout"
        }
      ]
    },
    {
      "cell_type": "code",
      "metadata": {
        "colab": {
          "base_uri": "https://localhost:8080/",
          "height": 135
        },
        "id": "vIAhJTnL7AHQ",
        "outputId": "d93eef09-0632-41ff-f797-188de88c81fe"
      },
      "source": [
        "DF.head(3)"
      ],
      "execution_count": null,
      "outputs": [
        {
          "output_type": "execute_result",
          "data": {
            "text/html": [
              "<div>\n",
              "<style scoped>\n",
              "    .dataframe tbody tr th:only-of-type {\n",
              "        vertical-align: middle;\n",
              "    }\n",
              "\n",
              "    .dataframe tbody tr th {\n",
              "        vertical-align: top;\n",
              "    }\n",
              "\n",
              "    .dataframe thead th {\n",
              "        text-align: right;\n",
              "    }\n",
              "</style>\n",
              "<table border=\"1\" class=\"dataframe\">\n",
              "  <thead>\n",
              "    <tr style=\"text-align: right;\">\n",
              "      <th></th>\n",
              "      <th>order_id</th>\n",
              "      <th>quantity</th>\n",
              "      <th>item_name</th>\n",
              "      <th>choice_description</th>\n",
              "      <th>item_price</th>\n",
              "    </tr>\n",
              "  </thead>\n",
              "  <tbody>\n",
              "    <tr>\n",
              "      <th>0</th>\n",
              "      <td>1</td>\n",
              "      <td>1</td>\n",
              "      <td>Chips and Fresh Tomato Salsa</td>\n",
              "      <td>NaN</td>\n",
              "      <td>$2.39</td>\n",
              "    </tr>\n",
              "    <tr>\n",
              "      <th>1</th>\n",
              "      <td>1</td>\n",
              "      <td>1</td>\n",
              "      <td>Izze</td>\n",
              "      <td>[Clementine]</td>\n",
              "      <td>$3.39</td>\n",
              "    </tr>\n",
              "    <tr>\n",
              "      <th>2</th>\n",
              "      <td>1</td>\n",
              "      <td>1</td>\n",
              "      <td>Nantucket Nectar</td>\n",
              "      <td>[Apple]</td>\n",
              "      <td>$3.39</td>\n",
              "    </tr>\n",
              "  </tbody>\n",
              "</table>\n",
              "</div>"
            ],
            "text/plain": [
              "   order_id  quantity  ... choice_description item_price\n",
              "0         1         1  ...                NaN     $2.39 \n",
              "1         1         1  ...       [Clementine]     $3.39 \n",
              "2         1         1  ...            [Apple]     $3.39 \n",
              "\n",
              "[3 rows x 5 columns]"
            ]
          },
          "metadata": {
            "tags": []
          },
          "execution_count": 2
        }
      ]
    },
    {
      "cell_type": "markdown",
      "metadata": {
        "id": "OVfkE15H7Ij8"
      },
      "source": [
        "### 2. 데이터 정보 확인\r\n",
        "* DF_1 지정 후 'order_Id' 및 'item_name' 종류 확인\r\n",
        "* 한 개의 'order_Id'가 여러 개의 'item_name'으로 분리되어 지정"
      ]
    },
    {
      "cell_type": "code",
      "metadata": {
        "colab": {
          "base_uri": "https://localhost:8080/"
        },
        "id": "pNBhTy-F7Dwi",
        "outputId": "ff46ebc8-7b0a-4253-ce40-5d1829d48724"
      },
      "source": [
        "DF_1 = DF[['order_id','item_name']]\r\n",
        "\r\n",
        "DF_1.order_id.unique().shape, DF_1.item_name.unique().shape"
      ],
      "execution_count": null,
      "outputs": [
        {
          "output_type": "execute_result",
          "data": {
            "text/plain": [
              "((1834,), (50,))"
            ]
          },
          "metadata": {
            "tags": []
          },
          "execution_count": 3
        }
      ]
    },
    {
      "cell_type": "markdown",
      "metadata": {
        "id": "mlOiFpiM7hvr"
      },
      "source": [
        "* 'order_id' 1834개"
      ]
    },
    {
      "cell_type": "code",
      "metadata": {
        "colab": {
          "base_uri": "https://localhost:8080/"
        },
        "id": "z0pyennM7bNc",
        "outputId": "24b74389-c487-42f6-d6df-2ee1342884d7"
      },
      "source": [
        "order_ID = list(DF_1.order_id.unique())\r\n",
        "\r\n",
        "order_ID[:10], order_ID[-10:]"
      ],
      "execution_count": null,
      "outputs": [
        {
          "output_type": "execute_result",
          "data": {
            "text/plain": [
              "([1, 2, 3, 4, 5, 6, 7, 8, 9, 10],\n",
              " [1825, 1826, 1827, 1828, 1829, 1830, 1831, 1832, 1833, 1834])"
            ]
          },
          "metadata": {
            "tags": []
          },
          "execution_count": 4
        }
      ]
    },
    {
      "cell_type": "markdown",
      "metadata": {
        "id": "TD_JO6Wq7vLg"
      },
      "source": [
        "* 'item_name' 50종류"
      ]
    },
    {
      "cell_type": "code",
      "metadata": {
        "colab": {
          "base_uri": "https://localhost:8080/"
        },
        "id": "mIFQi4l37njx",
        "outputId": "69a44e25-1758-4966-9516-0dae033e6d8b"
      },
      "source": [
        "item_NAME = list(DF_1.item_name.unique())\r\n",
        "\r\n",
        "item_NAME[:5], item_NAME[-5:]"
      ],
      "execution_count": null,
      "outputs": [
        {
          "output_type": "execute_result",
          "data": {
            "text/plain": [
              "(['Chips and Fresh Tomato Salsa',\n",
              "  'Izze',\n",
              "  'Nantucket Nectar',\n",
              "  'Chips and Tomatillo-Green Chili Salsa',\n",
              "  'Chicken Bowl'],\n",
              " ['Barbacoa Salad Bowl',\n",
              "  'Salad',\n",
              "  'Veggie Crispy Tacos',\n",
              "  'Veggie Salad',\n",
              "  'Carnitas Salad'])"
            ]
          },
          "metadata": {
            "tags": []
          },
          "execution_count": 5
        }
      ]
    },
    {
      "cell_type": "markdown",
      "metadata": {
        "id": "OA-pBbnO8G0r"
      },
      "source": [
        "### 3. Preprocessing\r\n",
        "* 1835길이의 2차원 리스트 생성"
      ]
    },
    {
      "cell_type": "code",
      "metadata": {
        "colab": {
          "base_uri": "https://localhost:8080/"
        },
        "id": "GAIwg0nZ76T2",
        "outputId": "72ef216b-4d5a-474b-9510-93102d3db086"
      },
      "source": [
        "orderItems = [[] for i in range(1835)]\r\n",
        "\r\n",
        "len(orderItems)"
      ],
      "execution_count": null,
      "outputs": [
        {
          "output_type": "execute_result",
          "data": {
            "text/plain": [
              "1835"
            ]
          },
          "metadata": {
            "tags": []
          },
          "execution_count": 6
        }
      ]
    },
    {
      "cell_type": "markdown",
      "metadata": {
        "id": "o20_5oTq8RXF"
      },
      "source": [
        "* 'order_id'별로 'item_name' 묶기"
      ]
    },
    {
      "cell_type": "code",
      "metadata": {
        "colab": {
          "base_uri": "https://localhost:8080/"
        },
        "id": "450TBa_S8OwV",
        "outputId": "25f3c7f7-259a-45d9-acf3-ae73db6f7a3f"
      },
      "source": [
        "num = 0\r\n",
        "\r\n",
        "for i in DF_1.item_name : \r\n",
        "  orderItems[DF_1.order_id[num]].append(i)\r\n",
        "  num = num + 1\r\n",
        "\r\n",
        "orderItems[:5], orderItems[-5:]"
      ],
      "execution_count": null,
      "outputs": [
        {
          "output_type": "execute_result",
          "data": {
            "text/plain": [
              "([[],\n",
              "  ['Chips and Fresh Tomato Salsa',\n",
              "   'Izze',\n",
              "   'Nantucket Nectar',\n",
              "   'Chips and Tomatillo-Green Chili Salsa'],\n",
              "  ['Chicken Bowl'],\n",
              "  ['Chicken Bowl', 'Side of Chips'],\n",
              "  ['Steak Burrito', 'Steak Soft Tacos']],\n",
              " [['Steak Burrito', 'Veggie Burrito'],\n",
              "  ['Carnitas Bowl', 'Chips', 'Bottled Water'],\n",
              "  ['Chicken Soft Tacos', 'Chips and Guacamole'],\n",
              "  ['Steak Burrito', 'Steak Burrito'],\n",
              "  ['Chicken Salad Bowl', 'Chicken Salad Bowl', 'Chicken Salad Bowl']])"
            ]
          },
          "metadata": {
            "tags": []
          },
          "execution_count": 7
        }
      ]
    },
    {
      "cell_type": "markdown",
      "metadata": {
        "id": "Hn5g_yA584C-"
      },
      "source": [
        "* 첫 번째 빈 리스트 제거 및 중복 아이템 단일화"
      ]
    },
    {
      "cell_type": "code",
      "metadata": {
        "colab": {
          "base_uri": "https://localhost:8080/"
        },
        "id": "c3x5B5ME8hey",
        "outputId": "d49da3c6-5e48-4ae9-f322-5069ee9a9e44"
      },
      "source": [
        "orderItems.pop(0)"
      ],
      "execution_count": null,
      "outputs": [
        {
          "output_type": "execute_result",
          "data": {
            "text/plain": [
              "[]"
            ]
          },
          "metadata": {
            "tags": []
          },
          "execution_count": 8
        }
      ]
    },
    {
      "cell_type": "code",
      "metadata": {
        "id": "E5EijCsm898g"
      },
      "source": [
        "num = 0\r\n",
        "for i in orderItems:\r\n",
        "  orderItems[num] = list(set(orderItems[num]))\r\n",
        "  num = num + 1"
      ],
      "execution_count": null,
      "outputs": []
    },
    {
      "cell_type": "code",
      "metadata": {
        "colab": {
          "base_uri": "https://localhost:8080/"
        },
        "id": "IGDo5jDB9FrG",
        "outputId": "ba07349f-572c-4af5-8124-aa23090afcd9"
      },
      "source": [
        "orderItems[:5], orderItems[-5:]"
      ],
      "execution_count": null,
      "outputs": [
        {
          "output_type": "execute_result",
          "data": {
            "text/plain": [
              "([['Chips and Tomatillo-Green Chili Salsa',\n",
              "   'Izze',\n",
              "   'Nantucket Nectar',\n",
              "   'Chips and Fresh Tomato Salsa'],\n",
              "  ['Chicken Bowl'],\n",
              "  ['Side of Chips', 'Chicken Bowl'],\n",
              "  ['Steak Burrito', 'Steak Soft Tacos'],\n",
              "  ['Steak Burrito', 'Chips and Guacamole']],\n",
              " [['Steak Burrito', 'Veggie Burrito'],\n",
              "  ['Carnitas Bowl', 'Chips', 'Bottled Water'],\n",
              "  ['Chicken Soft Tacos', 'Chips and Guacamole'],\n",
              "  ['Steak Burrito'],\n",
              "  ['Chicken Salad Bowl']])"
            ]
          },
          "metadata": {
            "tags": []
          },
          "execution_count": 10
        }
      ]
    },
    {
      "cell_type": "markdown",
      "metadata": {
        "id": "cbjdlYkI9urF"
      },
      "source": [
        "## 2. TransactionEncoder()"
      ]
    },
    {
      "cell_type": "markdown",
      "metadata": {
        "id": "RmyI1Xy699Ys"
      },
      "source": [
        "* Transation 구조 변환"
      ]
    },
    {
      "cell_type": "code",
      "metadata": {
        "id": "Uc8xZDWU9KyV"
      },
      "source": [
        "from mlxtend.preprocessing import TransactionEncoder\r\n",
        "\r\n",
        "TSE = TransactionEncoder()\r\n",
        "Transac_Array = TSE.fit_transform(orderItems)"
      ],
      "execution_count": null,
      "outputs": []
    },
    {
      "cell_type": "markdown",
      "metadata": {
        "id": "Pi6w31Vs-FR0"
      },
      "source": [
        "* pandas DataFrame 구조 변환"
      ]
    },
    {
      "cell_type": "code",
      "metadata": {
        "colab": {
          "base_uri": "https://localhost:8080/",
          "height": 298
        },
        "id": "dfT5RHVb-Apj",
        "outputId": "03ebb082-58ba-416d-b15d-50219bf507ac"
      },
      "source": [
        "order_DF = pd.DataFrame(Transac_Array, columns = TSE.columns_)\r\n",
        "\r\n",
        "order_DF.head()"
      ],
      "execution_count": null,
      "outputs": [
        {
          "output_type": "execute_result",
          "data": {
            "text/html": [
              "<div>\n",
              "<style scoped>\n",
              "    .dataframe tbody tr th:only-of-type {\n",
              "        vertical-align: middle;\n",
              "    }\n",
              "\n",
              "    .dataframe tbody tr th {\n",
              "        vertical-align: top;\n",
              "    }\n",
              "\n",
              "    .dataframe thead th {\n",
              "        text-align: right;\n",
              "    }\n",
              "</style>\n",
              "<table border=\"1\" class=\"dataframe\">\n",
              "  <thead>\n",
              "    <tr style=\"text-align: right;\">\n",
              "      <th></th>\n",
              "      <th>6 Pack Soft Drink</th>\n",
              "      <th>Barbacoa Bowl</th>\n",
              "      <th>Barbacoa Burrito</th>\n",
              "      <th>Barbacoa Crispy Tacos</th>\n",
              "      <th>Barbacoa Salad Bowl</th>\n",
              "      <th>Barbacoa Soft Tacos</th>\n",
              "      <th>Bottled Water</th>\n",
              "      <th>Bowl</th>\n",
              "      <th>Burrito</th>\n",
              "      <th>Canned Soda</th>\n",
              "      <th>Canned Soft Drink</th>\n",
              "      <th>Carnitas Bowl</th>\n",
              "      <th>Carnitas Burrito</th>\n",
              "      <th>Carnitas Crispy Tacos</th>\n",
              "      <th>Carnitas Salad</th>\n",
              "      <th>Carnitas Salad Bowl</th>\n",
              "      <th>Carnitas Soft Tacos</th>\n",
              "      <th>Chicken Bowl</th>\n",
              "      <th>Chicken Burrito</th>\n",
              "      <th>Chicken Crispy Tacos</th>\n",
              "      <th>Chicken Salad</th>\n",
              "      <th>Chicken Salad Bowl</th>\n",
              "      <th>Chicken Soft Tacos</th>\n",
              "      <th>Chips</th>\n",
              "      <th>Chips and Fresh Tomato Salsa</th>\n",
              "      <th>Chips and Guacamole</th>\n",
              "      <th>Chips and Mild Fresh Tomato Salsa</th>\n",
              "      <th>Chips and Roasted Chili Corn Salsa</th>\n",
              "      <th>Chips and Roasted Chili-Corn Salsa</th>\n",
              "      <th>Chips and Tomatillo Green Chili Salsa</th>\n",
              "      <th>Chips and Tomatillo Red Chili Salsa</th>\n",
              "      <th>Chips and Tomatillo-Green Chili Salsa</th>\n",
              "      <th>Chips and Tomatillo-Red Chili Salsa</th>\n",
              "      <th>Crispy Tacos</th>\n",
              "      <th>Izze</th>\n",
              "      <th>Nantucket Nectar</th>\n",
              "      <th>Salad</th>\n",
              "      <th>Side of Chips</th>\n",
              "      <th>Steak Bowl</th>\n",
              "      <th>Steak Burrito</th>\n",
              "      <th>Steak Crispy Tacos</th>\n",
              "      <th>Steak Salad</th>\n",
              "      <th>Steak Salad Bowl</th>\n",
              "      <th>Steak Soft Tacos</th>\n",
              "      <th>Veggie Bowl</th>\n",
              "      <th>Veggie Burrito</th>\n",
              "      <th>Veggie Crispy Tacos</th>\n",
              "      <th>Veggie Salad</th>\n",
              "      <th>Veggie Salad Bowl</th>\n",
              "      <th>Veggie Soft Tacos</th>\n",
              "    </tr>\n",
              "  </thead>\n",
              "  <tbody>\n",
              "    <tr>\n",
              "      <th>0</th>\n",
              "      <td>False</td>\n",
              "      <td>False</td>\n",
              "      <td>False</td>\n",
              "      <td>False</td>\n",
              "      <td>False</td>\n",
              "      <td>False</td>\n",
              "      <td>False</td>\n",
              "      <td>False</td>\n",
              "      <td>False</td>\n",
              "      <td>False</td>\n",
              "      <td>False</td>\n",
              "      <td>False</td>\n",
              "      <td>False</td>\n",
              "      <td>False</td>\n",
              "      <td>False</td>\n",
              "      <td>False</td>\n",
              "      <td>False</td>\n",
              "      <td>False</td>\n",
              "      <td>False</td>\n",
              "      <td>False</td>\n",
              "      <td>False</td>\n",
              "      <td>False</td>\n",
              "      <td>False</td>\n",
              "      <td>False</td>\n",
              "      <td>True</td>\n",
              "      <td>False</td>\n",
              "      <td>False</td>\n",
              "      <td>False</td>\n",
              "      <td>False</td>\n",
              "      <td>False</td>\n",
              "      <td>False</td>\n",
              "      <td>True</td>\n",
              "      <td>False</td>\n",
              "      <td>False</td>\n",
              "      <td>True</td>\n",
              "      <td>True</td>\n",
              "      <td>False</td>\n",
              "      <td>False</td>\n",
              "      <td>False</td>\n",
              "      <td>False</td>\n",
              "      <td>False</td>\n",
              "      <td>False</td>\n",
              "      <td>False</td>\n",
              "      <td>False</td>\n",
              "      <td>False</td>\n",
              "      <td>False</td>\n",
              "      <td>False</td>\n",
              "      <td>False</td>\n",
              "      <td>False</td>\n",
              "      <td>False</td>\n",
              "    </tr>\n",
              "    <tr>\n",
              "      <th>1</th>\n",
              "      <td>False</td>\n",
              "      <td>False</td>\n",
              "      <td>False</td>\n",
              "      <td>False</td>\n",
              "      <td>False</td>\n",
              "      <td>False</td>\n",
              "      <td>False</td>\n",
              "      <td>False</td>\n",
              "      <td>False</td>\n",
              "      <td>False</td>\n",
              "      <td>False</td>\n",
              "      <td>False</td>\n",
              "      <td>False</td>\n",
              "      <td>False</td>\n",
              "      <td>False</td>\n",
              "      <td>False</td>\n",
              "      <td>False</td>\n",
              "      <td>True</td>\n",
              "      <td>False</td>\n",
              "      <td>False</td>\n",
              "      <td>False</td>\n",
              "      <td>False</td>\n",
              "      <td>False</td>\n",
              "      <td>False</td>\n",
              "      <td>False</td>\n",
              "      <td>False</td>\n",
              "      <td>False</td>\n",
              "      <td>False</td>\n",
              "      <td>False</td>\n",
              "      <td>False</td>\n",
              "      <td>False</td>\n",
              "      <td>False</td>\n",
              "      <td>False</td>\n",
              "      <td>False</td>\n",
              "      <td>False</td>\n",
              "      <td>False</td>\n",
              "      <td>False</td>\n",
              "      <td>False</td>\n",
              "      <td>False</td>\n",
              "      <td>False</td>\n",
              "      <td>False</td>\n",
              "      <td>False</td>\n",
              "      <td>False</td>\n",
              "      <td>False</td>\n",
              "      <td>False</td>\n",
              "      <td>False</td>\n",
              "      <td>False</td>\n",
              "      <td>False</td>\n",
              "      <td>False</td>\n",
              "      <td>False</td>\n",
              "    </tr>\n",
              "    <tr>\n",
              "      <th>2</th>\n",
              "      <td>False</td>\n",
              "      <td>False</td>\n",
              "      <td>False</td>\n",
              "      <td>False</td>\n",
              "      <td>False</td>\n",
              "      <td>False</td>\n",
              "      <td>False</td>\n",
              "      <td>False</td>\n",
              "      <td>False</td>\n",
              "      <td>False</td>\n",
              "      <td>False</td>\n",
              "      <td>False</td>\n",
              "      <td>False</td>\n",
              "      <td>False</td>\n",
              "      <td>False</td>\n",
              "      <td>False</td>\n",
              "      <td>False</td>\n",
              "      <td>True</td>\n",
              "      <td>False</td>\n",
              "      <td>False</td>\n",
              "      <td>False</td>\n",
              "      <td>False</td>\n",
              "      <td>False</td>\n",
              "      <td>False</td>\n",
              "      <td>False</td>\n",
              "      <td>False</td>\n",
              "      <td>False</td>\n",
              "      <td>False</td>\n",
              "      <td>False</td>\n",
              "      <td>False</td>\n",
              "      <td>False</td>\n",
              "      <td>False</td>\n",
              "      <td>False</td>\n",
              "      <td>False</td>\n",
              "      <td>False</td>\n",
              "      <td>False</td>\n",
              "      <td>False</td>\n",
              "      <td>True</td>\n",
              "      <td>False</td>\n",
              "      <td>False</td>\n",
              "      <td>False</td>\n",
              "      <td>False</td>\n",
              "      <td>False</td>\n",
              "      <td>False</td>\n",
              "      <td>False</td>\n",
              "      <td>False</td>\n",
              "      <td>False</td>\n",
              "      <td>False</td>\n",
              "      <td>False</td>\n",
              "      <td>False</td>\n",
              "    </tr>\n",
              "    <tr>\n",
              "      <th>3</th>\n",
              "      <td>False</td>\n",
              "      <td>False</td>\n",
              "      <td>False</td>\n",
              "      <td>False</td>\n",
              "      <td>False</td>\n",
              "      <td>False</td>\n",
              "      <td>False</td>\n",
              "      <td>False</td>\n",
              "      <td>False</td>\n",
              "      <td>False</td>\n",
              "      <td>False</td>\n",
              "      <td>False</td>\n",
              "      <td>False</td>\n",
              "      <td>False</td>\n",
              "      <td>False</td>\n",
              "      <td>False</td>\n",
              "      <td>False</td>\n",
              "      <td>False</td>\n",
              "      <td>False</td>\n",
              "      <td>False</td>\n",
              "      <td>False</td>\n",
              "      <td>False</td>\n",
              "      <td>False</td>\n",
              "      <td>False</td>\n",
              "      <td>False</td>\n",
              "      <td>False</td>\n",
              "      <td>False</td>\n",
              "      <td>False</td>\n",
              "      <td>False</td>\n",
              "      <td>False</td>\n",
              "      <td>False</td>\n",
              "      <td>False</td>\n",
              "      <td>False</td>\n",
              "      <td>False</td>\n",
              "      <td>False</td>\n",
              "      <td>False</td>\n",
              "      <td>False</td>\n",
              "      <td>False</td>\n",
              "      <td>False</td>\n",
              "      <td>True</td>\n",
              "      <td>False</td>\n",
              "      <td>False</td>\n",
              "      <td>False</td>\n",
              "      <td>True</td>\n",
              "      <td>False</td>\n",
              "      <td>False</td>\n",
              "      <td>False</td>\n",
              "      <td>False</td>\n",
              "      <td>False</td>\n",
              "      <td>False</td>\n",
              "    </tr>\n",
              "    <tr>\n",
              "      <th>4</th>\n",
              "      <td>False</td>\n",
              "      <td>False</td>\n",
              "      <td>False</td>\n",
              "      <td>False</td>\n",
              "      <td>False</td>\n",
              "      <td>False</td>\n",
              "      <td>False</td>\n",
              "      <td>False</td>\n",
              "      <td>False</td>\n",
              "      <td>False</td>\n",
              "      <td>False</td>\n",
              "      <td>False</td>\n",
              "      <td>False</td>\n",
              "      <td>False</td>\n",
              "      <td>False</td>\n",
              "      <td>False</td>\n",
              "      <td>False</td>\n",
              "      <td>False</td>\n",
              "      <td>False</td>\n",
              "      <td>False</td>\n",
              "      <td>False</td>\n",
              "      <td>False</td>\n",
              "      <td>False</td>\n",
              "      <td>False</td>\n",
              "      <td>False</td>\n",
              "      <td>True</td>\n",
              "      <td>False</td>\n",
              "      <td>False</td>\n",
              "      <td>False</td>\n",
              "      <td>False</td>\n",
              "      <td>False</td>\n",
              "      <td>False</td>\n",
              "      <td>False</td>\n",
              "      <td>False</td>\n",
              "      <td>False</td>\n",
              "      <td>False</td>\n",
              "      <td>False</td>\n",
              "      <td>False</td>\n",
              "      <td>False</td>\n",
              "      <td>True</td>\n",
              "      <td>False</td>\n",
              "      <td>False</td>\n",
              "      <td>False</td>\n",
              "      <td>False</td>\n",
              "      <td>False</td>\n",
              "      <td>False</td>\n",
              "      <td>False</td>\n",
              "      <td>False</td>\n",
              "      <td>False</td>\n",
              "      <td>False</td>\n",
              "    </tr>\n",
              "  </tbody>\n",
              "</table>\n",
              "</div>"
            ],
            "text/plain": [
              "   6 Pack Soft Drink  Barbacoa Bowl  ...  Veggie Salad Bowl  Veggie Soft Tacos\n",
              "0              False          False  ...              False              False\n",
              "1              False          False  ...              False              False\n",
              "2              False          False  ...              False              False\n",
              "3              False          False  ...              False              False\n",
              "4              False          False  ...              False              False\n",
              "\n",
              "[5 rows x 50 columns]"
            ]
          },
          "metadata": {
            "tags": []
          },
          "execution_count": 12
        }
      ]
    },
    {
      "cell_type": "markdown",
      "metadata": {
        "id": "rBoPJ3Z0-W7G"
      },
      "source": [
        "## 3. apropri()\r\n",
        "* 지지도(support) 0.05 이상인 주문 추출\r\n",
        "* use_colnames : item_name으로 출력\r\n",
        "* max_len : 주문의 최대 길이 지정"
      ]
    },
    {
      "cell_type": "code",
      "metadata": {
        "colab": {
          "base_uri": "https://localhost:8080/",
          "height": 546
        },
        "id": "U6S9bdcg-DKQ",
        "outputId": "63c30c62-5084-4037-8bea-26ce711ae296"
      },
      "source": [
        "from mlxtend.frequent_patterns import apriori\r\n",
        "\r\n",
        "frequent_itemsets = apriori(order_DF,\r\n",
        "                           min_support = 0.05,\r\n",
        "                           use_colnames = True,\r\n",
        "                           max_len = None)\r\n",
        "\r\n",
        "frequent_itemsets"
      ],
      "execution_count": null,
      "outputs": [
        {
          "output_type": "execute_result",
          "data": {
            "text/html": [
              "<div>\n",
              "<style scoped>\n",
              "    .dataframe tbody tr th:only-of-type {\n",
              "        vertical-align: middle;\n",
              "    }\n",
              "\n",
              "    .dataframe tbody tr th {\n",
              "        vertical-align: top;\n",
              "    }\n",
              "\n",
              "    .dataframe thead th {\n",
              "        text-align: right;\n",
              "    }\n",
              "</style>\n",
              "<table border=\"1\" class=\"dataframe\">\n",
              "  <thead>\n",
              "    <tr style=\"text-align: right;\">\n",
              "      <th></th>\n",
              "      <th>support</th>\n",
              "      <th>itemsets</th>\n",
              "    </tr>\n",
              "  </thead>\n",
              "  <tbody>\n",
              "    <tr>\n",
              "      <th>0</th>\n",
              "      <td>0.083969</td>\n",
              "      <td>(Bottled Water)</td>\n",
              "    </tr>\n",
              "    <tr>\n",
              "      <th>1</th>\n",
              "      <td>0.051254</td>\n",
              "      <td>(Canned Soda)</td>\n",
              "    </tr>\n",
              "    <tr>\n",
              "      <th>2</th>\n",
              "      <td>0.150491</td>\n",
              "      <td>(Canned Soft Drink)</td>\n",
              "    </tr>\n",
              "    <tr>\n",
              "      <th>3</th>\n",
              "      <td>0.335333</td>\n",
              "      <td>(Chicken Bowl)</td>\n",
              "    </tr>\n",
              "    <tr>\n",
              "      <th>4</th>\n",
              "      <td>0.266630</td>\n",
              "      <td>(Chicken Burrito)</td>\n",
              "    </tr>\n",
              "    <tr>\n",
              "      <th>5</th>\n",
              "      <td>0.053435</td>\n",
              "      <td>(Chicken Salad Bowl)</td>\n",
              "    </tr>\n",
              "    <tr>\n",
              "      <th>6</th>\n",
              "      <td>0.058342</td>\n",
              "      <td>(Chicken Soft Tacos)</td>\n",
              "    </tr>\n",
              "    <tr>\n",
              "      <th>7</th>\n",
              "      <td>0.113413</td>\n",
              "      <td>(Chips)</td>\n",
              "    </tr>\n",
              "    <tr>\n",
              "      <th>8</th>\n",
              "      <td>0.059978</td>\n",
              "      <td>(Chips and Fresh Tomato Salsa)</td>\n",
              "    </tr>\n",
              "    <tr>\n",
              "      <th>9</th>\n",
              "      <td>0.258451</td>\n",
              "      <td>(Chips and Guacamole)</td>\n",
              "    </tr>\n",
              "    <tr>\n",
              "      <th>10</th>\n",
              "      <td>0.055071</td>\n",
              "      <td>(Side of Chips)</td>\n",
              "    </tr>\n",
              "    <tr>\n",
              "      <th>11</th>\n",
              "      <td>0.102508</td>\n",
              "      <td>(Steak Bowl)</td>\n",
              "    </tr>\n",
              "    <tr>\n",
              "      <th>12</th>\n",
              "      <td>0.186478</td>\n",
              "      <td>(Steak Burrito)</td>\n",
              "    </tr>\n",
              "    <tr>\n",
              "      <th>13</th>\n",
              "      <td>0.060523</td>\n",
              "      <td>(Chicken Bowl, Canned Soft Drink)</td>\n",
              "    </tr>\n",
              "    <tr>\n",
              "      <th>14</th>\n",
              "      <td>0.066521</td>\n",
              "      <td>(Chips, Chicken Bowl)</td>\n",
              "    </tr>\n",
              "    <tr>\n",
              "      <th>15</th>\n",
              "      <td>0.081243</td>\n",
              "      <td>(Chicken Bowl, Chips and Guacamole)</td>\n",
              "    </tr>\n",
              "    <tr>\n",
              "      <th>16</th>\n",
              "      <td>0.062159</td>\n",
              "      <td>(Chicken Burrito, Chips and Guacamole)</td>\n",
              "    </tr>\n",
              "  </tbody>\n",
              "</table>\n",
              "</div>"
            ],
            "text/plain": [
              "     support                                itemsets\n",
              "0   0.083969                         (Bottled Water)\n",
              "1   0.051254                           (Canned Soda)\n",
              "2   0.150491                     (Canned Soft Drink)\n",
              "3   0.335333                          (Chicken Bowl)\n",
              "4   0.266630                       (Chicken Burrito)\n",
              "5   0.053435                    (Chicken Salad Bowl)\n",
              "6   0.058342                    (Chicken Soft Tacos)\n",
              "7   0.113413                                 (Chips)\n",
              "8   0.059978          (Chips and Fresh Tomato Salsa)\n",
              "9   0.258451                   (Chips and Guacamole)\n",
              "10  0.055071                         (Side of Chips)\n",
              "11  0.102508                            (Steak Bowl)\n",
              "12  0.186478                         (Steak Burrito)\n",
              "13  0.060523       (Chicken Bowl, Canned Soft Drink)\n",
              "14  0.066521                   (Chips, Chicken Bowl)\n",
              "15  0.081243     (Chicken Bowl, Chips and Guacamole)\n",
              "16  0.062159  (Chicken Burrito, Chips and Guacamole)"
            ]
          },
          "metadata": {
            "tags": []
          },
          "execution_count": 13
        }
      ]
    },
    {
      "cell_type": "markdown",
      "metadata": {
        "id": "TRx9nU8V_e0e"
      },
      "source": [
        "## 4. association_rules()\r\n",
        "### 1. 지지도(support)가 최소 0.05 이상인 연관관계 출력\r\n",
        "* antecedents(조건절) -> consequents(결과절)\r\n",
        "* 전체 주문 중 조건절과 결과절을 포함한 비율\r\n",
        "* 방향성 없음"
      ]
    },
    {
      "cell_type": "code",
      "metadata": {
        "colab": {
          "base_uri": "https://localhost:8080/",
          "height": 454
        },
        "id": "9psaZ7Ps-sqm",
        "outputId": "b898ae0f-a53a-4a7b-c33c-783667235ac6"
      },
      "source": [
        "from mlxtend.frequent_patterns import association_rules\r\n",
        "\r\n",
        "association_rules(frequent_itemsets,\r\n",
        "                  metric = 'support',\r\n",
        "                  min_threshold = 0.05)"
      ],
      "execution_count": null,
      "outputs": [
        {
          "output_type": "execute_result",
          "data": {
            "text/html": [
              "<div>\n",
              "<style scoped>\n",
              "    .dataframe tbody tr th:only-of-type {\n",
              "        vertical-align: middle;\n",
              "    }\n",
              "\n",
              "    .dataframe tbody tr th {\n",
              "        vertical-align: top;\n",
              "    }\n",
              "\n",
              "    .dataframe thead th {\n",
              "        text-align: right;\n",
              "    }\n",
              "</style>\n",
              "<table border=\"1\" class=\"dataframe\">\n",
              "  <thead>\n",
              "    <tr style=\"text-align: right;\">\n",
              "      <th></th>\n",
              "      <th>antecedents</th>\n",
              "      <th>consequents</th>\n",
              "      <th>antecedent support</th>\n",
              "      <th>consequent support</th>\n",
              "      <th>support</th>\n",
              "      <th>confidence</th>\n",
              "      <th>lift</th>\n",
              "      <th>leverage</th>\n",
              "      <th>conviction</th>\n",
              "    </tr>\n",
              "  </thead>\n",
              "  <tbody>\n",
              "    <tr>\n",
              "      <th>0</th>\n",
              "      <td>(Chicken Bowl)</td>\n",
              "      <td>(Canned Soft Drink)</td>\n",
              "      <td>0.335333</td>\n",
              "      <td>0.150491</td>\n",
              "      <td>0.060523</td>\n",
              "      <td>0.180488</td>\n",
              "      <td>1.199328</td>\n",
              "      <td>0.010059</td>\n",
              "      <td>1.036604</td>\n",
              "    </tr>\n",
              "    <tr>\n",
              "      <th>1</th>\n",
              "      <td>(Canned Soft Drink)</td>\n",
              "      <td>(Chicken Bowl)</td>\n",
              "      <td>0.150491</td>\n",
              "      <td>0.335333</td>\n",
              "      <td>0.060523</td>\n",
              "      <td>0.402174</td>\n",
              "      <td>1.199328</td>\n",
              "      <td>0.010059</td>\n",
              "      <td>1.111807</td>\n",
              "    </tr>\n",
              "    <tr>\n",
              "      <th>2</th>\n",
              "      <td>(Chips)</td>\n",
              "      <td>(Chicken Bowl)</td>\n",
              "      <td>0.113413</td>\n",
              "      <td>0.335333</td>\n",
              "      <td>0.066521</td>\n",
              "      <td>0.586538</td>\n",
              "      <td>1.749124</td>\n",
              "      <td>0.028490</td>\n",
              "      <td>1.607568</td>\n",
              "    </tr>\n",
              "    <tr>\n",
              "      <th>3</th>\n",
              "      <td>(Chicken Bowl)</td>\n",
              "      <td>(Chips)</td>\n",
              "      <td>0.335333</td>\n",
              "      <td>0.113413</td>\n",
              "      <td>0.066521</td>\n",
              "      <td>0.198374</td>\n",
              "      <td>1.749124</td>\n",
              "      <td>0.028490</td>\n",
              "      <td>1.105985</td>\n",
              "    </tr>\n",
              "    <tr>\n",
              "      <th>4</th>\n",
              "      <td>(Chicken Bowl)</td>\n",
              "      <td>(Chips and Guacamole)</td>\n",
              "      <td>0.335333</td>\n",
              "      <td>0.258451</td>\n",
              "      <td>0.081243</td>\n",
              "      <td>0.242276</td>\n",
              "      <td>0.937416</td>\n",
              "      <td>-0.005424</td>\n",
              "      <td>0.978653</td>\n",
              "    </tr>\n",
              "    <tr>\n",
              "      <th>5</th>\n",
              "      <td>(Chips and Guacamole)</td>\n",
              "      <td>(Chicken Bowl)</td>\n",
              "      <td>0.258451</td>\n",
              "      <td>0.335333</td>\n",
              "      <td>0.081243</td>\n",
              "      <td>0.314346</td>\n",
              "      <td>0.937416</td>\n",
              "      <td>-0.005424</td>\n",
              "      <td>0.969392</td>\n",
              "    </tr>\n",
              "    <tr>\n",
              "      <th>6</th>\n",
              "      <td>(Chicken Burrito)</td>\n",
              "      <td>(Chips and Guacamole)</td>\n",
              "      <td>0.266630</td>\n",
              "      <td>0.258451</td>\n",
              "      <td>0.062159</td>\n",
              "      <td>0.233129</td>\n",
              "      <td>0.902022</td>\n",
              "      <td>-0.006752</td>\n",
              "      <td>0.966979</td>\n",
              "    </tr>\n",
              "    <tr>\n",
              "      <th>7</th>\n",
              "      <td>(Chips and Guacamole)</td>\n",
              "      <td>(Chicken Burrito)</td>\n",
              "      <td>0.258451</td>\n",
              "      <td>0.266630</td>\n",
              "      <td>0.062159</td>\n",
              "      <td>0.240506</td>\n",
              "      <td>0.902022</td>\n",
              "      <td>-0.006752</td>\n",
              "      <td>0.965603</td>\n",
              "    </tr>\n",
              "  </tbody>\n",
              "</table>\n",
              "</div>"
            ],
            "text/plain": [
              "             antecedents            consequents  ...  leverage  conviction\n",
              "0         (Chicken Bowl)    (Canned Soft Drink)  ...  0.010059    1.036604\n",
              "1    (Canned Soft Drink)         (Chicken Bowl)  ...  0.010059    1.111807\n",
              "2                (Chips)         (Chicken Bowl)  ...  0.028490    1.607568\n",
              "3         (Chicken Bowl)                (Chips)  ...  0.028490    1.105985\n",
              "4         (Chicken Bowl)  (Chips and Guacamole)  ... -0.005424    0.978653\n",
              "5  (Chips and Guacamole)         (Chicken Bowl)  ... -0.005424    0.969392\n",
              "6      (Chicken Burrito)  (Chips and Guacamole)  ... -0.006752    0.966979\n",
              "7  (Chips and Guacamole)      (Chicken Burrito)  ... -0.006752    0.965603\n",
              "\n",
              "[8 rows x 9 columns]"
            ]
          },
          "metadata": {
            "tags": []
          },
          "execution_count": 14
        }
      ]
    },
    {
      "cell_type": "markdown",
      "metadata": {
        "id": "ZL8JBjUY_2fN"
      },
      "source": [
        "### 2. 신뢰도(confidence)가 최소 0.3 이상인 연관관계 출력\r\n",
        "* 조건절이 있을 때 결과절도 있는 비율\r\n",
        "* 조건부 확률\r\n",
        "* 방향성 존재"
      ]
    },
    {
      "cell_type": "code",
      "metadata": {
        "colab": {
          "base_uri": "https://localhost:8080/",
          "height": 223
        },
        "id": "rrkADtBF_zqD",
        "outputId": "5581db01-43b1-4eec-d7e1-844e2042e203"
      },
      "source": [
        "association_rules(frequent_itemsets,\r\n",
        "                  metric = 'confidence',\r\n",
        "                  min_threshold = 0.3)"
      ],
      "execution_count": null,
      "outputs": [
        {
          "output_type": "execute_result",
          "data": {
            "text/html": [
              "<div>\n",
              "<style scoped>\n",
              "    .dataframe tbody tr th:only-of-type {\n",
              "        vertical-align: middle;\n",
              "    }\n",
              "\n",
              "    .dataframe tbody tr th {\n",
              "        vertical-align: top;\n",
              "    }\n",
              "\n",
              "    .dataframe thead th {\n",
              "        text-align: right;\n",
              "    }\n",
              "</style>\n",
              "<table border=\"1\" class=\"dataframe\">\n",
              "  <thead>\n",
              "    <tr style=\"text-align: right;\">\n",
              "      <th></th>\n",
              "      <th>antecedents</th>\n",
              "      <th>consequents</th>\n",
              "      <th>antecedent support</th>\n",
              "      <th>consequent support</th>\n",
              "      <th>support</th>\n",
              "      <th>confidence</th>\n",
              "      <th>lift</th>\n",
              "      <th>leverage</th>\n",
              "      <th>conviction</th>\n",
              "    </tr>\n",
              "  </thead>\n",
              "  <tbody>\n",
              "    <tr>\n",
              "      <th>0</th>\n",
              "      <td>(Canned Soft Drink)</td>\n",
              "      <td>(Chicken Bowl)</td>\n",
              "      <td>0.150491</td>\n",
              "      <td>0.335333</td>\n",
              "      <td>0.060523</td>\n",
              "      <td>0.402174</td>\n",
              "      <td>1.199328</td>\n",
              "      <td>0.010059</td>\n",
              "      <td>1.111807</td>\n",
              "    </tr>\n",
              "    <tr>\n",
              "      <th>1</th>\n",
              "      <td>(Chips)</td>\n",
              "      <td>(Chicken Bowl)</td>\n",
              "      <td>0.113413</td>\n",
              "      <td>0.335333</td>\n",
              "      <td>0.066521</td>\n",
              "      <td>0.586538</td>\n",
              "      <td>1.749124</td>\n",
              "      <td>0.028490</td>\n",
              "      <td>1.607568</td>\n",
              "    </tr>\n",
              "    <tr>\n",
              "      <th>2</th>\n",
              "      <td>(Chips and Guacamole)</td>\n",
              "      <td>(Chicken Bowl)</td>\n",
              "      <td>0.258451</td>\n",
              "      <td>0.335333</td>\n",
              "      <td>0.081243</td>\n",
              "      <td>0.314346</td>\n",
              "      <td>0.937416</td>\n",
              "      <td>-0.005424</td>\n",
              "      <td>0.969392</td>\n",
              "    </tr>\n",
              "  </tbody>\n",
              "</table>\n",
              "</div>"
            ],
            "text/plain": [
              "             antecedents     consequents  ...  leverage  conviction\n",
              "0    (Canned Soft Drink)  (Chicken Bowl)  ...  0.010059    1.111807\n",
              "1                (Chips)  (Chicken Bowl)  ...  0.028490    1.607568\n",
              "2  (Chips and Guacamole)  (Chicken Bowl)  ... -0.005424    0.969392\n",
              "\n",
              "[3 rows x 9 columns]"
            ]
          },
          "metadata": {
            "tags": []
          },
          "execution_count": 15
        }
      ]
    },
    {
      "cell_type": "markdown",
      "metadata": {
        "id": "GY2bfi-rAFXW"
      },
      "source": [
        "### 3. 향상도(lift)가 최소 0.1 이상인 연관관계 출력\r\n",
        "* 향상도가 1이라면 조건절과 결과절은 독립관계\r\n",
        "* 1보다 크거나 작다면 우연이 아닌 필연적 관계계"
      ]
    },
    {
      "cell_type": "code",
      "metadata": {
        "colab": {
          "base_uri": "https://localhost:8080/",
          "height": 454
        },
        "id": "tSE5LalgABnF",
        "outputId": "c8b250ca-ae7a-4c58-d5f3-ea0edcc31901"
      },
      "source": [
        "association_rules(frequent_itemsets,\r\n",
        "                  metric = 'lift',\r\n",
        "                  min_threshold = 0.1)"
      ],
      "execution_count": null,
      "outputs": [
        {
          "output_type": "execute_result",
          "data": {
            "text/html": [
              "<div>\n",
              "<style scoped>\n",
              "    .dataframe tbody tr th:only-of-type {\n",
              "        vertical-align: middle;\n",
              "    }\n",
              "\n",
              "    .dataframe tbody tr th {\n",
              "        vertical-align: top;\n",
              "    }\n",
              "\n",
              "    .dataframe thead th {\n",
              "        text-align: right;\n",
              "    }\n",
              "</style>\n",
              "<table border=\"1\" class=\"dataframe\">\n",
              "  <thead>\n",
              "    <tr style=\"text-align: right;\">\n",
              "      <th></th>\n",
              "      <th>antecedents</th>\n",
              "      <th>consequents</th>\n",
              "      <th>antecedent support</th>\n",
              "      <th>consequent support</th>\n",
              "      <th>support</th>\n",
              "      <th>confidence</th>\n",
              "      <th>lift</th>\n",
              "      <th>leverage</th>\n",
              "      <th>conviction</th>\n",
              "    </tr>\n",
              "  </thead>\n",
              "  <tbody>\n",
              "    <tr>\n",
              "      <th>0</th>\n",
              "      <td>(Chicken Bowl)</td>\n",
              "      <td>(Canned Soft Drink)</td>\n",
              "      <td>0.335333</td>\n",
              "      <td>0.150491</td>\n",
              "      <td>0.060523</td>\n",
              "      <td>0.180488</td>\n",
              "      <td>1.199328</td>\n",
              "      <td>0.010059</td>\n",
              "      <td>1.036604</td>\n",
              "    </tr>\n",
              "    <tr>\n",
              "      <th>1</th>\n",
              "      <td>(Canned Soft Drink)</td>\n",
              "      <td>(Chicken Bowl)</td>\n",
              "      <td>0.150491</td>\n",
              "      <td>0.335333</td>\n",
              "      <td>0.060523</td>\n",
              "      <td>0.402174</td>\n",
              "      <td>1.199328</td>\n",
              "      <td>0.010059</td>\n",
              "      <td>1.111807</td>\n",
              "    </tr>\n",
              "    <tr>\n",
              "      <th>2</th>\n",
              "      <td>(Chips)</td>\n",
              "      <td>(Chicken Bowl)</td>\n",
              "      <td>0.113413</td>\n",
              "      <td>0.335333</td>\n",
              "      <td>0.066521</td>\n",
              "      <td>0.586538</td>\n",
              "      <td>1.749124</td>\n",
              "      <td>0.028490</td>\n",
              "      <td>1.607568</td>\n",
              "    </tr>\n",
              "    <tr>\n",
              "      <th>3</th>\n",
              "      <td>(Chicken Bowl)</td>\n",
              "      <td>(Chips)</td>\n",
              "      <td>0.335333</td>\n",
              "      <td>0.113413</td>\n",
              "      <td>0.066521</td>\n",
              "      <td>0.198374</td>\n",
              "      <td>1.749124</td>\n",
              "      <td>0.028490</td>\n",
              "      <td>1.105985</td>\n",
              "    </tr>\n",
              "    <tr>\n",
              "      <th>4</th>\n",
              "      <td>(Chicken Bowl)</td>\n",
              "      <td>(Chips and Guacamole)</td>\n",
              "      <td>0.335333</td>\n",
              "      <td>0.258451</td>\n",
              "      <td>0.081243</td>\n",
              "      <td>0.242276</td>\n",
              "      <td>0.937416</td>\n",
              "      <td>-0.005424</td>\n",
              "      <td>0.978653</td>\n",
              "    </tr>\n",
              "    <tr>\n",
              "      <th>5</th>\n",
              "      <td>(Chips and Guacamole)</td>\n",
              "      <td>(Chicken Bowl)</td>\n",
              "      <td>0.258451</td>\n",
              "      <td>0.335333</td>\n",
              "      <td>0.081243</td>\n",
              "      <td>0.314346</td>\n",
              "      <td>0.937416</td>\n",
              "      <td>-0.005424</td>\n",
              "      <td>0.969392</td>\n",
              "    </tr>\n",
              "    <tr>\n",
              "      <th>6</th>\n",
              "      <td>(Chicken Burrito)</td>\n",
              "      <td>(Chips and Guacamole)</td>\n",
              "      <td>0.266630</td>\n",
              "      <td>0.258451</td>\n",
              "      <td>0.062159</td>\n",
              "      <td>0.233129</td>\n",
              "      <td>0.902022</td>\n",
              "      <td>-0.006752</td>\n",
              "      <td>0.966979</td>\n",
              "    </tr>\n",
              "    <tr>\n",
              "      <th>7</th>\n",
              "      <td>(Chips and Guacamole)</td>\n",
              "      <td>(Chicken Burrito)</td>\n",
              "      <td>0.258451</td>\n",
              "      <td>0.266630</td>\n",
              "      <td>0.062159</td>\n",
              "      <td>0.240506</td>\n",
              "      <td>0.902022</td>\n",
              "      <td>-0.006752</td>\n",
              "      <td>0.965603</td>\n",
              "    </tr>\n",
              "  </tbody>\n",
              "</table>\n",
              "</div>"
            ],
            "text/plain": [
              "             antecedents            consequents  ...  leverage  conviction\n",
              "0         (Chicken Bowl)    (Canned Soft Drink)  ...  0.010059    1.036604\n",
              "1    (Canned Soft Drink)         (Chicken Bowl)  ...  0.010059    1.111807\n",
              "2                (Chips)         (Chicken Bowl)  ...  0.028490    1.607568\n",
              "3         (Chicken Bowl)                (Chips)  ...  0.028490    1.105985\n",
              "4         (Chicken Bowl)  (Chips and Guacamole)  ... -0.005424    0.978653\n",
              "5  (Chips and Guacamole)         (Chicken Bowl)  ... -0.005424    0.969392\n",
              "6      (Chicken Burrito)  (Chips and Guacamole)  ... -0.006752    0.966979\n",
              "7  (Chips and Guacamole)      (Chicken Burrito)  ... -0.006752    0.965603\n",
              "\n",
              "[8 rows x 9 columns]"
            ]
          },
          "metadata": {
            "tags": []
          },
          "execution_count": 16
        }
      ]
    },
    {
      "cell_type": "markdown",
      "metadata": {
        "id": "gR1Cw4PhAV0f"
      },
      "source": [
        "본 내용은 2021/03/10(수)에 학습한 내용입니다."
      ]
    }
  ]
}