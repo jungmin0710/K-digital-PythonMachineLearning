{
  "nbformat": 4,
  "nbformat_minor": 0,
  "metadata": {
    "colab": {
      "name": "sklearn_Clustering.ipynb",
      "provenance": [],
      "authorship_tag": "ABX9TyMwxCVjLz1FHPVKdFYKqFF9",
      "include_colab_link": true
    },
    "kernelspec": {
      "name": "python3",
      "display_name": "Python 3"
    }
  },
  "cells": [
    {
      "cell_type": "markdown",
      "metadata": {
        "id": "view-in-github",
        "colab_type": "text"
      },
      "source": [
        "<a href=\"https://colab.research.google.com/github/jungmin0710/K-digital-PythonMachineLearning/blob/main/sklearn_Clustering.ipynb\" target=\"_parent\"><img src=\"https://colab.research.google.com/assets/colab-badge.svg\" alt=\"Open In Colab\"/></a>"
      ]
    },
    {
      "cell_type": "markdown",
      "metadata": {
        "id": "ApbyPwOVDD1A"
      },
      "source": [
        "# sklearn Clustering - 군집분석"
      ]
    },
    {
      "cell_type": "code",
      "metadata": {
        "id": "wkQZXuCIC_gg"
      },
      "source": [
        "import warnings\r\n",
        "warnings.filterwarnings('ignore')"
      ],
      "execution_count": 1,
      "outputs": []
    },
    {
      "cell_type": "markdown",
      "metadata": {
        "id": "lollg8PgDLwW"
      },
      "source": [
        "## 0. 실습용 데이터 설정\r\n",
        "### 1. Import Packages"
      ]
    },
    {
      "cell_type": "code",
      "metadata": {
        "id": "9VFDo6kRDK1T"
      },
      "source": [
        "import matplotlib.pyplot as plt\r\n",
        "import numpy as np\r\n",
        "import pandas as pd"
      ],
      "execution_count": 2,
      "outputs": []
    },
    {
      "cell_type": "markdown",
      "metadata": {
        "id": "tWiS__FZDWBQ"
      },
      "source": [
        "### 2. Load Dataset\r\n",
        "* Load iris Dataset"
      ]
    },
    {
      "cell_type": "code",
      "metadata": {
        "id": "t6M-FqmxDUPR"
      },
      "source": [
        "from sklearn.datasets import load_iris\r\n",
        "\r\n",
        "iris = load_iris()"
      ],
      "execution_count": 3,
      "outputs": []
    },
    {
      "cell_type": "markdown",
      "metadata": {
        "id": "UxFxFHbuDeTK"
      },
      "source": [
        "* pandas DataFrame"
      ]
    },
    {
      "cell_type": "code",
      "metadata": {
        "colab": {
          "base_uri": "https://localhost:8080/",
          "height": 135
        },
        "id": "qbD1T4D0Ddp_",
        "outputId": "541a7d6c-21ed-450b-b219-92660150a871"
      },
      "source": [
        "DF = pd.DataFrame(data = iris.data,\r\n",
        "                  columns = ['sepal_length',\r\n",
        "                             'sepal_width',\r\n",
        "                             'petal_length',\r\n",
        "                             'petal_width'])\r\n",
        "\r\n",
        "DF.head(3)"
      ],
      "execution_count": 4,
      "outputs": [
        {
          "output_type": "execute_result",
          "data": {
            "text/html": [
              "<div>\n",
              "<style scoped>\n",
              "    .dataframe tbody tr th:only-of-type {\n",
              "        vertical-align: middle;\n",
              "    }\n",
              "\n",
              "    .dataframe tbody tr th {\n",
              "        vertical-align: top;\n",
              "    }\n",
              "\n",
              "    .dataframe thead th {\n",
              "        text-align: right;\n",
              "    }\n",
              "</style>\n",
              "<table border=\"1\" class=\"dataframe\">\n",
              "  <thead>\n",
              "    <tr style=\"text-align: right;\">\n",
              "      <th></th>\n",
              "      <th>sepal_length</th>\n",
              "      <th>sepal_width</th>\n",
              "      <th>petal_length</th>\n",
              "      <th>petal_width</th>\n",
              "    </tr>\n",
              "  </thead>\n",
              "  <tbody>\n",
              "    <tr>\n",
              "      <th>0</th>\n",
              "      <td>5.1</td>\n",
              "      <td>3.5</td>\n",
              "      <td>1.4</td>\n",
              "      <td>0.2</td>\n",
              "    </tr>\n",
              "    <tr>\n",
              "      <th>1</th>\n",
              "      <td>4.9</td>\n",
              "      <td>3.0</td>\n",
              "      <td>1.4</td>\n",
              "      <td>0.2</td>\n",
              "    </tr>\n",
              "    <tr>\n",
              "      <th>2</th>\n",
              "      <td>4.7</td>\n",
              "      <td>3.2</td>\n",
              "      <td>1.3</td>\n",
              "      <td>0.2</td>\n",
              "    </tr>\n",
              "  </tbody>\n",
              "</table>\n",
              "</div>"
            ],
            "text/plain": [
              "   sepal_length  sepal_width  petal_length  petal_width\n",
              "0           5.1          3.5           1.4          0.2\n",
              "1           4.9          3.0           1.4          0.2\n",
              "2           4.7          3.2           1.3          0.2"
            ]
          },
          "metadata": {
            "tags": []
          },
          "execution_count": 4
        }
      ]
    },
    {
      "cell_type": "markdown",
      "metadata": {
        "id": "QdujLjA6Dq_R"
      },
      "source": [
        "## 1. K-means\r\n",
        "### 1. Modeling"
      ]
    },
    {
      "cell_type": "code",
      "metadata": {
        "colab": {
          "base_uri": "https://localhost:8080/"
        },
        "id": "yWBxkIUIDpzX",
        "outputId": "db4660e6-1182-4654-c86e-bb86a50cecb4"
      },
      "source": [
        "from sklearn.cluster import KMeans\r\n",
        "kmeans_3 = KMeans(n_clusters = 3,\r\n",
        "                  init = 'k-means++',\r\n",
        "                  max_iter = 15,\r\n",
        "                  random_state = 2045)\r\n",
        "\r\n",
        "kmeans_3.fit(iris.data)"
      ],
      "execution_count": 6,
      "outputs": [
        {
          "output_type": "execute_result",
          "data": {
            "text/plain": [
              "KMeans(algorithm='auto', copy_x=True, init='k-means++', max_iter=15,\n",
              "       n_clusters=3, n_init=10, n_jobs=None, precompute_distances='auto',\n",
              "       random_state=2045, tol=0.0001, verbose=0)"
            ]
          },
          "metadata": {
            "tags": []
          },
          "execution_count": 6
        }
      ]
    },
    {
      "cell_type": "markdown",
      "metadata": {
        "id": "VkzxTe5pD9vc"
      },
      "source": [
        "### 2. 군집결과"
      ]
    },
    {
      "cell_type": "code",
      "metadata": {
        "id": "5t003XBUD7YV"
      },
      "source": [
        "DF['kmeans'] = kmeans_3.labels_\r\n",
        "DF['target'] = iris.target"
      ],
      "execution_count": 7,
      "outputs": []
    },
    {
      "cell_type": "code",
      "metadata": {
        "colab": {
          "base_uri": "https://localhost:8080/"
        },
        "id": "Uxnv3kf2EDs5",
        "outputId": "6ca0190f-c8be-4d29-9705-82c927150246"
      },
      "source": [
        "DF.groupby('target')['kmeans'].value_counts()"
      ],
      "execution_count": 8,
      "outputs": [
        {
          "output_type": "execute_result",
          "data": {
            "text/plain": [
              "target  kmeans\n",
              "0       1         50\n",
              "1       0         48\n",
              "        2          2\n",
              "2       2         36\n",
              "        0         14\n",
              "Name: kmeans, dtype: int64"
            ]
          },
          "metadata": {
            "tags": []
          },
          "execution_count": 8
        }
      ]
    },
    {
      "cell_type": "markdown",
      "metadata": {
        "id": "reNlIIHDEIXG"
      },
      "source": [
        "## 2. Mean Shift(평균 이동)\r\n",
        "* 데이터의 분포를 이용하여 군집의 중심을 탐색\r\n",
        "  * 데이터 밀도가 가장 높은 곳으로 중심을 지속적으로 이동\r\n",
        "* 군집의 중심점은 데이터포인트가 모여있는ㄴ 곳이라 가정\r\n",
        "  * 확률 밀도 함수(Probability Desity Function)\r\n",
        "  * KDE(Kernel Density Estimaion)\r\n",
        "### 1. Modeling\r\n",
        "* Hyperparameter\r\n",
        "  * bandwidth : 대역폭이 클 수록 적은 수의 군집중심을 가짐"
      ]
    },
    {
      "cell_type": "code",
      "metadata": {
        "colab": {
          "base_uri": "https://localhost:8080/"
        },
        "id": "IZAOlPN0EHbe",
        "outputId": "183024be-e848-40bc-fcb0-19ed0023a3e4"
      },
      "source": [
        "from sklearn.cluster import MeanShift\r\n",
        "\r\n",
        "meanshift = MeanShift(bandwidth = 0.86)\r\n",
        "\r\n",
        "meanshift.fit_predict(iris.data)"
      ],
      "execution_count": 9,
      "outputs": [
        {
          "output_type": "execute_result",
          "data": {
            "text/plain": [
              "array([1, 1, 1, 1, 1, 1, 1, 1, 1, 1, 1, 1, 1, 1, 1, 1, 1, 1, 1, 1, 1, 1,\n",
              "       1, 1, 1, 1, 1, 1, 1, 1, 1, 1, 1, 1, 1, 1, 1, 1, 1, 1, 1, 1, 1, 1,\n",
              "       1, 1, 1, 1, 1, 1, 0, 0, 0, 0, 0, 0, 0, 0, 0, 0, 0, 0, 0, 0, 0, 0,\n",
              "       0, 0, 0, 0, 0, 0, 0, 0, 0, 0, 0, 2, 0, 0, 0, 0, 0, 0, 0, 0, 0, 0,\n",
              "       0, 0, 0, 0, 0, 0, 0, 0, 0, 0, 1, 0, 2, 0, 2, 2, 2, 2, 0, 2, 2, 2,\n",
              "       2, 2, 2, 0, 0, 2, 2, 2, 2, 0, 2, 0, 2, 0, 2, 2, 0, 0, 2, 2, 2, 2,\n",
              "       2, 0, 2, 2, 2, 2, 0, 2, 2, 2, 0, 2, 2, 2, 0, 2, 2, 0])"
            ]
          },
          "metadata": {
            "tags": []
          },
          "execution_count": 9
        }
      ]
    },
    {
      "cell_type": "code",
      "metadata": {
        "colab": {
          "base_uri": "https://localhost:8080/"
        },
        "id": "2gQE00VYErS3",
        "outputId": "91a75a39-32b7-42f0-f1d7-bcbd0e65c75c"
      },
      "source": [
        "from sklearn.cluster import estimate_bandwidth\r\n",
        "\r\n",
        "estimate_bandwidth(iris.data)"
      ],
      "execution_count": 10,
      "outputs": [
        {
          "output_type": "execute_result",
          "data": {
            "text/plain": [
              "1.2020768127998687"
            ]
          },
          "metadata": {
            "tags": []
          },
          "execution_count": 10
        }
      ]
    },
    {
      "cell_type": "markdown",
      "metadata": {
        "id": "r-y57-RNExEt"
      },
      "source": [
        "### 2. 군집 결과\r\n",
        "\r\n",
        "\r\n"
      ]
    },
    {
      "cell_type": "code",
      "metadata": {
        "colab": {
          "base_uri": "https://localhost:8080/"
        },
        "id": "aaKduXkvEwEX",
        "outputId": "7956a038-9f96-4167-a426-ccb50ab6b15f"
      },
      "source": [
        "DF['meanshift'] = meanshift.fit_predict(iris.data)\r\n",
        "\r\n",
        "DF.groupby('target')['meanshift'].value_counts()"
      ],
      "execution_count": 11,
      "outputs": [
        {
          "output_type": "execute_result",
          "data": {
            "text/plain": [
              "target  meanshift\n",
              "0       1            50\n",
              "1       0            48\n",
              "        1             1\n",
              "        2             1\n",
              "2       2            36\n",
              "        0            14\n",
              "Name: meanshift, dtype: int64"
            ]
          },
          "metadata": {
            "tags": []
          },
          "execution_count": 11
        }
      ]
    },
    {
      "cell_type": "markdown",
      "metadata": {
        "id": "uPbQbdcnE97B"
      },
      "source": [
        "## 3. GMM(Gaussian Mixture Model)\r\n",
        "* 데이터가 여러 개의 가우시안 분포(Gaussian Distribution)를 가진 데이터들의 집합이라고 가정\r\n",
        "  * 개별 정규분포의 모수(평균, 분산) 추정\r\n",
        "  * 각 데이터포인트가 어떤 정규분포에 해당하는지 확률 추정\r\n",
        "    * EM(Expectation and Maximization)\r\n",
        "\r\n",
        "### 1. Modeling"
      ]
    },
    {
      "cell_type": "code",
      "metadata": {
        "colab": {
          "base_uri": "https://localhost:8080/"
        },
        "id": "Pj_JFeL8E8b_",
        "outputId": "8484f29b-97f1-450d-d261-e1d60b95c3dc"
      },
      "source": [
        "from sklearn.mixture import GaussianMixture\r\n",
        "\r\n",
        "gmm = GaussianMixture(n_components = 3,\r\n",
        "                      random_state = 2045)\r\n",
        "\r\n",
        "gmm.fit(iris.data)"
      ],
      "execution_count": 12,
      "outputs": [
        {
          "output_type": "execute_result",
          "data": {
            "text/plain": [
              "GaussianMixture(covariance_type='full', init_params='kmeans', max_iter=100,\n",
              "                means_init=None, n_components=3, n_init=1, precisions_init=None,\n",
              "                random_state=2045, reg_covar=1e-06, tol=0.001, verbose=0,\n",
              "                verbose_interval=10, warm_start=False, weights_init=None)"
            ]
          },
          "metadata": {
            "tags": []
          },
          "execution_count": 12
        }
      ]
    },
    {
      "cell_type": "code",
      "metadata": {
        "colab": {
          "base_uri": "https://localhost:8080/"
        },
        "id": "Td3RLq-qFXUE",
        "outputId": "a052e1b4-b5fc-4946-976f-6f99cf1bb520"
      },
      "source": [
        "gmm.predict(iris.data)"
      ],
      "execution_count": 13,
      "outputs": [
        {
          "output_type": "execute_result",
          "data": {
            "text/plain": [
              "array([1, 1, 1, 1, 1, 1, 1, 1, 1, 1, 1, 1, 1, 1, 1, 1, 1, 1, 1, 1, 1, 1,\n",
              "       1, 1, 1, 1, 1, 1, 1, 1, 1, 1, 1, 1, 1, 1, 1, 1, 1, 1, 1, 1, 1, 1,\n",
              "       1, 1, 1, 1, 1, 1, 0, 0, 0, 0, 0, 0, 0, 0, 0, 0, 0, 0, 0, 0, 0, 0,\n",
              "       0, 0, 2, 0, 2, 0, 2, 0, 0, 0, 0, 2, 0, 0, 0, 0, 0, 2, 0, 0, 0, 0,\n",
              "       0, 0, 0, 0, 0, 0, 0, 0, 0, 0, 0, 0, 2, 2, 2, 2, 2, 2, 2, 2, 2, 2,\n",
              "       2, 2, 2, 2, 2, 2, 2, 2, 2, 2, 2, 2, 2, 2, 2, 2, 2, 2, 2, 2, 2, 2,\n",
              "       2, 2, 2, 2, 2, 2, 2, 2, 2, 2, 2, 2, 2, 2, 2, 2, 2, 2])"
            ]
          },
          "metadata": {
            "tags": []
          },
          "execution_count": 13
        }
      ]
    },
    {
      "cell_type": "markdown",
      "metadata": {
        "id": "86dhACUKFbov"
      },
      "source": [
        "### 2. 군집결과"
      ]
    },
    {
      "cell_type": "code",
      "metadata": {
        "id": "oQibsOmTFZxS"
      },
      "source": [
        "DF['gmm'] = gmm.predict(iris.data)"
      ],
      "execution_count": 14,
      "outputs": []
    },
    {
      "cell_type": "code",
      "metadata": {
        "colab": {
          "base_uri": "https://localhost:8080/"
        },
        "id": "nI8VweVEFgEI",
        "outputId": "29aed54c-4f47-4db5-a50f-ae4fcf5b0890"
      },
      "source": [
        "DF.groupby('target')['gmm'].value_counts()"
      ],
      "execution_count": 15,
      "outputs": [
        {
          "output_type": "execute_result",
          "data": {
            "text/plain": [
              "target  gmm\n",
              "0       1      50\n",
              "1       0      45\n",
              "        2       5\n",
              "2       2      50\n",
              "Name: gmm, dtype: int64"
            ]
          },
          "metadata": {
            "tags": []
          },
          "execution_count": 15
        }
      ]
    },
    {
      "cell_type": "markdown",
      "metadata": {
        "id": "QP1xbvf1Fobp"
      },
      "source": [
        "## 4. DBSCAN(Density Based Spatial Clustering of Applications with Noise)\r\n",
        "* 밀도(Density) 기반 군집\r\n",
        "  * 기하학적으로 복잡한 데이터에도 효과적으로 군집 가능\r\n",
        "  * 핵심 포인트(Core Point)들을 서로 연결하면서 군집화\r\n",
        "\r\n",
        "### 1. Modeling\r\n",
        "* Hyperparameter\r\n",
        "  * epsilon(esp, 입실론 주변 영역)\r\n",
        "    * 개별 데이터포인트를 중심으로 '입실론 반경'을 가지는 주변영역\r\n",
        "    * 'Core Point' 기준\r\n",
        "  * min point(min_samples, 최소 데이터 개수)\r\n",
        "    * 개별 데이터포인트의 '입빌론 주변 영역'에 포함되는 다른 데이터포인트의 개수\r\n",
        "    * 조건 만족시 'Core Point'로 지정"
      ]
    },
    {
      "cell_type": "code",
      "metadata": {
        "colab": {
          "base_uri": "https://localhost:8080/"
        },
        "id": "kMpuJvamFj3S",
        "outputId": "8f789147-2844-422f-9093-5c16337d826a"
      },
      "source": [
        "from sklearn.cluster import DBSCAN\r\n",
        "\r\n",
        "dbscan = DBSCAN(eps = 0.8,\r\n",
        "                min_samples = 8,\r\n",
        "                metric = 'euclidean')\r\n",
        "\r\n",
        "dbscan.fit_predict(iris.data)"
      ],
      "execution_count": 16,
      "outputs": [
        {
          "output_type": "execute_result",
          "data": {
            "text/plain": [
              "array([ 0,  0,  0,  0,  0,  0,  0,  0,  0,  0,  0,  0,  0,  0,  0,  0,  0,\n",
              "        0,  0,  0,  0,  0,  0,  0,  0,  0,  0,  0,  0,  0,  0,  0,  0,  0,\n",
              "        0,  0,  0,  0,  0,  0,  0,  0,  0,  0,  0,  0,  0,  0,  0,  0,  1,\n",
              "        1,  1,  1,  1,  1,  1,  1,  1,  1,  1,  1,  1,  1,  1,  1,  1,  1,\n",
              "        1,  1,  1,  1,  1,  1,  1,  1,  1,  1,  1,  1,  1,  1,  1,  1,  1,\n",
              "        1,  1,  1,  1,  1,  1,  1,  1,  1,  1,  1,  1,  1,  1,  1,  1,  1,\n",
              "        1,  1,  1,  1,  1,  1,  1,  1,  1,  1,  1,  1,  1,  1,  1, -1, -1,\n",
              "        1,  1,  1,  1,  1,  1,  1,  1,  1,  1,  1,  1, -1,  1,  1,  1,  1,\n",
              "        1,  1,  1,  1,  1,  1,  1,  1,  1,  1,  1,  1,  1,  1])"
            ]
          },
          "metadata": {
            "tags": []
          },
          "execution_count": 16
        }
      ]
    },
    {
      "cell_type": "markdown",
      "metadata": {
        "id": "_SZODM-1GS8U"
      },
      "source": [
        "### 2. 군집결과"
      ]
    },
    {
      "cell_type": "code",
      "metadata": {
        "colab": {
          "base_uri": "https://localhost:8080/"
        },
        "id": "S9C61z4jGR8F",
        "outputId": "bb5575b3-7915-468d-f9a2-fe438226c556"
      },
      "source": [
        "DF['dbscan'] = dbscan.fit_predict(iris.data)\r\n",
        "\r\n",
        "DF.groupby('target')['dbscan'].value_counts()"
      ],
      "execution_count": 17,
      "outputs": [
        {
          "output_type": "execute_result",
          "data": {
            "text/plain": [
              "target  dbscan\n",
              "0        0        50\n",
              "1        1        50\n",
              "2        1        47\n",
              "        -1         3\n",
              "Name: dbscan, dtype: int64"
            ]
          },
          "metadata": {
            "tags": []
          },
          "execution_count": 17
        }
      ]
    },
    {
      "cell_type": "markdown",
      "metadata": {
        "id": "LKaXogI7GeNa"
      },
      "source": [
        "본 내용은 2021/03/10(수)에 학습한 내용입니다."
      ]
    }
  ]
}