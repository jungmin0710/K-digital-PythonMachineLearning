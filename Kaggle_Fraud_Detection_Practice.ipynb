{
  "nbformat": 4,
  "nbformat_minor": 0,
  "metadata": {
    "colab": {
      "name": "Kaggle_Fraud_Detection_Practice.ipynb",
      "provenance": [],
      "authorship_tag": "ABX9TyMzM5Y/79nviR/f0i8jPUwI",
      "include_colab_link": true
    },
    "kernelspec": {
      "name": "python3",
      "display_name": "Python 3"
    }
  },
  "cells": [
    {
      "cell_type": "markdown",
      "metadata": {
        "id": "view-in-github",
        "colab_type": "text"
      },
      "source": [
        "<a href=\"https://colab.research.google.com/github/jungmin0710/K-digital-PythonMachineLearning/blob/main/Kaggle_Fraud_Detection_Practice.ipynb\" target=\"_parent\"><img src=\"https://colab.research.google.com/assets/colab-badge.svg\" alt=\"Open In Colab\"/></a>"
      ]
    },
    {
      "cell_type": "markdown",
      "metadata": {
        "id": "xT-2ampvLAJX"
      },
      "source": [
        "# Kaggle 신용카드 사기 검출(Google Drive Mount)\r\n",
        "https://www.kaggle.com/mlg-ulb/creditcardfraud\r\n",
        "\r\n",
        "### Credit Card Fraud Detection\r\n",
        "* creditcard.csv(284,807 * 31)\r\n",
        "* Class : 0(정상), 1(사기)\r\n",
        "* 사기 검출(Fraud Detection), 이상 탐지(Anomaly Detection)"
      ]
    },
    {
      "cell_type": "markdown",
      "metadata": {
        "id": "ebNyQRxlUl_x"
      },
      "source": [
        "* 조건\r\n",
        "1. Fraud_Detection_작성자이름.ipynb\r\n",
        "2. 탐색적데이터분석(EDA)\r\n",
        "3. y -> 'class'(0:정상, 1:부정)\r\n",
        "4. train_test_split - 7:3, stratify\r\n",
        "5. 다양한 분류 모델링 수행\r\n",
        "6. Metric -> 'accuracy','recall'\r\n",
        "7. 성능이 가장 좋은 모델 선택"
      ]
    },
    {
      "cell_type": "code",
      "metadata": {
        "id": "dFlq_gsJK8s3"
      },
      "source": [
        "import warnings\r\n",
        "warnings.filterwarnings('ignore')"
      ],
      "execution_count": null,
      "outputs": []
    },
    {
      "cell_type": "code",
      "metadata": {
        "id": "Duh2U6uGZAr_"
      },
      "source": [
        "import numpy as np\r\n",
        "import pandas as pd\r\n",
        "import matplotlib.pyplot as plt\r\n",
        "import seaborn as sns\r\n",
        "from sklearn.model_selection import train_test_split\r\n",
        "from sklearn.metrics import accuracy_score, confusion_matrix, recall_score\r\n",
        "from sklearn.linear_model import LogisticRegression\r\n",
        "from sklearn.tree import DecisionTreeClassifier\r\n",
        "from sklearn.ensemble import RandomForestClassifier\r\n",
        "from sklearn.model_selection import GridSearchCV\r\n",
        "from sklearn.ensemble import GradientBoostingClassifier\r\n",
        "from sklearn.ensemble import AdaBoostClassifier\r\n",
        "from xgboost import XGBClassifier\r\n",
        "from lightgbm import LGBMClassifier\r\n",
        "from sklearn.neighbors import KNeighborsClassifier"
      ],
      "execution_count": null,
      "outputs": []
    },
    {
      "cell_type": "markdown",
      "metadata": {
        "id": "H7UjMv3WLbc9"
      },
      "source": [
        "## 1.Google Drive Mount\r\n",
        "* 'creditCardFraud.zip' 파일을 구글드라이브에 업로드 후 진행"
      ]
    },
    {
      "cell_type": "code",
      "metadata": {
        "colab": {
          "base_uri": "https://localhost:8080/"
        },
        "id": "MW3elkjgLamw",
        "outputId": "1d5c6db1-96ea-40e2-ec31-09f804ede126"
      },
      "source": [
        "from google.colab import drive\r\n",
        "\r\n",
        "drive.mount('/content/drive')"
      ],
      "execution_count": null,
      "outputs": [
        {
          "output_type": "stream",
          "text": [
            "Mounted at /content/drive\n"
          ],
          "name": "stdout"
        }
      ]
    },
    {
      "cell_type": "markdown",
      "metadata": {
        "id": "mqGFYiLqLmJS"
      },
      "source": [
        "* 마운트 결과 확인"
      ]
    },
    {
      "cell_type": "code",
      "metadata": {
        "colab": {
          "base_uri": "https://localhost:8080/"
        },
        "id": "W_YNWcrOLlQC",
        "outputId": "9fc681f6-7044-43c6-8c1b-932cec8b6187"
      },
      "source": [
        "!ls -l '/content/drive/My Drive/Colab Notebooks/datasets/creditCardFraud.zip'"
      ],
      "execution_count": null,
      "outputs": [
        {
          "output_type": "stream",
          "text": [
            "-rw------- 1 root root 69155672 Mar  4 04:46 '/content/drive/My Drive/Colab Notebooks/datasets/creditCardFraud.zip'\n"
          ],
          "name": "stdout"
        }
      ]
    },
    {
      "cell_type": "markdown",
      "metadata": {
        "id": "ASyo02hULxcl"
      },
      "source": [
        "## 2.Data Preprocessing\r\n",
        "> 1) Unzip 'creditCardFraud.zip'\r\n",
        "* Colab 파일 시스템에 'creditcard.csv'파일 생성"
      ]
    },
    {
      "cell_type": "code",
      "metadata": {
        "colab": {
          "base_uri": "https://localhost:8080/"
        },
        "id": "Vz4Es-XfL7nT",
        "outputId": "4067460c-0f1a-45fc-a80b-80531c2e9110"
      },
      "source": [
        "!unzip /content/drive/My\\ Drive/Colab\\ Notebooks/datasets/creditCardFraud.zip"
      ],
      "execution_count": null,
      "outputs": [
        {
          "output_type": "stream",
          "text": [
            "Archive:  /content/drive/My Drive/Colab Notebooks/datasets/creditCardFraud.zip\n",
            "  inflating: creditcard.csv          \n"
          ],
          "name": "stdout"
        }
      ]
    },
    {
      "cell_type": "code",
      "metadata": {
        "colab": {
          "base_uri": "https://localhost:8080/"
        },
        "id": "pVinrCfxMEFl",
        "outputId": "356bdcde-3b8d-44f3-cd45-c71dc7a99109"
      },
      "source": [
        "!ls -l"
      ],
      "execution_count": null,
      "outputs": [
        {
          "output_type": "stream",
          "text": [
            "total 147304\n",
            "-rw-r--r-- 1 root root 150828752 Sep 20  2019 creditcard.csv\n",
            "drwx------ 5 root root      4096 Mar  9 04:33 drive\n",
            "drwxr-xr-x 1 root root      4096 Mar  5 14:37 sample_data\n"
          ],
          "name": "stdout"
        }
      ]
    },
    {
      "cell_type": "markdown",
      "metadata": {
        "id": "h8si40H1MFcu"
      },
      "source": [
        "> 2) 데이터 읽어오기\r\n",
        "* pandas DataFrame"
      ]
    },
    {
      "cell_type": "code",
      "metadata": {
        "colab": {
          "base_uri": "https://localhost:8080/"
        },
        "id": "oaZpkCQcMIU2",
        "outputId": "2ddb7b99-e6d6-4f13-9cdd-7de06d810c28"
      },
      "source": [
        "%%time\r\n",
        "\r\n",
        "DF = pd.read_csv('creditcard.csv')\r\n",
        "\r\n",
        "DF.info()"
      ],
      "execution_count": null,
      "outputs": [
        {
          "output_type": "stream",
          "text": [
            "<class 'pandas.core.frame.DataFrame'>\n",
            "RangeIndex: 284807 entries, 0 to 284806\n",
            "Data columns (total 31 columns):\n",
            " #   Column  Non-Null Count   Dtype  \n",
            "---  ------  --------------   -----  \n",
            " 0   Time    284807 non-null  float64\n",
            " 1   V1      284807 non-null  float64\n",
            " 2   V2      284807 non-null  float64\n",
            " 3   V3      284807 non-null  float64\n",
            " 4   V4      284807 non-null  float64\n",
            " 5   V5      284807 non-null  float64\n",
            " 6   V6      284807 non-null  float64\n",
            " 7   V7      284807 non-null  float64\n",
            " 8   V8      284807 non-null  float64\n",
            " 9   V9      284807 non-null  float64\n",
            " 10  V10     284807 non-null  float64\n",
            " 11  V11     284807 non-null  float64\n",
            " 12  V12     284807 non-null  float64\n",
            " 13  V13     284807 non-null  float64\n",
            " 14  V14     284807 non-null  float64\n",
            " 15  V15     284807 non-null  float64\n",
            " 16  V16     284807 non-null  float64\n",
            " 17  V17     284807 non-null  float64\n",
            " 18  V18     284807 non-null  float64\n",
            " 19  V19     284807 non-null  float64\n",
            " 20  V20     284807 non-null  float64\n",
            " 21  V21     284807 non-null  float64\n",
            " 22  V22     284807 non-null  float64\n",
            " 23  V23     284807 non-null  float64\n",
            " 24  V24     284807 non-null  float64\n",
            " 25  V25     284807 non-null  float64\n",
            " 26  V26     284807 non-null  float64\n",
            " 27  V27     284807 non-null  float64\n",
            " 28  V28     284807 non-null  float64\n",
            " 29  Amount  284807 non-null  float64\n",
            " 30  Class   284807 non-null  int64  \n",
            "dtypes: float64(30), int64(1)\n",
            "memory usage: 67.4 MB\n",
            "CPU times: user 1.8 s, sys: 98.7 ms, total: 1.9 s\n",
            "Wall time: 1.92 s\n"
          ],
          "name": "stdout"
        }
      ]
    },
    {
      "cell_type": "code",
      "metadata": {
        "colab": {
          "base_uri": "https://localhost:8080/",
          "height": 214
        },
        "id": "uAE4Lrb5MO9X",
        "outputId": "2b71a5aa-9d9b-4f69-8c25-ba128a86ab5d"
      },
      "source": [
        "DF.head()\r\n",
        "#표준화 값(Normalization)"
      ],
      "execution_count": null,
      "outputs": [
        {
          "output_type": "execute_result",
          "data": {
            "text/html": [
              "<div>\n",
              "<style scoped>\n",
              "    .dataframe tbody tr th:only-of-type {\n",
              "        vertical-align: middle;\n",
              "    }\n",
              "\n",
              "    .dataframe tbody tr th {\n",
              "        vertical-align: top;\n",
              "    }\n",
              "\n",
              "    .dataframe thead th {\n",
              "        text-align: right;\n",
              "    }\n",
              "</style>\n",
              "<table border=\"1\" class=\"dataframe\">\n",
              "  <thead>\n",
              "    <tr style=\"text-align: right;\">\n",
              "      <th></th>\n",
              "      <th>Time</th>\n",
              "      <th>V1</th>\n",
              "      <th>V2</th>\n",
              "      <th>V3</th>\n",
              "      <th>V4</th>\n",
              "      <th>V5</th>\n",
              "      <th>V6</th>\n",
              "      <th>V7</th>\n",
              "      <th>V8</th>\n",
              "      <th>V9</th>\n",
              "      <th>V10</th>\n",
              "      <th>V11</th>\n",
              "      <th>V12</th>\n",
              "      <th>V13</th>\n",
              "      <th>V14</th>\n",
              "      <th>V15</th>\n",
              "      <th>V16</th>\n",
              "      <th>V17</th>\n",
              "      <th>V18</th>\n",
              "      <th>V19</th>\n",
              "      <th>V20</th>\n",
              "      <th>V21</th>\n",
              "      <th>V22</th>\n",
              "      <th>V23</th>\n",
              "      <th>V24</th>\n",
              "      <th>V25</th>\n",
              "      <th>V26</th>\n",
              "      <th>V27</th>\n",
              "      <th>V28</th>\n",
              "      <th>Amount</th>\n",
              "      <th>Class</th>\n",
              "    </tr>\n",
              "  </thead>\n",
              "  <tbody>\n",
              "    <tr>\n",
              "      <th>0</th>\n",
              "      <td>0.0</td>\n",
              "      <td>-1.359807</td>\n",
              "      <td>-0.072781</td>\n",
              "      <td>2.536347</td>\n",
              "      <td>1.378155</td>\n",
              "      <td>-0.338321</td>\n",
              "      <td>0.462388</td>\n",
              "      <td>0.239599</td>\n",
              "      <td>0.098698</td>\n",
              "      <td>0.363787</td>\n",
              "      <td>0.090794</td>\n",
              "      <td>-0.551600</td>\n",
              "      <td>-0.617801</td>\n",
              "      <td>-0.991390</td>\n",
              "      <td>-0.311169</td>\n",
              "      <td>1.468177</td>\n",
              "      <td>-0.470401</td>\n",
              "      <td>0.207971</td>\n",
              "      <td>0.025791</td>\n",
              "      <td>0.403993</td>\n",
              "      <td>0.251412</td>\n",
              "      <td>-0.018307</td>\n",
              "      <td>0.277838</td>\n",
              "      <td>-0.110474</td>\n",
              "      <td>0.066928</td>\n",
              "      <td>0.128539</td>\n",
              "      <td>-0.189115</td>\n",
              "      <td>0.133558</td>\n",
              "      <td>-0.021053</td>\n",
              "      <td>149.62</td>\n",
              "      <td>0</td>\n",
              "    </tr>\n",
              "    <tr>\n",
              "      <th>1</th>\n",
              "      <td>0.0</td>\n",
              "      <td>1.191857</td>\n",
              "      <td>0.266151</td>\n",
              "      <td>0.166480</td>\n",
              "      <td>0.448154</td>\n",
              "      <td>0.060018</td>\n",
              "      <td>-0.082361</td>\n",
              "      <td>-0.078803</td>\n",
              "      <td>0.085102</td>\n",
              "      <td>-0.255425</td>\n",
              "      <td>-0.166974</td>\n",
              "      <td>1.612727</td>\n",
              "      <td>1.065235</td>\n",
              "      <td>0.489095</td>\n",
              "      <td>-0.143772</td>\n",
              "      <td>0.635558</td>\n",
              "      <td>0.463917</td>\n",
              "      <td>-0.114805</td>\n",
              "      <td>-0.183361</td>\n",
              "      <td>-0.145783</td>\n",
              "      <td>-0.069083</td>\n",
              "      <td>-0.225775</td>\n",
              "      <td>-0.638672</td>\n",
              "      <td>0.101288</td>\n",
              "      <td>-0.339846</td>\n",
              "      <td>0.167170</td>\n",
              "      <td>0.125895</td>\n",
              "      <td>-0.008983</td>\n",
              "      <td>0.014724</td>\n",
              "      <td>2.69</td>\n",
              "      <td>0</td>\n",
              "    </tr>\n",
              "    <tr>\n",
              "      <th>2</th>\n",
              "      <td>1.0</td>\n",
              "      <td>-1.358354</td>\n",
              "      <td>-1.340163</td>\n",
              "      <td>1.773209</td>\n",
              "      <td>0.379780</td>\n",
              "      <td>-0.503198</td>\n",
              "      <td>1.800499</td>\n",
              "      <td>0.791461</td>\n",
              "      <td>0.247676</td>\n",
              "      <td>-1.514654</td>\n",
              "      <td>0.207643</td>\n",
              "      <td>0.624501</td>\n",
              "      <td>0.066084</td>\n",
              "      <td>0.717293</td>\n",
              "      <td>-0.165946</td>\n",
              "      <td>2.345865</td>\n",
              "      <td>-2.890083</td>\n",
              "      <td>1.109969</td>\n",
              "      <td>-0.121359</td>\n",
              "      <td>-2.261857</td>\n",
              "      <td>0.524980</td>\n",
              "      <td>0.247998</td>\n",
              "      <td>0.771679</td>\n",
              "      <td>0.909412</td>\n",
              "      <td>-0.689281</td>\n",
              "      <td>-0.327642</td>\n",
              "      <td>-0.139097</td>\n",
              "      <td>-0.055353</td>\n",
              "      <td>-0.059752</td>\n",
              "      <td>378.66</td>\n",
              "      <td>0</td>\n",
              "    </tr>\n",
              "    <tr>\n",
              "      <th>3</th>\n",
              "      <td>1.0</td>\n",
              "      <td>-0.966272</td>\n",
              "      <td>-0.185226</td>\n",
              "      <td>1.792993</td>\n",
              "      <td>-0.863291</td>\n",
              "      <td>-0.010309</td>\n",
              "      <td>1.247203</td>\n",
              "      <td>0.237609</td>\n",
              "      <td>0.377436</td>\n",
              "      <td>-1.387024</td>\n",
              "      <td>-0.054952</td>\n",
              "      <td>-0.226487</td>\n",
              "      <td>0.178228</td>\n",
              "      <td>0.507757</td>\n",
              "      <td>-0.287924</td>\n",
              "      <td>-0.631418</td>\n",
              "      <td>-1.059647</td>\n",
              "      <td>-0.684093</td>\n",
              "      <td>1.965775</td>\n",
              "      <td>-1.232622</td>\n",
              "      <td>-0.208038</td>\n",
              "      <td>-0.108300</td>\n",
              "      <td>0.005274</td>\n",
              "      <td>-0.190321</td>\n",
              "      <td>-1.175575</td>\n",
              "      <td>0.647376</td>\n",
              "      <td>-0.221929</td>\n",
              "      <td>0.062723</td>\n",
              "      <td>0.061458</td>\n",
              "      <td>123.50</td>\n",
              "      <td>0</td>\n",
              "    </tr>\n",
              "    <tr>\n",
              "      <th>4</th>\n",
              "      <td>2.0</td>\n",
              "      <td>-1.158233</td>\n",
              "      <td>0.877737</td>\n",
              "      <td>1.548718</td>\n",
              "      <td>0.403034</td>\n",
              "      <td>-0.407193</td>\n",
              "      <td>0.095921</td>\n",
              "      <td>0.592941</td>\n",
              "      <td>-0.270533</td>\n",
              "      <td>0.817739</td>\n",
              "      <td>0.753074</td>\n",
              "      <td>-0.822843</td>\n",
              "      <td>0.538196</td>\n",
              "      <td>1.345852</td>\n",
              "      <td>-1.119670</td>\n",
              "      <td>0.175121</td>\n",
              "      <td>-0.451449</td>\n",
              "      <td>-0.237033</td>\n",
              "      <td>-0.038195</td>\n",
              "      <td>0.803487</td>\n",
              "      <td>0.408542</td>\n",
              "      <td>-0.009431</td>\n",
              "      <td>0.798278</td>\n",
              "      <td>-0.137458</td>\n",
              "      <td>0.141267</td>\n",
              "      <td>-0.206010</td>\n",
              "      <td>0.502292</td>\n",
              "      <td>0.219422</td>\n",
              "      <td>0.215153</td>\n",
              "      <td>69.99</td>\n",
              "      <td>0</td>\n",
              "    </tr>\n",
              "  </tbody>\n",
              "</table>\n",
              "</div>"
            ],
            "text/plain": [
              "   Time        V1        V2        V3  ...       V27       V28  Amount  Class\n",
              "0   0.0 -1.359807 -0.072781  2.536347  ...  0.133558 -0.021053  149.62      0\n",
              "1   0.0  1.191857  0.266151  0.166480  ... -0.008983  0.014724    2.69      0\n",
              "2   1.0 -1.358354 -1.340163  1.773209  ... -0.055353 -0.059752  378.66      0\n",
              "3   1.0 -0.966272 -0.185226  1.792993  ...  0.062723  0.061458  123.50      0\n",
              "4   2.0 -1.158233  0.877737  1.548718  ...  0.219422  0.215153   69.99      0\n",
              "\n",
              "[5 rows x 31 columns]"
            ]
          },
          "metadata": {
            "tags": []
          },
          "execution_count": 12
        }
      ]
    },
    {
      "cell_type": "markdown",
      "metadata": {
        "id": "ZmEmzkf4M-Ld"
      },
      "source": [
        "> * 0(정상) Class와 1(사기) Class 개수"
      ]
    },
    {
      "cell_type": "code",
      "metadata": {
        "colab": {
          "base_uri": "https://localhost:8080/"
        },
        "id": "_sPeiDxMMQHS",
        "outputId": "66064877-a6d9-448c-b073-a20b5edf4d90"
      },
      "source": [
        "DF.Class.value_counts()"
      ],
      "execution_count": null,
      "outputs": [
        {
          "output_type": "execute_result",
          "data": {
            "text/plain": [
              "0    284315\n",
              "1       492\n",
              "Name: Class, dtype: int64"
            ]
          },
          "metadata": {
            "tags": []
          },
          "execution_count": 13
        }
      ]
    },
    {
      "cell_type": "markdown",
      "metadata": {
        "id": "XA5BIrwUNC7n"
      },
      "source": [
        "> * 0(정상) Class와 1(사기) Class 비율"
      ]
    },
    {
      "cell_type": "code",
      "metadata": {
        "colab": {
          "base_uri": "https://localhost:8080/"
        },
        "id": "MCd4k74QNIBq",
        "outputId": "f36dcd5c-3cbd-474c-90b9-4b70e90e5164"
      },
      "source": [
        "(DF.Class.value_counts() / DF.shape[0] * 100)"
      ],
      "execution_count": null,
      "outputs": [
        {
          "output_type": "execute_result",
          "data": {
            "text/plain": [
              "0    99.827251\n",
              "1     0.172749\n",
              "Name: Class, dtype: float64"
            ]
          },
          "metadata": {
            "tags": []
          },
          "execution_count": 14
        }
      ]
    },
    {
      "cell_type": "markdown",
      "metadata": {
        "id": "O5BX7Bd3NOI1"
      },
      "source": [
        "> 3) Time 열(Column) 삭제"
      ]
    },
    {
      "cell_type": "code",
      "metadata": {
        "colab": {
          "base_uri": "https://localhost:8080/",
          "height": 96
        },
        "id": "tOKSBzSHNQUY",
        "outputId": "72265ac3-c6c5-460c-d4a8-048cd4ba8181"
      },
      "source": [
        "DF.drop('Time', axis = 1, inplace = True)\r\n",
        "\r\n",
        "DF.head(1)"
      ],
      "execution_count": null,
      "outputs": [
        {
          "output_type": "execute_result",
          "data": {
            "text/html": [
              "<div>\n",
              "<style scoped>\n",
              "    .dataframe tbody tr th:only-of-type {\n",
              "        vertical-align: middle;\n",
              "    }\n",
              "\n",
              "    .dataframe tbody tr th {\n",
              "        vertical-align: top;\n",
              "    }\n",
              "\n",
              "    .dataframe thead th {\n",
              "        text-align: right;\n",
              "    }\n",
              "</style>\n",
              "<table border=\"1\" class=\"dataframe\">\n",
              "  <thead>\n",
              "    <tr style=\"text-align: right;\">\n",
              "      <th></th>\n",
              "      <th>V1</th>\n",
              "      <th>V2</th>\n",
              "      <th>V3</th>\n",
              "      <th>V4</th>\n",
              "      <th>V5</th>\n",
              "      <th>V6</th>\n",
              "      <th>V7</th>\n",
              "      <th>V8</th>\n",
              "      <th>V9</th>\n",
              "      <th>V10</th>\n",
              "      <th>V11</th>\n",
              "      <th>V12</th>\n",
              "      <th>V13</th>\n",
              "      <th>V14</th>\n",
              "      <th>V15</th>\n",
              "      <th>V16</th>\n",
              "      <th>V17</th>\n",
              "      <th>V18</th>\n",
              "      <th>V19</th>\n",
              "      <th>V20</th>\n",
              "      <th>V21</th>\n",
              "      <th>V22</th>\n",
              "      <th>V23</th>\n",
              "      <th>V24</th>\n",
              "      <th>V25</th>\n",
              "      <th>V26</th>\n",
              "      <th>V27</th>\n",
              "      <th>V28</th>\n",
              "      <th>Amount</th>\n",
              "      <th>Class</th>\n",
              "    </tr>\n",
              "  </thead>\n",
              "  <tbody>\n",
              "    <tr>\n",
              "      <th>0</th>\n",
              "      <td>-1.359807</td>\n",
              "      <td>-0.072781</td>\n",
              "      <td>2.536347</td>\n",
              "      <td>1.378155</td>\n",
              "      <td>-0.338321</td>\n",
              "      <td>0.462388</td>\n",
              "      <td>0.239599</td>\n",
              "      <td>0.098698</td>\n",
              "      <td>0.363787</td>\n",
              "      <td>0.090794</td>\n",
              "      <td>-0.5516</td>\n",
              "      <td>-0.617801</td>\n",
              "      <td>-0.99139</td>\n",
              "      <td>-0.311169</td>\n",
              "      <td>1.468177</td>\n",
              "      <td>-0.470401</td>\n",
              "      <td>0.207971</td>\n",
              "      <td>0.025791</td>\n",
              "      <td>0.403993</td>\n",
              "      <td>0.251412</td>\n",
              "      <td>-0.018307</td>\n",
              "      <td>0.277838</td>\n",
              "      <td>-0.110474</td>\n",
              "      <td>0.066928</td>\n",
              "      <td>0.128539</td>\n",
              "      <td>-0.189115</td>\n",
              "      <td>0.133558</td>\n",
              "      <td>-0.021053</td>\n",
              "      <td>149.62</td>\n",
              "      <td>0</td>\n",
              "    </tr>\n",
              "  </tbody>\n",
              "</table>\n",
              "</div>"
            ],
            "text/plain": [
              "         V1        V2        V3        V4  ...       V27       V28  Amount  Class\n",
              "0 -1.359807 -0.072781  2.536347  1.378155  ...  0.133558 -0.021053  149.62      0\n",
              "\n",
              "[1 rows x 30 columns]"
            ]
          },
          "metadata": {
            "tags": []
          },
          "execution_count": 15
        }
      ]
    },
    {
      "cell_type": "markdown",
      "metadata": {
        "id": "gx1BfUHwUfQI"
      },
      "source": [
        "> 4) train_test_split\r\n",
        "* X(Input), y(Output) 지정"
      ]
    },
    {
      "cell_type": "code",
      "metadata": {
        "colab": {
          "base_uri": "https://localhost:8080/"
        },
        "id": "uDLz7K4CRa8m",
        "outputId": "e49e7102-42b6-4477-b2e6-16eed51d20b4"
      },
      "source": [
        "X = DF.iloc[:,:-1]\r\n",
        "y = DF.iloc[:,-1]\r\n",
        "\r\n",
        "X.shape, y.shape"
      ],
      "execution_count": null,
      "outputs": [
        {
          "output_type": "execute_result",
          "data": {
            "text/plain": [
              "((284807, 29), (284807,))"
            ]
          },
          "metadata": {
            "tags": []
          },
          "execution_count": 16
        }
      ]
    },
    {
      "cell_type": "markdown",
      "metadata": {
        "id": "YOcozNWbVRTQ"
      },
      "source": [
        "> (1) Without 'stratify'"
      ]
    },
    {
      "cell_type": "code",
      "metadata": {
        "colab": {
          "base_uri": "https://localhost:8080/"
        },
        "id": "zt4YSHlUVQOI",
        "outputId": "17a1246c-0a79-4132-f1c9-26e94190338e"
      },
      "source": [
        "X_train, X_test, y_train, y_test = train_test_split(X,y,\r\n",
        "                                                    test_size = 0.3,\r\n",
        "                                                    random_state = 2045)\r\n",
        "\r\n",
        "X_train.shape, y_train.shape, X_test.shape, y_test.shape"
      ],
      "execution_count": null,
      "outputs": [
        {
          "output_type": "execute_result",
          "data": {
            "text/plain": [
              "((199364, 29), (199364,), (85443, 29), (85443,))"
            ]
          },
          "metadata": {
            "tags": []
          },
          "execution_count": 17
        }
      ]
    },
    {
      "cell_type": "markdown",
      "metadata": {
        "id": "Y5lomeEUVnXH"
      },
      "source": [
        "> * Train_Data 와 Test_Data의 1(부정) 비율이 불균형"
      ]
    },
    {
      "cell_type": "code",
      "metadata": {
        "colab": {
          "base_uri": "https://localhost:8080/"
        },
        "id": "2TbY2HQkVlVB",
        "outputId": "f8eb0672-806d-4f63-99a3-2d93b596b0c6"
      },
      "source": [
        "print('Train_Data : ', '\\n', (y_train.value_counts() / y_train.shape[0]) * 100)\r\n",
        "print('Test_Data : ', '\\n', (y_test.value_counts() / y_test.shape[0]) * 100)"
      ],
      "execution_count": null,
      "outputs": [
        {
          "output_type": "stream",
          "text": [
            "Train_Data :  \n",
            " 0    99.825445\n",
            "1     0.174555\n",
            "Name: Class, dtype: float64\n",
            "Test_Data :  \n",
            " 0    99.831467\n",
            "1     0.168533\n",
            "Name: Class, dtype: float64\n"
          ],
          "name": "stdout"
        }
      ]
    },
    {
      "cell_type": "markdown",
      "metadata": {
        "id": "A22cCmf4V769"
      },
      "source": [
        "> (2) With 'Stratify'"
      ]
    },
    {
      "cell_type": "code",
      "metadata": {
        "colab": {
          "base_uri": "https://localhost:8080/"
        },
        "id": "dOQv5BooV6d5",
        "outputId": "2c55c2fe-d2de-4874-b583-5346597ed991"
      },
      "source": [
        "X_train, X_test, y_train, y_test = train_test_split(X,y,\r\n",
        "                                                    test_size = 0.3,\r\n",
        "                                                    stratify = y,\r\n",
        "                                                    random_state = 2045)\r\n",
        "\r\n",
        "X_train.shape, y_train.shape, X_test.shape, y_test.shape"
      ],
      "execution_count": null,
      "outputs": [
        {
          "output_type": "execute_result",
          "data": {
            "text/plain": [
              "((199364, 29), (199364,), (85443, 29), (85443,))"
            ]
          },
          "metadata": {
            "tags": []
          },
          "execution_count": 19
        }
      ]
    },
    {
      "cell_type": "markdown",
      "metadata": {
        "id": "2f2zyjcoWFlY"
      },
      "source": [
        "> * Train_Data와 Test_Data의 1(부정) 비율이 균형"
      ]
    },
    {
      "cell_type": "code",
      "metadata": {
        "colab": {
          "base_uri": "https://localhost:8080/"
        },
        "id": "HZaToezKWEcC",
        "outputId": "664329e9-c7ef-454c-e0f7-ae1d30caea8a"
      },
      "source": [
        "print('Train_Data : ', '\\n', (y_train.value_counts() / y_train.shape[0]) * 100)\r\n",
        "print('Test_Data : ', '\\n', (y_test.value_counts() / y_test.shape[0]) * 100)"
      ],
      "execution_count": null,
      "outputs": [
        {
          "output_type": "stream",
          "text": [
            "Train_Data :  \n",
            " 0    99.827451\n",
            "1     0.172549\n",
            "Name: Class, dtype: float64\n",
            "Test_Data :  \n",
            " 0    99.826785\n",
            "1     0.173215\n",
            "Name: Class, dtype: float64\n"
          ],
          "name": "stdout"
        }
      ]
    },
    {
      "cell_type": "markdown",
      "metadata": {
        "id": "8HdeyPrBWQ7Z"
      },
      "source": [
        "## 3.Modeling"
      ]
    },
    {
      "cell_type": "markdown",
      "metadata": {
        "id": "cLtcukdJaQeP"
      },
      "source": [
        "### 1.Logistic Regression"
      ]
    },
    {
      "cell_type": "code",
      "metadata": {
        "colab": {
          "base_uri": "https://localhost:8080/"
        },
        "id": "jU7-I8SnWPpy",
        "outputId": "749c69cd-607b-4379-d494-7ed2f04374c7"
      },
      "source": [
        "%%time\r\n",
        "\r\n",
        "LR = LogisticRegression(C = 0.5, #0.5 정도에서 recall이 높음\r\n",
        "                        penalty = 'l2', #l1, none 보다 l2가 recall이 높음\r\n",
        "                        multi_class = 'multinomial',\r\n",
        "                        n_jobs = -1)\r\n",
        "\r\n",
        "LR.fit(X_train, y_train)"
      ],
      "execution_count": null,
      "outputs": [
        {
          "output_type": "stream",
          "text": [
            "CPU times: user 80.8 ms, sys: 63.9 ms, total: 145 ms\n",
            "Wall time: 9.8 s\n"
          ],
          "name": "stdout"
        }
      ]
    },
    {
      "cell_type": "code",
      "metadata": {
        "colab": {
          "base_uri": "https://localhost:8080/"
        },
        "id": "ALyR_fJHalq5",
        "outputId": "43570472-17d9-467d-c9ca-4128442f103d"
      },
      "source": [
        "# 예측결과 : p => 사기(1)  n => 정상(0)\r\n",
        "\r\n",
        "print(accuracy_score(y_test, LR.predict(X_test)), '\\n')\r\n",
        "print(recall_score(y_test, LR.predict(X_test)), '\\n') #사기인데 사기로 탐지못함 => 36\r\n",
        "print(confusion_matrix(y_test, LR.predict(X_test),labels = [1,0]))"
      ],
      "execution_count": null,
      "outputs": [
        {
          "output_type": "stream",
          "text": [
            "0.9993797034280163 \n",
            "\n",
            "0.7567567567567568 \n",
            "\n",
            "[[  112    36]\n",
            " [   17 85278]]\n"
          ],
          "name": "stdout"
        }
      ]
    },
    {
      "cell_type": "markdown",
      "metadata": {
        "id": "FYRan48Zavqm"
      },
      "source": [
        "### 2.Decision Tree Classifier"
      ]
    },
    {
      "cell_type": "code",
      "metadata": {
        "colab": {
          "base_uri": "https://localhost:8080/"
        },
        "id": "2SSr_5WhauMj",
        "outputId": "a05e098f-dafd-4d36-dcbf-607089fdee33"
      },
      "source": [
        "%%time\r\n",
        "\r\n",
        "DT = DecisionTreeClassifier(criterion = 'entropy',\r\n",
        "                            max_depth = 3, #1~13까지 중에서 3이 오류갯수가 제일 낮음\r\n",
        "                            random_state = 2045)\r\n",
        "\r\n",
        "DT.fit(X_train, y_train)"
      ],
      "execution_count": null,
      "outputs": [
        {
          "output_type": "stream",
          "text": [
            "CPU times: user 4.77 s, sys: 2.02 ms, total: 4.78 s\n",
            "Wall time: 4.77 s\n"
          ],
          "name": "stdout"
        }
      ]
    },
    {
      "cell_type": "code",
      "metadata": {
        "colab": {
          "base_uri": "https://localhost:8080/"
        },
        "id": "neM-hrZma1mY",
        "outputId": "7cb7ee22-ee01-489c-929b-d175711d8428"
      },
      "source": [
        "print(accuracy_score(y_test, DT.predict(X_test)), '\\n')\r\n",
        "print(recall_score(y_test, DT.predict(X_test)), '\\n')\r\n",
        "print(confusion_matrix(y_test, DT.predict(X_test),labels = [1,0]))\r\n",
        "print('\\n', DT.feature_importances_)"
      ],
      "execution_count": null,
      "outputs": [
        {
          "output_type": "stream",
          "text": [
            "0.9992977774656788 \n",
            "\n",
            "0.8445945945945946 \n",
            "\n",
            "[[  125    23]\n",
            " [   37 85258]]\n",
            "\n",
            " [0.         0.         0.         0.         0.         0.\n",
            " 0.         0.         0.         0.12044766 0.         0.\n",
            " 0.         0.75854109 0.         0.         0.12101125 0.\n",
            " 0.         0.         0.         0.         0.         0.\n",
            " 0.         0.         0.         0.         0.        ]\n"
          ],
          "name": "stdout"
        }
      ]
    },
    {
      "cell_type": "code",
      "metadata": {
        "colab": {
          "base_uri": "https://localhost:8080/",
          "height": 374
        },
        "id": "Sbak7M1hbotz",
        "outputId": "fcbff6b9-0bed-442f-dd89-083a9d6c8d80"
      },
      "source": [
        "plt.figure(figsize = (9,6))\r\n",
        "sns.barplot(DT.feature_importances_,\r\n",
        "            ['V1','V2','V3','V4','V5','V6','V7','V8','V9','V10','V11','V12','V13','V14','V15','V16','V17','V18','V19','V20','V21','V22','V23','V24','V25','V26','V27','V28','Amount'])\r\n",
        "plt.show()"
      ],
      "execution_count": null,
      "outputs": [
        {
          "output_type": "display_data",
          "data": {
            "image/png": "[encoded data removed]",
            "text/plain": [
              "<Figure size 648x432 with 1 Axes>"
            ]
          },
          "metadata": {
            "tags": [],
            "needs_background": "light"
          }
        }
      ]
    },
    {
      "cell_type": "markdown",
      "metadata": {
        "id": "WixrbAf8bVNh"
      },
      "source": [
        "### 3.Random Forest Classifier"
      ]
    },
    {
      "cell_type": "code",
      "metadata": {
        "id": "bnpxphAEa3uL"
      },
      "source": [
        "%%time\r\n",
        "\r\n",
        "#시간이 없어서 일단 중단......\r\n",
        "#hyperparameter tuning\r\n",
        "RF = RandomForestClassifier()\r\n",
        "\r\n",
        "params = {'n_estimators' : [100,300],\r\n",
        "          'max_features' : [3,4,5],\r\n",
        "          'max_depth' : [3,4,5],\r\n",
        "          'random_state' : [2045]}\r\n",
        "\r\n",
        "CV = GridSearchCV(RF,\r\n",
        "                     param_grid = params,\r\n",
        "                     scoring = 'recall',\r\n",
        "                     cv = KFold(n_splits = 5, random_state = 2045),\r\n",
        "                     refit = True,\r\n",
        "                     n_jobs = -1)\r\n",
        "\r\n",
        "CV.fit(X_train, y_train)\r\n",
        "RF_CV = CV.best_estimator_\r\n",
        "print(CV.best_estimator_)"
      ],
      "execution_count": null,
      "outputs": []
    },
    {
      "cell_type": "code",
      "metadata": {
        "id": "kmP4hly1bb9b"
      },
      "source": [
        "print(accuracy_score(y_test, RF_CV.predict(X_test)), '\\n')\r\n",
        "print(recall_score(y_test, RF_CV.predict(X_test)), '\\n')\r\n",
        "print(confusion_matrix(y_test, RF_CV.predict(X_test),labels = [1,0]))\r\n",
        "print('\\n', RF_CV.feature_importances_)"
      ],
      "execution_count": null,
      "outputs": []
    },
    {
      "cell_type": "code",
      "metadata": {
        "id": "xP0k5E87besY"
      },
      "source": [
        "plt.figure(figsize = (9,6))\r\n",
        "sns.barplot(RF.feature_importances_,\r\n",
        "            ['V1','V2','V3','V4','V5','V6','V7','V8','V9','V10','V11','V12','V13','V14','V15','V16','V17','V18','V19','V20','V21','V22','V23','V24','V25','V26','V27','V28','Amount'])\r\n",
        "plt.show()"
      ],
      "execution_count": null,
      "outputs": []
    },
    {
      "cell_type": "markdown",
      "metadata": {
        "id": "fz1qB4XIcvOi"
      },
      "source": [
        "### 4.Gradient Boosting Machine(GBM) Classifier"
      ]
    },
    {
      "cell_type": "code",
      "metadata": {
        "id": "l1bRKUt0ctQr"
      },
      "source": [
        "%%time\r\n",
        "\r\n",
        "GBC = GradientBoostingClassifier(loss = 'deviance',\r\n",
        "                                 n_estimators = 500,# 오래걸려서 나중에 변경\r\n",
        "                                 learning_rate = 0.01,\r\n",
        "                                 max_features = 3,\r\n",
        "                                 max_depth = 3)\r\n",
        "\r\n",
        "GBC.fit(X_train, y_train)"
      ],
      "execution_count": null,
      "outputs": []
    },
    {
      "cell_type": "code",
      "metadata": {
        "id": "VONytIsYc3Jx"
      },
      "source": [
        "print(accuracy_score(y_test, GBC.predict(X_test)), '\\n')\r\n",
        "print(recall_score(y_test, GBC.predict(X_test)), '\\n')\r\n",
        "print(confusion_matrix(y_test, GBC.predict(X_test),labels = [1,0]))\r\n",
        "print('\\n',GBC.feature_importances_)"
      ],
      "execution_count": null,
      "outputs": []
    },
    {
      "cell_type": "code",
      "metadata": {
        "id": "dw6GyLNcc9zj"
      },
      "source": [
        "plt.figure(figsize = (9,6))\r\n",
        "sns.barplot(GBC.feature_importances_,\r\n",
        "            ['V1','V2','V3','V4','V5','V6','V7','V8','V9','V10','V11','V12','V13','V14','V15','V16','V17','V18','V19','V20','V21','V22','V23','V24','V25','V26','V27','V28','Amount'])\r\n",
        "plt.show()"
      ],
      "execution_count": null,
      "outputs": []
    },
    {
      "cell_type": "markdown",
      "metadata": {
        "id": "3kKmy3kWc9Kf"
      },
      "source": [
        "### 5.Adaptive Boosting Classifier"
      ]
    },
    {
      "cell_type": "code",
      "metadata": {
        "colab": {
          "base_uri": "https://localhost:8080/"
        },
        "id": "gtOXKZNPdMPi",
        "outputId": "c156c844-5359-4866-bc77-ca763d4928c2"
      },
      "source": [
        "%%time\r\n",
        "\r\n",
        "ABC = AdaBoostClassifier(n_estimators = 100, #오래걸려서 나중에 변경\r\n",
        "                         learning_rate = 0.001,\r\n",
        "                         random_state = 2045)\r\n",
        "\r\n",
        "ABC.fit(X_train, y_train)"
      ],
      "execution_count": null,
      "outputs": [
        {
          "output_type": "stream",
          "text": [
            "CPU times: user 1min 58s, sys: 218 ms, total: 1min 58s\n",
            "Wall time: 1min 58s\n"
          ],
          "name": "stdout"
        }
      ]
    },
    {
      "cell_type": "code",
      "metadata": {
        "colab": {
          "base_uri": "https://localhost:8080/"
        },
        "id": "mXmdFXNudRcD",
        "outputId": "be9fcb47-56c3-4190-ab03-590146418cf9"
      },
      "source": [
        "print(accuracy_score(y_test, ABC.predict(X_test)), '\\n')\r\n",
        "print(recall_score(y_test, ABC.predict(X_test)), '\\n')\r\n",
        "print(confusion_matrix(y_test, ABC.predict(X_test),labels = [1,0]))\r\n",
        "print('\\n',ABC.feature_importances_)"
      ],
      "execution_count": null,
      "outputs": [
        {
          "output_type": "stream",
          "text": [
            "0.99916903666772 \n",
            "\n",
            "0.6351351351351351 \n",
            "\n",
            "[[   94    54]\n",
            " [   17 85278]]\n",
            "\n",
            " [0.   0.   0.   0.   0.   0.   0.   0.   0.   0.   0.   0.15 0.   0.\n",
            " 0.   0.   0.85 0.   0.   0.   0.   0.   0.   0.   0.   0.   0.   0.\n",
            " 0.  ]\n"
          ],
          "name": "stdout"
        }
      ]
    },
    {
      "cell_type": "code",
      "metadata": {
        "colab": {
          "base_uri": "https://localhost:8080/",
          "height": 374
        },
        "id": "M6saJVcbdSdq",
        "outputId": "ec143d91-a643-4e8d-d5de-eae593af480e"
      },
      "source": [
        "plt.figure(figsize = (9,6))\r\n",
        "sns.barplot(ABC.feature_importances_,\r\n",
        "            ['V1','V2','V3','V4','V5','V6','V7','V8','V9','V10','V11','V12','V13','V14','V15','V16','V17','V18','V19','V20','V21','V22','V23','V24','V25','V26','V27','V28','Amount'])\r\n",
        "plt.show()"
      ],
      "execution_count": null,
      "outputs": [
        {
          "output_type": "display_data",
          "data": {
            "image/png": "[encoded data removed]",
            "text/plain": [
              "<Figure size 648x432 with 1 Axes>"
            ]
          },
          "metadata": {
            "tags": [],
            "needs_background": "light"
          }
        }
      ]
    },
    {
      "cell_type": "markdown",
      "metadata": {
        "id": "dMdszL-EdX9s"
      },
      "source": [
        "### 6.eXtra Gradient Boost(XGBoost) Classifier"
      ]
    },
    {
      "cell_type": "code",
      "metadata": {
        "colab": {
          "base_uri": "https://localhost:8080/"
        },
        "id": "9e9R84Ewdj_V",
        "outputId": "16b37589-c846-48e8-86cf-c56e3e580baf"
      },
      "source": [
        "%%time\r\n",
        "\r\n",
        "XGB = XGBClassifier(boosster = 'gbtree',\r\n",
        "                    n_estimators = 1000,\r\n",
        "                    learning_Rate = 0.5,\r\n",
        "                    reg_lambda = 0.05,\r\n",
        "                    n_jobs = -1)\r\n",
        "\r\n",
        "XGB.fit(X_train, y_train)"
      ],
      "execution_count": null,
      "outputs": [
        {
          "output_type": "stream",
          "text": [
            "CPU times: user 6min 11s, sys: 301 ms, total: 6min 12s\n",
            "Wall time: 3min 8s\n"
          ],
          "name": "stdout"
        }
      ]
    },
    {
      "cell_type": "code",
      "metadata": {
        "colab": {
          "base_uri": "https://localhost:8080/"
        },
        "id": "pt8DRa2Mddys",
        "outputId": "ccd217ae-fa9f-4e37-c95a-c0eee45215fe"
      },
      "source": [
        "print(accuracy_score(y_test, XGB.predict(X_test)), '\\n')\r\n",
        "print(recall_score(y_test, XGB.predict(X_test)), '\\n')\r\n",
        "print(confusion_matrix(y_test, XGB.predict(X_test),labels = [1,0]))\r\n",
        "print('\\n',XGB.feature_importances_)"
      ],
      "execution_count": null,
      "outputs": [
        {
          "output_type": "stream",
          "text": [
            "0.9995903701883126 \n",
            "\n",
            "0.831081081081081 \n",
            "\n",
            "[[85285    10]\n",
            " [   25   123]]\n",
            "[0.02137055 0.01803964 0.02181529 0.0368795  0.01938154 0.01427187\n",
            " 0.03985074 0.0239018  0.01522087 0.06282447 0.01123454 0.03801052\n",
            " 0.02500294 0.12001529 0.01372827 0.01966675 0.27176946 0.01538103\n",
            " 0.01867533 0.0259205  0.01964945 0.01270124 0.0098273  0.01461277\n",
            " 0.0147241  0.02427466 0.02466051 0.02184631 0.02474281]\n"
          ],
          "name": "stdout"
        }
      ]
    },
    {
      "cell_type": "code",
      "metadata": {
        "colab": {
          "base_uri": "https://localhost:8080/",
          "height": 374
        },
        "id": "4yNBwV_IdwAi",
        "outputId": "913adc49-5729-418f-d8de-04a0ba78b7f3"
      },
      "source": [
        "plt.figure(figsize = (9,6))\r\n",
        "sns.barplot(XGB.feature_importances_,\r\n",
        "            ['V1','V2','V3','V4','V5','V6','V7','V8','V9','V10','V11','V12','V13','V14','V15','V16','V17','V18','V19','V20','V21','V22','V23','V24','V25','V26','V27','V28','Amount'])\r\n",
        "plt.show()"
      ],
      "execution_count": null,
      "outputs": [
        {
          "output_type": "display_data",
          "data": {
            "image/png": "[encoded data removed]",
            "text/plain": [
              "<Figure size 648x432 with 1 Axes>"
            ]
          },
          "metadata": {
            "tags": [],
            "needs_background": "light"
          }
        }
      ]
    },
    {
      "cell_type": "markdown",
      "metadata": {
        "id": "WUu0twMdd27P"
      },
      "source": [
        "### 7.LightGBM Classifier"
      ]
    },
    {
      "cell_type": "code",
      "metadata": {
        "colab": {
          "base_uri": "https://localhost:8080/"
        },
        "id": "Z_Az8ZlYd6PH",
        "outputId": "75a8e7f2-4dd2-461e-a201-8b4c267eba79"
      },
      "source": [
        "%%time\r\n",
        "\r\n",
        "LGB = LGBMClassifier(n_estimators = 1000,\r\n",
        "                     max_depth = 4, #2,3,4,5중 recall높음\r\n",
        "                     learning_rate = 0.005,\r\n",
        "                     reg_lambda = 0.2,\r\n",
        "                     n_jobs = -1)\r\n",
        "\r\n",
        "LGB.fit(X_train, y_train)"
      ],
      "execution_count": null,
      "outputs": [
        {
          "output_type": "stream",
          "text": [
            "CPU times: user 49 s, sys: 137 ms, total: 49.1 s\n",
            "Wall time: 25.1 s\n"
          ],
          "name": "stdout"
        }
      ]
    },
    {
      "cell_type": "code",
      "metadata": {
        "colab": {
          "base_uri": "https://localhost:8080/"
        },
        "id": "EsjjfwqeeCPX",
        "outputId": "6de6f956-2014-401b-f3ad-914605f3afcd"
      },
      "source": [
        "print(accuracy_score(y_test, LGB.predict(X_test)), '\\n')\r\n",
        "print(recall_score(y_test, LGB.predict(X_test)), '\\n')\r\n",
        "print(confusion_matrix(y_test, LGB.predict(X_test),labels = [1,0]))\r\n",
        "print('\\n',LGB.feature_importances_)"
      ],
      "execution_count": null,
      "outputs": [
        {
          "output_type": "stream",
          "text": [
            "0.9995552590615966 \n",
            "\n",
            "0.8108108108108109 \n",
            "\n",
            "[[  120    28]\n",
            " [   10 85285]]\n",
            "\n",
            " [ 641  210  425 1185  294  293  796  507  157  499  461  471  401 1150\n",
            "  203  525  414  221  343  412  312  417  280  304  232  774  158  494\n",
            "  994]\n"
          ],
          "name": "stdout"
        }
      ]
    },
    {
      "cell_type": "code",
      "metadata": {
        "colab": {
          "base_uri": "https://localhost:8080/",
          "height": 374
        },
        "id": "Vq5AcicoeHS6",
        "outputId": "2b2f73fc-a32b-4e7c-a5ac-2ebe80203fa1"
      },
      "source": [
        "plt.figure(figsize = (9,6))\r\n",
        "sns.barplot(LGB.feature_importances_,\r\n",
        "            ['V1','V2','V3','V4','V5','V6','V7','V8','V9','V10','V11','V12','V13','V14','V15','V16','V17','V18','V19','V20','V21','V22','V23','V24','V25','V26','V27','V28','Amount'])\r\n",
        "plt.show()"
      ],
      "execution_count": null,
      "outputs": [
        {
          "output_type": "display_data",
          "data": {
            "image/png": "[encoded data removed]",
            "text/plain": [
              "<Figure size 648x432 with 1 Axes>"
            ]
          },
          "metadata": {
            "tags": [],
            "needs_background": "light"
          }
        }
      ]
    },
    {
      "cell_type": "markdown",
      "metadata": {
        "id": "JHgeUqUpeNRC"
      },
      "source": [
        "### 8.K-Nearest Neighbors Classifier"
      ]
    },
    {
      "cell_type": "code",
      "metadata": {
        "colab": {
          "base_uri": "https://localhost:8080/"
        },
        "id": "6M611t_4eSSK",
        "outputId": "1789846d-af58-4874-9dcc-f51dd599591f"
      },
      "source": [
        "%%time\r\n",
        "\r\n",
        "KNN = KNeighborsClassifier(n_neighbors = 5,#2,3,4,5,6 중 recall이 제일 높음\r\n",
        "                           n_jobs = -1)\r\n",
        "\r\n",
        "KNN.fit(X_train, y_train)"
      ],
      "execution_count": null,
      "outputs": [
        {
          "output_type": "stream",
          "text": [
            "CPU times: user 1.3 s, sys: 4.01 ms, total: 1.31 s\n",
            "Wall time: 1.31 s\n"
          ],
          "name": "stdout"
        }
      ]
    },
    {
      "cell_type": "code",
      "metadata": {
        "colab": {
          "base_uri": "https://localhost:8080/"
        },
        "id": "FIsmOlYdeVSY",
        "outputId": "7ca37c6f-7623-4ad4-ce2d-7b3f76a4bb4b"
      },
      "source": [
        "print(accuracy_score(y_test, KNN.predict(X_test)), '\\n')\r\n",
        "print(recall_score(y_test, KNN.predict(X_test)), '\\n')\r\n",
        "print(confusion_matrix(y_test, KNN.predict(X_test),labels = [1,0]))"
      ],
      "execution_count": null,
      "outputs": [
        {
          "output_type": "stream",
          "text": [
            "0.9993211848834895 \n",
            "\n",
            "0.6824324324324325 \n",
            "\n",
            "[[  101    47]\n",
            " [   11 85284]]\n"
          ],
          "name": "stdout"
        }
      ]
    },
    {
      "cell_type": "markdown",
      "metadata": {
        "id": "W088QT2uv-Mr"
      },
      "source": [
        "## 4.종합결과\r\n"
      ]
    },
    {
      "cell_type": "code",
      "metadata": {
        "colab": {
          "base_uri": "https://localhost:8080/",
          "height": 252
        },
        "id": "NXrB9UHKj3Zr",
        "outputId": "6f41241c-7740-417f-b95b-026779b2a0af"
      },
      "source": [
        "result = pd.DataFrame(data = {'Name' : ['LR','DT',\r\n",
        "                                        #'RF_CV',\r\n",
        "                                        'GBC','ABC','XGB','LGB','KNN'],\r\n",
        "                              'Accuracy' : [accuracy_score(y_test, LR.predict(X_test)),\r\n",
        "                                            accuracy_score(y_test, DT.predict(X_test)),\r\n",
        "                                            #accuracy_score(y_test, RF_CV.predict(X_test)),\r\n",
        "                                            accuracy_score(y_test, GBC.predict(X_test)),\r\n",
        "                                            accuracy_score(y_test, ABC.predict(X_test)),\r\n",
        "                                            accuracy_score(y_test, XGB.predict(X_test)),\r\n",
        "                                            accuracy_score(y_test, LGB.predict(X_test)),\r\n",
        "                                            accuracy_score(y_test, KNN.predict(X_test))],\r\n",
        "                              'Recall' : [recall_score(y_test, LR.predict(X_test)),\r\n",
        "                                            recall_score(y_test, DT.predict(X_test)),\r\n",
        "                                            #recall_score(y_test, RF_CV.predict(X_test)),\r\n",
        "                                            recall_score(y_test, GBC.predict(X_test)),\r\n",
        "                                            recall_score(y_test, ABC.predict(X_test)),\r\n",
        "                                            recall_score(y_test, XGB.predict(X_test)),\r\n",
        "                                            recall_score(y_test, LGB.predict(X_test)),\r\n",
        "                                            recall_score(y_test, KNN.predict(X_test))]})\r\n",
        "\r\n",
        "result"
      ],
      "execution_count": null,
      "outputs": [
        {
          "output_type": "execute_result",
          "data": {
            "text/html": [
              "<div>\n",
              "<style scoped>\n",
              "    .dataframe tbody tr th:only-of-type {\n",
              "        vertical-align: middle;\n",
              "    }\n",
              "\n",
              "    .dataframe tbody tr th {\n",
              "        vertical-align: top;\n",
              "    }\n",
              "\n",
              "    .dataframe thead th {\n",
              "        text-align: right;\n",
              "    }\n",
              "</style>\n",
              "<table border=\"1\" class=\"dataframe\">\n",
              "  <thead>\n",
              "    <tr style=\"text-align: right;\">\n",
              "      <th></th>\n",
              "      <th>Name</th>\n",
              "      <th>Accuracy</th>\n",
              "      <th>Recall</th>\n",
              "    </tr>\n",
              "  </thead>\n",
              "  <tbody>\n",
              "    <tr>\n",
              "      <th>0</th>\n",
              "      <td>LR</td>\n",
              "      <td>0.999380</td>\n",
              "      <td>0.756757</td>\n",
              "    </tr>\n",
              "    <tr>\n",
              "      <th>1</th>\n",
              "      <td>DT</td>\n",
              "      <td>0.999356</td>\n",
              "      <td>0.844595</td>\n",
              "    </tr>\n",
              "    <tr>\n",
              "      <th>2</th>\n",
              "      <td>GBC</td>\n",
              "      <td>0.999473</td>\n",
              "      <td>0.763514</td>\n",
              "    </tr>\n",
              "    <tr>\n",
              "      <th>3</th>\n",
              "      <td>ABC</td>\n",
              "      <td>0.999169</td>\n",
              "      <td>0.635135</td>\n",
              "    </tr>\n",
              "    <tr>\n",
              "      <th>4</th>\n",
              "      <td>XGB</td>\n",
              "      <td>0.999590</td>\n",
              "      <td>0.831081</td>\n",
              "    </tr>\n",
              "    <tr>\n",
              "      <th>5</th>\n",
              "      <td>LGB</td>\n",
              "      <td>0.999555</td>\n",
              "      <td>0.810811</td>\n",
              "    </tr>\n",
              "    <tr>\n",
              "      <th>6</th>\n",
              "      <td>KNN</td>\n",
              "      <td>0.999321</td>\n",
              "      <td>0.682432</td>\n",
              "    </tr>\n",
              "  </tbody>\n",
              "</table>\n",
              "</div>"
            ],
            "text/plain": [
              "  Name  Accuracy    Recall\n",
              "0   LR  0.999380  0.756757\n",
              "1   DT  0.999356  0.844595\n",
              "2  GBC  0.999473  0.763514\n",
              "3  ABC  0.999169  0.635135\n",
              "4  XGB  0.999590  0.831081\n",
              "5  LGB  0.999555  0.810811\n",
              "6  KNN  0.999321  0.682432"
            ]
          },
          "metadata": {
            "tags": []
          },
          "execution_count": 191
        }
      ]
    },
    {
      "cell_type": "markdown",
      "metadata": {
        "id": "-hbcY0YTxc9t"
      },
      "source": [
        "### 1.Accuracy 비교"
      ]
    },
    {
      "cell_type": "code",
      "metadata": {
        "colab": {
          "base_uri": "https://localhost:8080/"
        },
        "id": "mhDGNZoozn9S",
        "outputId": "18eb11de-1fdf-4ddd-a179-a255f9b106f5"
      },
      "source": [
        "result = result.sort_values(['Accuracy']).reset_index(drop=True)\r\n",
        "print (result)"
      ],
      "execution_count": null,
      "outputs": [
        {
          "output_type": "stream",
          "text": [
            "  Name  Accuracy    Recall\n",
            "0  ABC  0.999169  0.635135\n",
            "1  KNN  0.999321  0.682432\n",
            "2   DT  0.999356  0.844595\n",
            "3   LR  0.999380  0.756757\n",
            "4  GBC  0.999473  0.763514\n",
            "5  LGB  0.999555  0.810811\n",
            "6  XGB  0.999590  0.831081\n"
          ],
          "name": "stdout"
        }
      ]
    },
    {
      "cell_type": "code",
      "metadata": {
        "colab": {
          "base_uri": "https://localhost:8080/",
          "height": 279
        },
        "id": "veS73nT-zuWh",
        "outputId": "d238602a-3bc2-4cd9-9896-174507ab5c70"
      },
      "source": [
        "sns.barplot(data = result, x = 'Name', y = 'Accuracy')\r\n",
        "\r\n",
        "plt.show()"
      ],
      "execution_count": null,
      "outputs": [
        {
          "output_type": "display_data",
          "data": {
            "image/png": "[encoded data removed]",
            "text/plain": [
              "<Figure size 432x288 with 1 Axes>"
            ]
          },
          "metadata": {
            "tags": [],
            "needs_background": "light"
          }
        }
      ]
    },
    {
      "cell_type": "markdown",
      "metadata": {
        "id": "jRkgLsrawGS2"
      },
      "source": [
        "### 2.Recall 비교\r\n",
        "사기로 예측된 건 중 오류인 경우를 줄이는 것이 가장 이상적이기 때문에, recall율이 높을수록 좋은 모델이다."
      ]
    },
    {
      "cell_type": "code",
      "metadata": {
        "colab": {
          "base_uri": "https://localhost:8080/"
        },
        "id": "u-9cw8LmwF58",
        "outputId": "ef0fe5bf-13bb-4796-e0c2-b1226d5762eb"
      },
      "source": [
        "result = result.sort_values(['Recall']).reset_index(drop=True)\r\n",
        "print (result)"
      ],
      "execution_count": null,
      "outputs": [
        {
          "output_type": "stream",
          "text": [
            "  Name  Accuracy    Recall\n",
            "0  ABC  0.999169  0.635135\n",
            "1  KNN  0.999321  0.682432\n",
            "2   LR  0.999380  0.756757\n",
            "3  GBC  0.999473  0.763514\n",
            "4  LGB  0.999555  0.810811\n",
            "5  XGB  0.999590  0.831081\n",
            "6   DT  0.999356  0.844595\n"
          ],
          "name": "stdout"
        }
      ]
    },
    {
      "cell_type": "code",
      "metadata": {
        "colab": {
          "base_uri": "https://localhost:8080/",
          "height": 279
        },
        "id": "-hTjVVcx0VIk",
        "outputId": "eb07141b-00aa-430a-9a91-3417bb50d91e"
      },
      "source": [
        "sns.barplot(data = result, x = 'Name', y = 'Recall')\r\n",
        "\r\n",
        "plt.show()"
      ],
      "execution_count": null,
      "outputs": [
        {
          "output_type": "display_data",
          "data": {
            "image/png": "[encoded data removed]",
            "text/plain": [
              "<Figure size 432x288 with 1 Axes>"
            ]
          },
          "metadata": {
            "tags": [],
            "needs_background": "light"
          }
        }
      ]
    }
  ]
}